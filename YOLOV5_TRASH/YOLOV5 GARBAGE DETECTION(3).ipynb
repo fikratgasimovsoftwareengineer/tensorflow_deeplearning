{
 "cells": [
  {
   "cell_type": "code",
   "execution_count": 1,
   "id": "97a47975",
   "metadata": {},
   "outputs": [
    {
     "name": "stdout",
     "output_type": "stream",
     "text": [
      "Thu Mar  2 15:26:06 2023       \r\n",
      "+-----------------------------------------------------------------------------+\r\n",
      "| NVIDIA-SMI 510.108.03   Driver Version: 510.108.03   CUDA Version: 11.6     |\r\n",
      "|-------------------------------+----------------------+----------------------+\r\n",
      "| GPU  Name        Persistence-M| Bus-Id        Disp.A | Volatile Uncorr. ECC |\r\n",
      "| Fan  Temp  Perf  Pwr:Usage/Cap|         Memory-Usage | GPU-Util  Compute M. |\r\n",
      "|                               |                      |               MIG M. |\r\n",
      "|===============================+======================+======================|\r\n",
      "|   0  NVIDIA GeForce ...  Off  | 00000000:02:00.0  On |                  N/A |\r\n",
      "|  0%   40C    P8    15W / 200W |    740MiB /  8192MiB |     17%      Default |\r\n",
      "|                               |                      |                  N/A |\r\n",
      "+-------------------------------+----------------------+----------------------+\r\n",
      "                                                                               \r\n",
      "+-----------------------------------------------------------------------------+\r\n",
      "| Processes:                                                                  |\r\n",
      "|  GPU   GI   CI        PID   Type   Process name                  GPU Memory |\r\n",
      "|        ID   ID                                                   Usage      |\r\n",
      "|=============================================================================|\r\n",
      "+-----------------------------------------------------------------------------+\r\n"
     ]
    }
   ],
   "source": [
    "!nvidia-smi"
   ]
  },
  {
   "cell_type": "code",
   "execution_count": 2,
   "id": "7032f78e",
   "metadata": {},
   "outputs": [
    {
     "name": "stdout",
     "output_type": "stream",
     "text": [
      "Looking in indexes: https://pypi.org/simple, https://pypi.ngc.nvidia.com\n",
      "Requirement already satisfied: setuptools in /usr/local/lib/python3.8/dist-packages (67.4.0)\n",
      "Requirement already satisfied: pip in /usr/local/lib/python3.8/dist-packages (23.0.1)\n",
      "\u001b[33mWARNING: Running pip as the 'root' user can result in broken permissions and conflicting behaviour with the system package manager. It is recommended to use a virtual environment instead: https://pip.pypa.io/warnings/venv\u001b[0m\u001b[33m\n",
      "\u001b[0m"
     ]
    }
   ],
   "source": [
    "!python3 -m pip install --upgrade setuptools pip"
   ]
  },
  {
   "cell_type": "code",
   "execution_count": 5,
   "id": "2dce890b",
   "metadata": {},
   "outputs": [],
   "source": [
    "import glob\n",
    "import shutil\n",
    "import cv2\n",
    "import os\n",
    "import re\n",
    "import numpy as np\n",
    "from PIL import Image\n",
    "from sklearn.model_selection import train_test_split as tts\n",
    "import matplotlib.pyplot as plt\n",
    "import pandas as pd\n",
    "import seaborn as sns\n",
    "import random\n",
    "import PIL"
   ]
  },
  {
   "cell_type": "code",
   "execution_count": 4,
   "id": "89d6af4b",
   "metadata": {},
   "outputs": [
    {
     "name": "stdout",
     "output_type": "stream",
     "text": [
      "Looking in indexes: https://pypi.org/simple, https://pypi.ngc.nvidia.com\n",
      "Collecting scikit-learn\n",
      "  Downloading scikit_learn-1.2.1-cp38-cp38-manylinux_2_17_x86_64.manylinux2014_x86_64.whl (9.8 MB)\n",
      "\u001b[2K     \u001b[90m━━━━━━━━━━━━━━━━━━━━━━━━━━━━━━━━━━━━━━━━\u001b[0m \u001b[32m9.8/9.8 MB\u001b[0m \u001b[31m103.0 MB/s\u001b[0m eta \u001b[36m0:00:00\u001b[0m \u001b[36m0:00:01\u001b[0m\n",
      "\u001b[?25hCollecting threadpoolctl>=2.0.0\n",
      "  Downloading threadpoolctl-3.1.0-py3-none-any.whl (14 kB)\n",
      "Requirement already satisfied: scipy>=1.3.2 in /usr/local/lib/python3.8/dist-packages (from scikit-learn) (1.10.1)\n",
      "Collecting joblib>=1.1.1\n",
      "  Downloading joblib-1.2.0-py3-none-any.whl (297 kB)\n",
      "\u001b[2K     \u001b[90m━━━━━━━━━━━━━━━━━━━━━━━━━━━━━━━━━━━━━\u001b[0m \u001b[32m298.0/298.0 kB\u001b[0m \u001b[31m171.5 MB/s\u001b[0m eta \u001b[36m0:00:00\u001b[0m\n",
      "\u001b[?25hRequirement already satisfied: numpy>=1.17.3 in /usr/local/lib/python3.8/dist-packages (from scikit-learn) (1.23.4)\n",
      "Installing collected packages: threadpoolctl, joblib, scikit-learn\n",
      "Successfully installed joblib-1.2.0 scikit-learn-1.2.1 threadpoolctl-3.1.0\n",
      "\u001b[33mWARNING: Running pip as the 'root' user can result in broken permissions and conflicting behaviour with the system package manager. It is recommended to use a virtual environment instead: https://pip.pypa.io/warnings/venv\u001b[0m\u001b[33m\n",
      "\u001b[0m"
     ]
    }
   ],
   "source": [
    "!pip install -U scikit-learn"
   ]
  },
  {
   "cell_type": "code",
   "execution_count": 6,
   "id": "2c8817ea",
   "metadata": {},
   "outputs": [
    {
     "data": {
      "text/plain": [
       "'/app'"
      ]
     },
     "execution_count": 6,
     "metadata": {},
     "output_type": "execute_result"
    }
   ],
   "source": [
    "pwd"
   ]
  },
  {
   "cell_type": "code",
   "execution_count": 7,
   "id": "d71d5d26",
   "metadata": {},
   "outputs": [
    {
     "name": "stdout",
     "output_type": "stream",
     "text": [
      "Copy_of_YOloV5_.ipynb  \u001b[0m\u001b[01;34mannotations\u001b[0m/  \u001b[01;34mimages\u001b[0m/  yolov5s.pt\r\n",
      "Untitled.ipynb         \u001b[01;34mdata\u001b[0m/         \u001b[01;34myolov5\u001b[0m/\r\n"
     ]
    }
   ],
   "source": [
    "ls /app/"
   ]
  },
  {
   "cell_type": "code",
   "execution_count": 15,
   "id": "76ebbe85",
   "metadata": {},
   "outputs": [
    {
     "name": "stdout",
     "output_type": "stream",
     "text": [
      "/app\n"
     ]
    }
   ],
   "source": [
    "cd /app"
   ]
  },
  {
   "cell_type": "code",
   "execution_count": 16,
   "id": "58210770",
   "metadata": {},
   "outputs": [
    {
     "name": "stdout",
     "output_type": "stream",
     "text": [
      " Copy_of_YOloV5_.ipynb   \u001b[0m\u001b[01;34mannotations\u001b[0m/  \u001b[01;34m'garbage classification'\u001b[0m/   \u001b[01;34myolov5\u001b[0m/\r\n",
      " Untitled.ipynb          \u001b[01;34mdata\u001b[0m/          \u001b[01;34mimages\u001b[0m/                    yolov5s.pt\r\n"
     ]
    }
   ],
   "source": [
    "ls "
   ]
  },
  {
   "cell_type": "code",
   "execution_count": 54,
   "id": "8f080ce3",
   "metadata": {},
   "outputs": [],
   "source": [
    "base_dir = \"/app/garbage classification/Garbage classification\"\n",
    "train_dir = os.path.join(base_dir, 'train')\n",
    "train_img_dir = os.path.join(train_dir, 'images')\n",
    "train_label_dir = os.path.join(train_dir, 'labels')\n",
    "\n",
    "test_dir = os.path.join(base_dir, 'test')\n",
    "test_img_dir = os.path.join(test_dir, 'images')\n",
    "test_label_dir = os.path.join(test_dir, 'labels')\n"
   ]
  },
  {
   "cell_type": "code",
   "execution_count": 55,
   "id": "9fbd1e7c",
   "metadata": {},
   "outputs": [],
   "source": [
    "def create_dir(path):\n",
    "    if not os.path.exists(path):\n",
    "        os.mkdir(path)"
   ]
  },
  {
   "cell_type": "code",
   "execution_count": 30,
   "id": "6ab9e092",
   "metadata": {},
   "outputs": [],
   "source": [
    "import torch\n",
    "import torchvision\n",
    "from torch.utils.data import random_split\n",
    "import torchvision.models as models\n",
    "import torch.nn as nn\n",
    "import torch.nn.functional as F"
   ]
  },
  {
   "cell_type": "code",
   "execution_count": 31,
   "id": "5f6a2f84",
   "metadata": {},
   "outputs": [
    {
     "name": "stdout",
     "output_type": "stream",
     "text": [
      "1.13.1+cu117\n"
     ]
    }
   ],
   "source": [
    "print(torch.__version__)"
   ]
  },
  {
   "cell_type": "code",
   "execution_count": 56,
   "id": "9c0fb2ba",
   "metadata": {},
   "outputs": [],
   "source": [
    "create_dir(train_dir)"
   ]
  },
  {
   "cell_type": "code",
   "execution_count": 57,
   "id": "0560ca8f",
   "metadata": {},
   "outputs": [],
   "source": [
    "create_dir(train_img_dir)\n",
    "create_dir(train_label_dir)"
   ]
  },
  {
   "cell_type": "code",
   "execution_count": 58,
   "id": "bf393553",
   "metadata": {},
   "outputs": [],
   "source": [
    "create_dir(test_dir)\n",
    "create_dir(test_img_dir)\n",
    "create_dir(test_label_dir)"
   ]
  },
  {
   "cell_type": "code",
   "execution_count": 33,
   "id": "0eefc63d",
   "metadata": {},
   "outputs": [
    {
     "data": {
      "text/plain": [
       "['cardboard', 'test', 'metal', 'trash', 'train', 'glass', 'paper', 'plastic']"
      ]
     },
     "execution_count": 33,
     "metadata": {},
     "output_type": "execute_result"
    }
   ],
   "source": [
    "# visualize Classes\n",
    "base_dir = \"/app/garbage classification/Garbage classification\"\n",
    "\n",
    "classes = os.listdir(base_dir)\n",
    "\n",
    "classes\n"
   ]
  },
  {
   "cell_type": "code",
   "execution_count": 63,
   "id": "db1eee0e",
   "metadata": {},
   "outputs": [],
   "source": [
    "class_dirs = {name: os.path.join(base_dir, name) for name in classes}"
   ]
  },
  {
   "cell_type": "code",
   "execution_count": 64,
   "id": "a050bf6c",
   "metadata": {},
   "outputs": [
    {
     "data": {
      "text/plain": [
       "{'cardboard': '/app/garbage classification/Garbage classification/cardboard',\n",
       " 'test': '/app/garbage classification/Garbage classification/test',\n",
       " 'metal': '/app/garbage classification/Garbage classification/metal',\n",
       " 'trash': '/app/garbage classification/Garbage classification/trash',\n",
       " 'train': '/app/garbage classification/Garbage classification/train',\n",
       " 'glass': '/app/garbage classification/Garbage classification/glass',\n",
       " 'paper': '/app/garbage classification/Garbage classification/paper',\n",
       " 'plastic': '/app/garbage classification/Garbage classification/plastic'}"
      ]
     },
     "execution_count": 64,
     "metadata": {},
     "output_type": "execute_result"
    }
   ],
   "source": [
    "class_dirs"
   ]
  },
  {
   "cell_type": "code",
   "execution_count": 68,
   "id": "f50dfc03",
   "metadata": {},
   "outputs": [
    {
     "ename": "IsADirectoryError",
     "evalue": "[Errno 21] Is a directory: '/app/garbage classification/Garbage classification/test/cardboard'",
     "output_type": "error",
     "traceback": [
      "\u001b[0;31m---------------------------------------------------------------------------\u001b[0m",
      "\u001b[0;31mIsADirectoryError\u001b[0m                         Traceback (most recent call last)",
      "Cell \u001b[0;32mIn[68], line 18\u001b[0m\n\u001b[1;32m     16\u001b[0m     src_path \u001b[38;5;241m=\u001b[39m os\u001b[38;5;241m.\u001b[39mpath\u001b[38;5;241m.\u001b[39mjoin(class_dirs[class_name], filename)\n\u001b[1;32m     17\u001b[0m     dst_path \u001b[38;5;241m=\u001b[39m os\u001b[38;5;241m.\u001b[39mpath\u001b[38;5;241m.\u001b[39mjoin(class_train_dir, filename)\n\u001b[0;32m---> 18\u001b[0m     \u001b[43mshutil\u001b[49m\u001b[38;5;241;43m.\u001b[39;49m\u001b[43mcopyfile\u001b[49m\u001b[43m(\u001b[49m\u001b[43msrc_path\u001b[49m\u001b[43m,\u001b[49m\u001b[43m \u001b[49m\u001b[43mdst_path\u001b[49m\u001b[43m)\u001b[49m\n\u001b[1;32m     20\u001b[0m     \u001b[38;5;66;03m# Move test files   \u001b[39;00m\n\u001b[1;32m     21\u001b[0m \u001b[38;5;28;01mfor\u001b[39;00m filename \u001b[38;5;129;01min\u001b[39;00m test_filenames:\n",
      "File \u001b[0;32m/usr/lib/python3.8/shutil.py:264\u001b[0m, in \u001b[0;36mcopyfile\u001b[0;34m(src, dst, follow_symlinks)\u001b[0m\n\u001b[1;32m    262\u001b[0m     os\u001b[38;5;241m.\u001b[39msymlink(os\u001b[38;5;241m.\u001b[39mreadlink(src), dst)\n\u001b[1;32m    263\u001b[0m \u001b[38;5;28;01melse\u001b[39;00m:\n\u001b[0;32m--> 264\u001b[0m     \u001b[38;5;28;01mwith\u001b[39;00m \u001b[38;5;28;43mopen\u001b[39;49m\u001b[43m(\u001b[49m\u001b[43msrc\u001b[49m\u001b[43m,\u001b[49m\u001b[43m \u001b[49m\u001b[38;5;124;43m'\u001b[39;49m\u001b[38;5;124;43mrb\u001b[39;49m\u001b[38;5;124;43m'\u001b[39;49m\u001b[43m)\u001b[49m \u001b[38;5;28;01mas\u001b[39;00m fsrc, \u001b[38;5;28mopen\u001b[39m(dst, \u001b[38;5;124m'\u001b[39m\u001b[38;5;124mwb\u001b[39m\u001b[38;5;124m'\u001b[39m) \u001b[38;5;28;01mas\u001b[39;00m fdst:\n\u001b[1;32m    265\u001b[0m         \u001b[38;5;66;03m# macOS\u001b[39;00m\n\u001b[1;32m    266\u001b[0m         \u001b[38;5;28;01mif\u001b[39;00m _HAS_FCOPYFILE:\n\u001b[1;32m    267\u001b[0m             \u001b[38;5;28;01mtry\u001b[39;00m:\n",
      "\u001b[0;31mIsADirectoryError\u001b[0m: [Errno 21] Is a directory: '/app/garbage classification/Garbage classification/test/cardboard'"
     ]
    }
   ],
   "source": [
    "for class_name in classes:\n",
    "    class_train_dir = os.path.join(train_dir, class_name)\n",
    "    class_test_dir = os.path.join(test_dir, class_name)\n",
    "    os.makedirs(class_train_dir, exist_ok=True)\n",
    "    os.makedirs(class_test_dir, exist_ok=True)\n",
    "    \n",
    "    filenames = os.listdir(class_dirs[class_name])\n",
    "    random.shuffle(filenames)\n",
    "    \n",
    "    \n",
    "    split_idx = int(len(filenames) * 0.8)\n",
    "    train_filenames = filenames[:split_idx]\n",
    "    test_filenames = filenames[split_idx:]\n",
    "    \n",
    "    for filename in train_filenames:\n",
    "        src_path = os.path.join(class_dirs[class_name], filename)\n",
    "        dst_path = os.path.join(class_train_dir, filename)\n",
    "        shutil.copyfile(src_path, dst_path)\n",
    "        \n",
    "        # Move test files   \n",
    "    for filename in test_filenames:\n",
    "        src_path = os.path.join(class_dirs[class_name], filename)\n",
    "        dst_path = os.path.join(class_test_dir, filename)\n",
    "        shutil.copyfile(src_path, dst_path)\n"
   ]
  },
  {
   "cell_type": "code",
   "execution_count": 69,
   "id": "e1f091e0",
   "metadata": {},
   "outputs": [],
   "source": [
    "import os\n",
    "import random\n",
    "import shutil\n",
    "\n",
    "dataset_dir = '/app/garbage classification/Garbage classification'\n",
    "train_dir = '/app/garbage classification/Garbage classification/train'\n",
    "test_dir = '/app/garbage classification/Garbage classification/test'\n",
    "\n",
    "if not os.path.exists(train_dir):\n",
    "    os.makedirs(train_dir)\n",
    "\n",
    "if not os.path.exists(test_dir):\n",
    "    os.makedirs(test_dir)\n",
    "\n",
    "for class_name in os.listdir(dataset_dir):\n",
    "    class_dir = os.path.join(dataset_dir, class_name)\n",
    "    if not os.path.isdir(class_dir):\n",
    "        continue\n",
    "\n",
    "    train_class_dir = os.path.join(train_dir, class_name)\n",
    "    if not os.path.exists(train_class_dir):\n",
    "        os.makedirs(train_class_dir)\n",
    "\n",
    "    test_class_dir = os.path.join(test_dir, class_name)\n",
    "    if not os.path.exists(test_class_dir):\n",
    "        os.makedirs(test_class_dir)\n",
    "\n",
    "    file_list = os.listdir(class_dir)\n",
    "    file_list = [file for file in file_list if file.endswith('.jpg') or file.endswith('.jpeg') or file.endswith('.png')]\n",
    "\n",
    "    random.shuffle(file_list)\n",
    "    train_files = file_list[:int(0.8*len(file_list))]\n",
    "    test_files = file_list[int(0.8*len(file_list)):]\n",
    "\n",
    "    for file in train_files:\n",
    "        src_path = os.path.join(class_dir, file)\n",
    "        dst_path = os.path.join(train_class_dir, file)\n",
    "        shutil.move(src_path, dst_path)\n",
    "\n",
    "    for file in test_files:\n",
    "        src_path = os.path.join(class_dir, file)\n",
    "        dst_path = os.path.join(test_class_dir, file)\n",
    "        shutil.move(src_path, dst_path)\n"
   ]
  },
  {
   "cell_type": "code",
   "execution_count": 75,
   "id": "648a7656",
   "metadata": {},
   "outputs": [],
   "source": [
    "\n",
    "garbage_count=[]\n",
    "garbage_class=[]\n",
    "for i in os.listdir(base_dir+'/train'):\n",
    "    garbage_class.append(i)\n",
    "    garbage_count.append(len(os.listdir(os.path.join(base_dir+'/train', i))))\n",
    "garbage_df = pd.DataFrame({'garbage_class':garbage_class, 'garbage_count':garbage_count})\n",
    "\n"
   ]
  },
  {
   "cell_type": "code",
   "execution_count": 77,
   "id": "21d8e5e3",
   "metadata": {},
   "outputs": [],
   "source": [
    "\n",
    "garbage_count=[]\n",
    "garbage_class=[]\n",
    "for i in os.listdir(base_dir+'/test'):\n",
    "    garbage_class.append(i)\n",
    "    garbage_count.append(len(os.listdir(os.path.join(base_dir+'/test', i))))\n",
    "garbage_df_2 = pd.DataFrame({'garbage_class':garbage_class, 'garbage_count':garbage_count})\n"
   ]
  },
  {
   "cell_type": "code",
   "execution_count": 78,
   "id": "c8297e87",
   "metadata": {},
   "outputs": [
    {
     "data": {
      "text/html": [
       "<div>\n",
       "<style scoped>\n",
       "    .dataframe tbody tr th:only-of-type {\n",
       "        vertical-align: middle;\n",
       "    }\n",
       "\n",
       "    .dataframe tbody tr th {\n",
       "        vertical-align: top;\n",
       "    }\n",
       "\n",
       "    .dataframe thead th {\n",
       "        text-align: right;\n",
       "    }\n",
       "</style>\n",
       "<table border=\"1\" class=\"dataframe\">\n",
       "  <thead>\n",
       "    <tr style=\"text-align: right;\">\n",
       "      <th></th>\n",
       "      <th>garbage_class</th>\n",
       "      <th>garbage_count</th>\n",
       "    </tr>\n",
       "  </thead>\n",
       "  <tbody>\n",
       "    <tr>\n",
       "      <th>0</th>\n",
       "      <td>cardboard</td>\n",
       "      <td>81</td>\n",
       "    </tr>\n",
       "    <tr>\n",
       "      <th>1</th>\n",
       "      <td>metal</td>\n",
       "      <td>82</td>\n",
       "    </tr>\n",
       "    <tr>\n",
       "      <th>2</th>\n",
       "      <td>trash</td>\n",
       "      <td>28</td>\n",
       "    </tr>\n",
       "    <tr>\n",
       "      <th>3</th>\n",
       "      <td>glass</td>\n",
       "      <td>101</td>\n",
       "    </tr>\n",
       "    <tr>\n",
       "      <th>4</th>\n",
       "      <td>paper</td>\n",
       "      <td>119</td>\n",
       "    </tr>\n",
       "    <tr>\n",
       "      <th>5</th>\n",
       "      <td>plastic</td>\n",
       "      <td>97</td>\n",
       "    </tr>\n",
       "  </tbody>\n",
       "</table>\n",
       "</div>"
      ],
      "text/plain": [
       "  garbage_class  garbage_count\n",
       "0     cardboard             81\n",
       "1         metal             82\n",
       "2         trash             28\n",
       "3         glass            101\n",
       "4         paper            119\n",
       "5       plastic             97"
      ]
     },
     "execution_count": 78,
     "metadata": {},
     "output_type": "execute_result"
    }
   ],
   "source": [
    "garbage_df_2"
   ]
  },
  {
   "cell_type": "code",
   "execution_count": 76,
   "id": "94e8c678",
   "metadata": {},
   "outputs": [
    {
     "data": {
      "text/html": [
       "<div>\n",
       "<style scoped>\n",
       "    .dataframe tbody tr th:only-of-type {\n",
       "        vertical-align: middle;\n",
       "    }\n",
       "\n",
       "    .dataframe tbody tr th {\n",
       "        vertical-align: top;\n",
       "    }\n",
       "\n",
       "    .dataframe thead th {\n",
       "        text-align: right;\n",
       "    }\n",
       "</style>\n",
       "<table border=\"1\" class=\"dataframe\">\n",
       "  <thead>\n",
       "    <tr style=\"text-align: right;\">\n",
       "      <th></th>\n",
       "      <th>garbage_class</th>\n",
       "      <th>garbage_count</th>\n",
       "    </tr>\n",
       "  </thead>\n",
       "  <tbody>\n",
       "    <tr>\n",
       "      <th>0</th>\n",
       "      <td>cardboard</td>\n",
       "      <td>322</td>\n",
       "    </tr>\n",
       "    <tr>\n",
       "      <th>1</th>\n",
       "      <td>metal</td>\n",
       "      <td>328</td>\n",
       "    </tr>\n",
       "    <tr>\n",
       "      <th>2</th>\n",
       "      <td>trash</td>\n",
       "      <td>109</td>\n",
       "    </tr>\n",
       "    <tr>\n",
       "      <th>3</th>\n",
       "      <td>glass</td>\n",
       "      <td>400</td>\n",
       "    </tr>\n",
       "    <tr>\n",
       "      <th>4</th>\n",
       "      <td>paper</td>\n",
       "      <td>475</td>\n",
       "    </tr>\n",
       "    <tr>\n",
       "      <th>5</th>\n",
       "      <td>plastic</td>\n",
       "      <td>385</td>\n",
       "    </tr>\n",
       "  </tbody>\n",
       "</table>\n",
       "</div>"
      ],
      "text/plain": [
       "  garbage_class  garbage_count\n",
       "0     cardboard            322\n",
       "1         metal            328\n",
       "2         trash            109\n",
       "3         glass            400\n",
       "4         paper            475\n",
       "5       plastic            385"
      ]
     },
     "execution_count": 76,
     "metadata": {},
     "output_type": "execute_result"
    }
   ],
   "source": [
    "garbage_df"
   ]
  },
  {
   "cell_type": "code",
   "execution_count": null,
   "id": "d8e867b4",
   "metadata": {},
   "outputs": [],
   "source": []
  },
  {
   "cell_type": "code",
   "execution_count": 24,
   "id": "a3974897",
   "metadata": {},
   "outputs": [],
   "source": [
    "garbage_count = []\n",
    "garbage_class = []\n",
    "\n",
    "for i in os.listdir(base_dir  + \"/train\"):\n",
    "    garbage_class.append(i)\n",
    "    garbage_count.append(len(os.listdir(os.path.join(base_dir + \"/train\", i))))\n",
    "garbage_df = pd.DataFrame({'garbage_class':garbage_class, 'garbage_count':garbage_count})"
   ]
  },
  {
   "cell_type": "code",
   "execution_count": 79,
   "id": "336f724e",
   "metadata": {},
   "outputs": [
    {
     "data": {
      "image/png": "[encoded data removed]",
      "text/plain": [
       "<Figure size 2500x600 with 2 Axes>"
      ]
     },
     "metadata": {},
     "output_type": "display_data"
    }
   ],
   "source": [
    "%matplotlib inline\n",
    "fig,axes = plt.subplots(1,2,figsize=(25,6), gridspec_kw=dict(wspace=0.005))\n",
    "sns.barplot(data=garbage_df, x='garbage_class', y='garbage_count',ax=axes[0], alpha=0.5)\n",
    "for i in axes[0].get_xticklabels():\n",
    "    i.set_font('monospace')\n",
    "    i.set_weight('semibold')\n",
    "    i.set_size(12)\n",
    "for j in axes[0].containers:\n",
    "    axes[0].bar_label(j)\n",
    "    \n",
    "axes[0].set_xlabel('')\n",
    "axes[0].set_ylabel('count', font='monospace', weight='semibold', size=12)\n",
    "axes[0].set_title('The Garbage Class Distribution\\n', font='monospace', weight='semibold', size=15)\n",
    "\n",
    "patches, texts, pcts = axes[1].pie(garbage_df['garbage_count'], labels=garbage_df['garbage_class'], wedgeprops={'linewidth': 2, 'edgecolor': 'white'},\n",
    "            textprops={'size': 'x-large'}, startangle=90, autopct='%1.2f%%');\n",
    "for i, patch in enumerate(patches):\n",
    "    texts[i].set_color(patch.get_facecolor())\n",
    "    patch.set_alpha(0.5)\n",
    "for j in pcts:\n",
    "    j.set_size(10)\n",
    "    j.set_color('white')\n",
    "    j.set_weight('semibold')\n",
    "plt.setp(texts, fontweight='semibold', font='monospace')\n",
    "axes[1].legend(loc=[1,0.5])\n",
    "axes[1].set_title('The Garbage Class Distribution\\n', font='monospace', weight='semibold', size=15);"
   ]
  },
  {
   "cell_type": "code",
   "execution_count": 80,
   "id": "39733114",
   "metadata": {},
   "outputs": [],
   "source": [
    "def create_yolo_boundbox(img_path):\n",
    "    image = cv2.imread(img_path)\n",
    "    image = cv2.cvtColor(image, cv2.COLOR_BGR2HSV)\n",
    "    \n",
    "    lower = np.array([20,20,20], dtype='uint8')\n",
    "    upper = np.array([200,200,200],dtype='uint8')\n",
    "    img = cv2.inRange(image, lower, upper)\n",
    "    \n",
    "    \n",
    "    img = cv2.blur(img, (2,2))\n",
    "    ret, thres = cv2.threshold(img, 0, 255, cv2.THRESH_BINARY)\n",
    "    img = cv2.bitwise_not(thres)\n",
    "    contours, hierarchy = cv2.findContours(img,cv2.RETR_TREE,cv2.CHAIN_APPROX_SIMPLE)\n",
    "    contours = max(contours, key=lambda x: cv2.contourArea(x))\n",
    "    \n",
    "    # get bounding box coordinates\n",
    "    xmin, ymin, xmax, ymax = cv2.boundingRect(countours)\n",
    "    dimensions = img.shape\n",
    "    h = img.shape[0]\n",
    "    w = img.shape[1]\n",
    "    \n",
    "    # to calculate bndBox info for yolov5\n",
    "    xp = (xmin + (xmax-xmin)/2) * 1.0 /w\n",
    "    yp = (ymin + (ymax- ymin )/2 ) *1.0 /h\n",
    "    wp = (xmax - xmin) * 1.0 / w\n",
    "    hp = (ymax - ymin ) *1.0 / h\n",
    "    \n",
    "    return xp, yp, wp, hp\n",
    "    \n",
    "    "
   ]
  },
  {
   "cell_type": "code",
   "execution_count": null,
   "id": "d877ae61",
   "metadata": {},
   "outputs": [],
   "source": []
  }
 ],
 "metadata": {
  "kernelspec": {
   "display_name": "Python 3 (ipykernel)",
   "language": "python",
   "name": "python3"
  },
  "language_info": {
   "codemirror_mode": {
    "name": "ipython",
    "version": 3
   },
   "file_extension": ".py",
   "mimetype": "text/x-python",
   "name": "python",
   "nbconvert_exporter": "python",
   "pygments_lexer": "ipython3",
   "version": "3.8.10"
  }
 },
 "nbformat": 4,
 "nbformat_minor": 5
}
