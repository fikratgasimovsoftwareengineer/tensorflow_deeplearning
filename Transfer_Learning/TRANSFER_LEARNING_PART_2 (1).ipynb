{
  "nbformat": 4,
  "nbformat_minor": 0,
  "metadata": {
    "colab": {
      "provenance": [],
      "private_outputs": true
    },
    "kernelspec": {
      "name": "python3",
      "display_name": "Python 3"
    },
    "language_info": {
      "name": "python"
    },
    "accelerator": "GPU",
    "gpuClass": "standard"
  },
  "cells": [
    {
      "cell_type": "code",
      "execution_count": null,
      "metadata": {
        "id": "C3uDnoX76hCf"
      },
      "outputs": [],
      "source": [
        "#@title TENSORFLOW -  FINE TUNING PART 2"
      ]
    },
    {
      "cell_type": "code",
      "source": [],
      "metadata": {
        "id": "osXbsP9zEL-_"
      },
      "execution_count": null,
      "outputs": []
    },
    {
      "cell_type": "code",
      "source": [
        "import tensorflow as tf\n",
        "import os\n",
        "from tensorflow.keras.models import Sequential\n",
        "import numpy as np"
      ],
      "metadata": {
        "id": "-_J6tZSHbCQ0"
      },
      "execution_count": null,
      "outputs": []
    },
    {
      "cell_type": "code",
      "source": [
        "!nvidia-smi"
      ],
      "metadata": {
        "id": "P7tCg3EJ0VKD"
      },
      "execution_count": null,
      "outputs": []
    },
    {
      "cell_type": "code",
      "source": [
        "!mkdir -p extra"
      ],
      "metadata": {
        "id": "F_tJC2QW0W6B"
      },
      "execution_count": null,
      "outputs": []
    },
    {
      "cell_type": "code",
      "source": [
        "!cd \"/content/extra\";touch helper_functions.py"
      ],
      "metadata": {
        "id": "_nmTsjQx0W8y"
      },
      "execution_count": null,
      "outputs": []
    },
    {
      "cell_type": "code",
      "source": [
        "from extra.helper_functions import unzip_data,walk_through_dir,load_and_prep_image,create_tensorboard_callback"
      ],
      "metadata": {
        "id": "M07MPqAR0W_k"
      },
      "execution_count": null,
      "outputs": []
    },
    {
      "cell_type": "code",
      "source": [
        "# Get 10% of the data of the 10 classes\n",
        "!wget https://storage.googleapis.com/ztm_tf_course/food_vision/10_food_classes_10_percent.zip "
      ],
      "metadata": {
        "id": "uJkWV5pYXQtk"
      },
      "execution_count": null,
      "outputs": []
    },
    {
      "cell_type": "code",
      "source": [
        " unzip_data(\"/content/10_food_classes_10_percent.zip\")"
      ],
      "metadata": {
        "id": "eEvuAtnY0XCr"
      },
      "execution_count": null,
      "outputs": []
    },
    {
      "cell_type": "code",
      "source": [
        "walk_through_dir(\"10_food_classes_10_percent\")"
      ],
      "metadata": {
        "id": "E42c1FKf0XHf"
      },
      "execution_count": null,
      "outputs": []
    },
    {
      "cell_type": "code",
      "source": [
        "train_dir =  \"/content/10_food_classes_10_percent/train\"\n",
        "test_dir = \"/content/10_food_classes_10_percent/test/\""
      ],
      "metadata": {
        "id": "WeJF1US_Zax4"
      },
      "execution_count": null,
      "outputs": []
    },
    {
      "cell_type": "code",
      "source": [
        "!ls -l \"/content/10_food_classes_10_percent/train\" | wc -l"
      ],
      "metadata": {
        "id": "KH6atE4lZa04"
      },
      "execution_count": null,
      "outputs": []
    },
    {
      "cell_type": "markdown",
      "source": [],
      "metadata": {
        "id": "5KJjpnGwam7T"
      }
    },
    {
      "cell_type": "code",
      "source": [
        "!ls -l \"/content/10_food_classes_10_percent/test/\" | wc -l"
      ],
      "metadata": {
        "id": "Uu7mDjfTZa3U"
      },
      "execution_count": null,
      "outputs": []
    },
    {
      "cell_type": "code",
      "source": [
        "# create train batch and test batch dataset\n",
        "\n",
        "BATCH_SIZE=32\n",
        "IMAGE_WIDTH=224\n",
        "IMAGE_HEIGHT=224\n",
        "\n"
      ],
      "metadata": {
        "id": "h6nPMXAnbQMF"
      },
      "execution_count": null,
      "outputs": []
    },
    {
      "cell_type": "code",
      "source": [
        "train_dataset = tf.keras.utils.image_dataset_from_directory(\n",
        "    directory=train_dir,\n",
        "    shuffle = True,\n",
        "    image_size=(IMAGE_WIDTH, IMAGE_HEIGHT),\n",
        "    label_mode='categorical',\n",
        "    batch_size=BATCH_SIZE\n",
        ")\n",
        "test_dataset = tf.keras.utils.image_dataset_from_directory(\n",
        "    directory=test_dir,\n",
        "    shuffle = True,\n",
        "    image_size=(IMAGE_WIDTH, IMAGE_HEIGHT),\n",
        "    label_mode='categorical'\n",
        ")\n",
        "\n",
        "'''\n",
        "'categorical' means that the labels are encoded as a categorical vector \n",
        "(e.g. for categorical_crossentropy loss).\n",
        "Found 750 files belonging to 10 classes. for train set\n",
        "Found 2500 files belonging to 10 classes. for test set\n",
        "if label_mode is categorical, the labels are a float32 tensor of \n",
        "shape (batch_size, num_classes), representing a one-hot encoding of the class index.\n",
        "\n",
        "'''"
      ],
      "metadata": {
        "id": "lPrpoOLOZa6c"
      },
      "execution_count": null,
      "outputs": []
    },
    {
      "cell_type": "code",
      "source": [
        "train_dataset"
      ],
      "metadata": {
        "id": "OhjRuO5yvMrZ"
      },
      "execution_count": null,
      "outputs": []
    },
    {
      "cell_type": "code",
      "source": [],
      "metadata": {
        "id": "_LLO_vtzLJnu"
      },
      "execution_count": null,
      "outputs": []
    },
    {
      "cell_type": "code",
      "source": [
        "#@title CLASS NAMES #url = https://keras.io/guides/transfer_learning/; https://www.tensorflow.org/api_docs/python/tf/keras/utils/image_dataset_from_directory\n"
      ],
      "metadata": {
        "id": "pRrqlLvcZa8R"
      },
      "execution_count": null,
      "outputs": []
    },
    {
      "cell_type": "code",
      "source": [
        "#@title **THIS IS KERAS FUNCTIONAL API TUTORIAL-EfficientNetB0---\t224 & EfficientNet models expect their inputs to be float tensors of pixels with values in the [0-255] range. We should not normalize them**\n",
        "\n",
        "base_model  = tf.keras.applications.EfficientNetB0(include_top=False) # include_top = False will freeze top layer fully connected layer\n",
        "\n",
        "# freeze all layers as well\n",
        "\n",
        "base_model.trainable=False\n",
        "\n",
        "# 3. Create inputs into the base model\n",
        "input_layer = tf.keras.layers.Input(shape=(224, 224, 3), name=\"input_layer\")\n",
        "#add input to BASE MODEL!\n",
        "model_layers = base_model(input_layer)\n",
        "\n",
        "print(f\"shape after base model\")\n",
        "\n",
        "averga_pool = tf.keras.layers.GlobalAveragePooling2D(name=\"global_average_layer\")(model_layers)\n",
        "\n",
        "#add output\n",
        "output_layer = tf.keras.layers.Dense(10, activation=\"softmax\", name=\"Dense_Activation_Softmax\")(averga_pool)\n",
        "\n",
        "#aggreage model\n",
        "final_model = tf.keras.Model(input_layer, output_layer)\n",
        "\n",
        "# compile\n",
        "final_model.compile(\n",
        "    \n",
        "    loss = tf.keras.losses.categorical_crossentropy,\n",
        "    optimizer = tf.keras.optimizers.Adam(),\n",
        "    metrics= [\"accuracy\"])\n",
        "\n"
      ],
      "metadata": {
        "id": "dw4R0JqgLK_S"
      },
      "execution_count": null,
      "outputs": []
    },
    {
      "cell_type": "code",
      "source": [
        "history_0 = final_model.fit(train_dataset,\n",
        "                                 epochs=10,\n",
        "                                 steps_per_epoch=len(train_dataset),\n",
        "                                 validation_data=test_dataset,\n",
        "                                 # Go through less of the validation data so epochs are faster (we want faster experiments!)\n",
        "                                 validation_steps=int(0.25 * len(test_dataset)), \n",
        "                                 # Track our model's training logs for visualization later\n",
        "                                 callbacks=[create_tensorboard_callback(\"transfer_learning\", \"10_percent_feature_extract\")])\n"
      ],
      "metadata": {
        "id": "Ghx82RCLxqT0"
      },
      "execution_count": null,
      "outputs": []
    },
    {
      "cell_type": "code",
      "source": [
        "#@title MODEL LAYER NUMBER TOGETHER WITH MODEL LAYRES\n",
        "\n",
        "for layer_number, layer in enumerate(base_model.layers):\n",
        "  print(layer_number , layer.name)"
      ],
      "metadata": {
        "id": "sYpOQDv5GnlU"
      },
      "execution_count": null,
      "outputs": []
    },
    {
      "cell_type": "code",
      "source": [
        "base_model.summary()"
      ],
      "metadata": {
        "id": "VN19_2cSIMuS"
      },
      "execution_count": null,
      "outputs": []
    },
    {
      "cell_type": "code",
      "source": [
        "#@title **MY MODEL SUMMARY**\n",
        "final_model.summary()"
      ],
      "metadata": {
        "id": "8StJBYCkIMw0"
      },
      "execution_count": null,
      "outputs": []
    },
    {
      "cell_type": "code",
      "source": [
        "from extra.helper_functions import plot_loss_curves,pred_and_plot, walk_through_dir,unzip_data"
      ],
      "metadata": {
        "id": "AMtXF9c6IMzO"
      },
      "execution_count": null,
      "outputs": []
    },
    {
      "cell_type": "code",
      "source": [
        "!tensorboard dev upload --logdir ./transfer_learning/"
      ],
      "metadata": {
        "id": "jKPzpzJ0Jeye"
      },
      "execution_count": null,
      "outputs": []
    },
    {
      "cell_type": "code",
      "source": [
        "plot_loss_curves(history_0)"
      ],
      "metadata": {
        "id": "P3KtRZchIM14"
      },
      "execution_count": null,
      "outputs": []
    },
    {
      "cell_type": "code",
      "source": [
        "#@title  global average pooling converts 4D tensor to 2D tensor\n",
        "\n",
        "input_shape = (1, 4, 4, 3)\n",
        "tf.random.set_seed(42)\n",
        "\n",
        "input_tensor = tf.random.normal(input_shape)\n",
        "\n",
        "input_global = tf.keras.layers.GlobalAveragePooling2D()(input_tensor)\n",
        "\n",
        "input_tensor.shape, input_global.shape"
      ],
      "metadata": {
        "id": "vCemPSIJRJGP"
      },
      "execution_count": null,
      "outputs": []
    },
    {
      "cell_type": "code",
      "source": [
        "#@title predict and plot\n",
        "pred_and_plot(final_model, \"10_food_classes_1_percent/test/chicken_wings/1010547.jpg\", )"
      ],
      "metadata": {
        "id": "qQ7Zfp5ucHfS"
      },
      "execution_count": null,
      "outputs": []
    },
    {
      "cell_type": "code",
      "source": [
        "#@title **TRANSFER LEARNING-FINE TUNING**\n",
        "\n",
        "!wget https://storage.googleapis.com/ztm_tf_course/food_vision/10_food_classes_1_percent.zip"
      ],
      "metadata": {
        "id": "YegghxyuSHYg"
      },
      "execution_count": null,
      "outputs": []
    },
    {
      "cell_type": "code",
      "source": [
        "unzip_data(\"10_food_classes_1_percent.zip\")"
      ],
      "metadata": {
        "id": "krc0ou_Ybj-R"
      },
      "execution_count": null,
      "outputs": []
    },
    {
      "cell_type": "code",
      "source": [
        "walk_through_dir(\"10_food_classes_1_percent\")\n",
        "'''\n",
        "7 images on train set and 250 images on test set\n",
        "'''"
      ],
      "metadata": {
        "id": "CLCxGwEObo32"
      },
      "execution_count": null,
      "outputs": []
    },
    {
      "cell_type": "code",
      "source": [
        "IMAGE_SIZE= (224, 224)\n",
        "BATCH_SIZE=32\n",
        "train_dir = \"/content/10_food_classes_1_percent/train/\"\n",
        "test_dir = \"/content/10_food_classes_1_percent/test/\"\n",
        "\n",
        "train_data_1_percent = tf.keras.preprocessing.image_dataset_from_directory(\n",
        "    directory = train_dir,\n",
        "    label_mode='categorical',\n",
        "    image_size=IMAGE_SIZE,\n",
        "    batch_size=BATCH_SIZE\n",
        "\n",
        "\n",
        ")\n",
        "\n",
        "test_data_1_percent = tf.keras.preprocessing.image_dataset_from_directory(\n",
        "    test_dir,\n",
        "    label_mode='categorical',\n",
        "    image_size=IMAGE_SIZE\n",
        ")\n",
        "\n",
        "#Found 70 files belonging to 10 classes.\n",
        "#Found 2500 files belonging to 10 classes.\n"
      ],
      "metadata": {
        "id": "9aELheiEbz5X"
      },
      "execution_count": null,
      "outputs": []
    },
    {
      "cell_type": "code",
      "source": [
        "classes = train_data_1_percent.class_names\n",
        "testClasses = test_data_1_percent.class_names\n",
        "\n",
        "classes"
      ],
      "metadata": {
        "id": "-dUj9x85k5xH"
      },
      "execution_count": null,
      "outputs": []
    },
    {
      "cell_type": "code",
      "source": [
        "train_data_classes=len(train_data_1_percent.class_names)"
      ],
      "metadata": {
        "id": "XtflF39Yjpka"
      },
      "execution_count": null,
      "outputs": []
    },
    {
      "cell_type": "code",
      "source": [
        "#@title  TENSORFLOW FLOW DATA AUGMENTATION STEPS\n",
        "from tensorflow.keras.layers.experimental import preprocessing\n",
        "\n",
        "from tensorflow.keras import layers\n",
        "from tensorflow import keras\n",
        "import tensorflow as tf\n",
        "import matplotlib.pyplot as plt"
      ],
      "metadata": {
        "id": "xcKKJ3Z-gPWF"
      },
      "execution_count": null,
      "outputs": []
    },
    {
      "cell_type": "code",
      "source": [
        "data_augmentation = keras.models.Sequential([\n",
        "    preprocessing.RandomFlip(mode=\"horizontal\"),\n",
        "    preprocessing.RandomRotation(0.2),\n",
        "    preprocessing.RandomZoom(0.2),\n",
        "    preprocessing.RandomHeight(0.2),\n",
        "    preprocessing.RandomWidth(0.2)\n",
        "], name=\"DATA_AUGMENTATION\")"
      ],
      "metadata": {
        "id": "mrNiHQ0Cw9Fh"
      },
      "execution_count": null,
      "outputs": []
    },
    {
      "cell_type": "code",
      "source": [
        "import random\n",
        "from extra.helper_functions import display_image,augmentated_image"
      ],
      "metadata": {
        "id": "eKkOr2SL19AP"
      },
      "execution_count": null,
      "outputs": []
    },
    {
      "cell_type": "code",
      "source": [
        "#@title image displau\n",
        "display_image(train_data_1_percent, train_dir)"
      ],
      "metadata": {
        "id": "lyDD_1nagPYr"
      },
      "execution_count": null,
      "outputs": []
    },
    {
      "cell_type": "code",
      "source": [
        "input_display = display_image(train_data_1_percent, train_dir)\n"
      ],
      "metadata": {
        "id": "WyRgK6KEgPbr"
      },
      "execution_count": null,
      "outputs": []
    },
    {
      "cell_type": "markdown",
      "source": [
        "Run the cell above a few times and you can see the different random augmentations on different classes of images. Because we're going to add the data augmentation model as a layer in our upcoming transfer learning model, it'll apply these kind of random augmentations to each of the training images which passes through it.\n",
        "\n",
        "Doing this will make our training dataset a little more varied. You can think of it as if you were taking a photo of food in real-life, not all of the images are going to be perfect, some of them are going to be orientated in strange ways. These are the kind of images we want our model to be able to handle.\n",
        "\n",
        "Speaking of model, let's build one with the Functional API. We'll run through all of the same steps as before except for one difference, we'll add our data augmentation Sequential model as a layer immediately after the input layer."
      ],
      "metadata": {
        "id": "byZW3Q41T0oc"
      }
    },
    {
      "cell_type": "code",
      "source": [
        "#@title Model 1: Feature extraction transfer learning on 1% of the data with data augmentation"
      ],
      "metadata": {
        "id": "8jyp60sPTzvQ"
      },
      "execution_count": null,
      "outputs": []
    },
    {
      "cell_type": "code",
      "source": [
        "input_shape = (224,224, 3)\n",
        "\n",
        "# import model apart from last actication layer\n",
        "base_model = tf.keras.applications.EfficientNetB0(include_top=False)\n",
        "\n",
        "#Freeze all model\n",
        "base_model.trainable = False\n",
        "\n",
        "input_layer = tf.keras.layers.Input(shape=input_shape, name=\"Input Layer\")\n",
        "\n",
        "## add input layer to data augmetattion sequential api as input\n",
        "data_augmented = data_augmentation(input_layer)\n",
        "\n",
        "model_init = base_model(data_augmented, training=False)\n",
        "print(f\"model input shape: {model_init.shape}\")\n",
        "model_global = tf.keras.layers.GlobalAveragePooling2D(name=\"Global_Average2D\")(model_init)\n",
        "\n",
        "print(f\"model input shape: {model_global.shape}\")\n",
        "\n",
        "model_dense = tf.keras.layers.Dense(10, activation = \"softmax\", name=\"Dense_Layer\")(model_global)\n",
        "\n",
        "# prepare model with input and output\n",
        "\n",
        "model_final = tf.keras.Model(input_layer, model_dense)\n"
      ],
      "metadata": {
        "id": "A9gMpH_gSKXj"
      },
      "execution_count": null,
      "outputs": []
    },
    {
      "cell_type": "code",
      "source": [
        "\n",
        "model_final.compile(loss=tf.keras.losses.CategoricalCrossentropy(),\n",
        "                    optimizer = tf.keras.optimizers.Adam(),\n",
        "                    metrics = [\"accuracy\"])"
      ],
      "metadata": {
        "id": "eYCESut0YR7E"
      },
      "execution_count": null,
      "outputs": []
    },
    {
      "cell_type": "code",
      "source": [
        "from extra.helper_functions import create_tensorboard_callback"
      ],
      "metadata": {
        "id": "fcwxpTDjZQf7"
      },
      "execution_count": null,
      "outputs": []
    },
    {
      "cell_type": "code",
      "source": [
        "history_augmentated = model_final.fit(\n",
        "    train_data_1_percent,\n",
        "    epochs=10,\n",
        "    steps_per_epoch=len(train_data_1_percent),\n",
        "    validation_data = test_data_1_percent,\n",
        "    validation_steps = len(test_data_1_percent),\n",
        "    callbacks=[create_tensorboard_callback(\"transfer_learning_feature_extract\",\n",
        "                                             \"1_percent_train_data_WithAugmentation\")]\n",
        ")"
      ],
      "metadata": {
        "id": "ek-97nIkS3WK"
      },
      "execution_count": null,
      "outputs": []
    },
    {
      "cell_type": "markdown",
      "source": [
        "#TENSORBOARD **RESULTS WITH DATA AUGMENTATION - TRANSFER LEARNING FEATURE EXTRACTION**\n",
        "\n",
        "https://tensorboard.dev/experiment/dWLM6CMtRqGydv2SmQ2FGA/"
      ],
      "metadata": {
        "id": "LMhhhjWYayUv"
      }
    },
    {
      "cell_type": "code",
      "source": [
        "! tensorboard dev upload --logdir=\"./transfer_learning_feature_extract/\""
      ],
      "metadata": {
        "id": "6LjryzHMakyt"
      },
      "execution_count": null,
      "outputs": []
    },
    {
      "cell_type": "code",
      "source": [],
      "metadata": {
        "id": "YY9YS_Z7bIsv"
      },
      "execution_count": null,
      "outputs": []
    },
    {
      "cell_type": "markdown",
      "source": [
        "**Fikrat Developed Data Augmentation Layer with EfficinetB0**\n",
        "Model: \"model_1\" \n",
        "_________________________________________________________________\n",
        " Layer (type)                Output Shape              Param #   \n",
        "=================================================================\n",
        " Input Layer (InputLayer)    [(None, 224, 224, 3)]     0         \n",
        "                                                                 \n",
        " DATA_AUGMENTATION (Sequenti  (None, 224, 224, 3)      0         \n",
        " al)                                                             \n",
        "                                                                 \n",
        " efficientnetb0 (Functional)  (None, None, None, 1280)  4049571  \n",
        "                                                                 \n",
        " Global_Average2D (GlobalAve  (None, 1280)             0         \n",
        " ragePooling2D)                                                  \n",
        "                                                                 \n",
        " Dense_Layer (Dense)         (None, 10)                12810     \n",
        "                                                                 \n",
        "=================================================================\n",
        "Total params: 4,062,381\n",
        "Trainable params: 12,810\n",
        "Non-trainable params: 4,049,571"
      ],
      "metadata": {
        "id": "y85HsgPNbOlp"
      }
    },
    {
      "cell_type": "code",
      "source": [
        "model_final.summary()"
      ],
      "metadata": {
        "id": "kn1ljU-NbIvK"
      },
      "execution_count": null,
      "outputs": []
    },
    {
      "cell_type": "code",
      "source": [
        "from extra.helper_functions import plot_loss_curves "
      ],
      "metadata": {
        "id": "zA3Yonv5bdU9"
      },
      "execution_count": null,
      "outputs": []
    },
    {
      "cell_type": "code",
      "source": [],
      "metadata": {
        "id": "CKh5g1wRuZnp"
      },
      "execution_count": null,
      "outputs": []
    },
    {
      "cell_type": "markdown",
      "source": [
        "![validation_dataset.png](data:image/png;base64,iVBORw0KGgoAAAANSUhEUgAAAsAAAAKECAYAAAAJ5oyVAAAABHNCSVQICAgIfAhkiAAAABl0RVh0U29mdHdhcmUAZ25vbWUtc2NyZWVuc2hvdO8Dvz4AACAASURBVHic7N15WFTl/8bx97AIuOMGKiiugIqAkrimVm6lmZohWrmVqVlqVvotKzUttV8lbRplbuWW5dKipqmZCxaLuCKm4b6guKACwjC/PyZRERQUGHDu13XNdTFznnPO5zDO8Z6H5zzHYDKZTGTjxkXXfjaZTDf9nJ6eftPzzOvdbpsiIiIiRcm1HGQ0Grl69SqXL1+mRo0audpGTEwMU6dO5fXXX8fLyytP6zMajcTGxnL16lXq1KmD0Whk//791KlTB1tbW/bv3w9AnTp1KF68+F3tY+bMmURFRTFu3DgqVKhwx/Znzpxh3Lhx+Pv7M3DgwFzta8CAARk/d+3a9Y7tly9fnvHzN998k207u+wW3C78Xgu+1x7ZBeHMP4uIiIgUZTcG4NTUVFJTUy1d0k1sbW2pW7cusbGx7N+/n8qVKwOQlJTEiRMngHsLvwDBwcHExMQwbtw4qlWrlvG6u7s7wcHBLFiwgCNHjmS8fvjwYZycnAgODr7rfcLN4fZeZRuAM7sxyKanp2M0GomPj8+zQvKDi4uLpUsQERGR+8iNAdjW1haj0Wjpkm5xYwg+evQoAEePHsXW1vaewy9A8eLFGT9+PJs3byYmJoYrV67c0uZabixevDhdu3alRYsWd7Xf8uXLc/bs2XuqNyt3DMCZe3ONRmPGtx4RERERKXxuDMFJSUl5Fn6vKV68OO3ataNdu3a3LLvXnt4bjR49ms2bN+e4fWRk5E29z9nJMgBnHrZw47AHo9FIWloaKSkpOS5GRERE5H5jMBgsXcJtXQvBBw4cwM3NLc/Cb0GqUKFCjsb+XtOuXTumTJlyxxBsyOoiuMy9vjeO+U1NTeXq1atcuXKlUHb730hDIERERCQvZR4DfOnSpZvGwYrlXblyhSlTpjB+/Phs29w2AGee7SEtLY20tDSuXLlCYmIi9vb2+VR63lAAFhERkbx0Y8fgtVkg3N3dLV2WZHLlypXb9njb5HRD18LwtTHAV69evffqRERERIqoa0Mg0tPTLVyJZHan4R53DMA3zvt743O92SIiImLNDAYDNjY2nDt3ztKlSC7luAcYyJjr91ovsIiIiIi1MRgMGQ9bW1vi4+M5deoUaWlpli5NcijH8wBfc+PNMERERESsicFgwGQyZfT+2tnZ4ejoyIkTJ9i2bRuXL1++6eZgUjjlOgBfozdWRERErNW1AGxvb4+TkxMGg4FixYqRlpamjsIi4K7uBJdXrt1B5MiRIxw+fBiAatWq4e7uTqNGjfD398/zfQI4OTkBkJCQkC/bFxERkfvbjddEmUwm7OzsKFGiRMa0sZnbSuFyyzRoWV3wdm3cb1paGsnJyVy6dImEhATKlSt3VzuNiopiwYIFnDlz5rbtKlSoQHBw8F0H4eymQVMAFhERkXuVebrYG4OvQm/hVuABeMGCBaxZsyZX67Rr1+6ubqt3pwCclJSU622KiIiIXJM5N0nRcNdjgO/G3YRfIGOdvLy3tIiIiMi9ujYX8LUL46RouKtZIO5GVFTUXYXfa9asWYOXl1e+jQsWERERuVsKv0VLruYBvhfz58/PdllObyG4YMGCvCpHRERERKxUgQTgzZs3c/bs2WyXjx49mubNm99xO2fOnCEqKiovSxMRERERK1MgAXjv3r23XV68eHGee+45Bg4cmHGBWnYiIiLysjQRERERsTIFEoCPHDmSo3YtWrRg9OjRtx0ScfTo0bwqS0RERESsUKEKwGC+EcbthkRcu2GGiIiIiMjdKLCL4HJLV1OKiIiISH4okHmA3d3dc9wLfPjwYb755ptse3pzOmOEiIiIiEhWClUA3rx5MwsWLODKlSu33ZaIiIiIyN0qkADs7e3Nli1bsl1+5coVFixYwObNm++4rcaNG+dlaSIiIiJiZQpkDHCLFi0oX758tsunTp2ao/Bbvnx53QlORERERO5JgV0E17t372yX5XRmh9ttQ0REREQkJwosAPv7+9OuXbu7Xr9du3bq/RURERGRe1YgY4CvCQ4OBmDNmjW5Wq9du3YZ6+alpKSkPN+miIiIiBRuBRqAwRyCvby8mD9/PmfPnr1t2/Lly9O7d2/1/IqIiIhInjGYTCbTjS/c+NRkMmU8jEYjaWlpJCUlcfnyZRISEihXrtw97TwqKoqIiAiOHDmSMU2au7s77u7uNG7c+J6Dr4uLyz2tLyIiIiL3H4sG4PymACwiIiIimRXaWyGLiIiIiOQHBWARERERsSoKwCIiIiJiVRSARURERMSqKACLiIiIiFVRABYRERERq6IALCIiIiJWRQFYRERERKyKArCIiIiIWBUFYBERERGxKgrAIiIiImJVFIBFRERExKooAIuIiIiIVVEAFhERERGrogAsIiIiIlZFAVhERERErIoCsIiIiIhYFQVgEREREbEqCsAiIiIiYlUUgEVERETEqigAZyM59AkqODnh5OREbafx/GKwTB0bepfB6b86nJ5dbZkirJTJkEzUi340eH3HTa+nfN4R77JT+SMH2zj0uh9VH57DGX3S5C4V+2cajzq14ZWD118zGqL5sJ4/wauTLVeYiEgRpv+Ws+E4aBlnkpJI/qwD9vewnTT7GKb7OeM15dBdrd9m/gWSkpJY37PUPVQhd8Nh/wzGfuPF8683vOttFG/yBD06eeFkurv1973kRfVHFitAF5B7/bzm1TbuxNbky5A36rLnlVC22eXbbkRE7lv6b1UkCyZDMtumzeCfjv15ruLdb6fik+P45NVAStxlABbJjtNT/ehwcDof/KZeYBGR3LLKAGyyucDqx8ri1HsM47r4U6+2B9Ub9eKNdRdytR27+A188nQbfCo5U6aKNy36zWBtonmZ0RDNRx5OlLLz55V9yRwa54WTkxMlnFzp8EPejqdI2j6dka29qVzRmQp1mxI8aQOHbK8vN5niWPtmN1rWcqZsRVfcfNvQ/fPom7aR8rd5G1XKmo8lsMs4Fp7OXR2GpGgWvdqNljVdKVvRldpt+vHe7+bfaZrtet4u7kzn+SkZ7R1/7Iun00gW3PDrcFw7GF+nfny8eRovtDTXU712Pz45mUzYM9Wp8eQKLt/YfstoWjp1Y9KJ/47V5gK7PhvC4w1dcXZ2pnqjXoz89VSuj9Vk3MrSmeepGdQsy/CaVD6BA7MG066uM+UqetN+/IabemlPjgvMGLqS1RAIkyGZw9+N4PGGHjg7O1POy58Ogxax67/3bfugajg5OeH39SFOb+6Lu4N5WzUH/3V9G6Y41r7ZK+N9bdhhJDN33RyG0lMXMtDJm54/LmfKk02pWcEZZ7emPPNzCulL+lLPaQizb1jFaBPGpKrONPkwZ72X137fTzX3pmYFZ8pU86fjDZ8DuHXISJp9DNO9b95H4up36OXjinN5Dxr3mcEnwZUyhvw4bhhBw+qd6NXDiypVm9IvNIRRfq5UqtqJkRHXizf++98xuprf1w4DZ7Plyn/7/O/fX/v3Z/PGI/7UdHGlVqMhfBzz37o5+Lze6Vhz+pm/XZ1g/hzNe7YNPs7OuHh2YuC6bN4Lh7Y89lgCO+Zuu+kzISIid2aVAfga+2UbODFmA7sPxBA5xMTyx14g5EzO1jXaxTG3TxDvHWrDhA1R7Fw5jjY7x/D8s4s5ZGv+E+UrcUkkpkXxkacj1cfFkJSUxOWkk6zukXfdgYaLy3i1zRv87jWOFZFR/BXSgeQpveg59fp/moZ5o3kuFB7+NoqY3WH88ckQHix5w7EYovn8yTdY22Ayy/fGcHDdQiY/7optas7rMNrF8WP3x3l1lSt9Zm0gMjqMxcO9uXL4XK6P6bLtBj6dcIgHvgzjwKk4NnzRiwbFHGn1VCdK/vLjTYEt+ofVnG78BE+7mZ+f+DCIRz88R7P3VhOxO4oVw8oS1iOIN3bl7lidYrfxJ1409C+dZY0Xzi/k67C2vP3LVjZMakL85DGMirq+3HXcNpKSkoh5yTPL9YvFzWDkc6tJHbmc8H0xRH//MX3rOWYEGb/QwyQlJbH9uepUajGHIylJJCUlcXBGk4xtHHo3iGe/SqFj6Fai/lrO25XW836T//FDUua9nSNi7GxO9l1IxLETHF89jqAqJgyP9+IxlrJo2cWMliU2LWVpQhse61s9u7fnJiZDMscTXWg5eja/hsWw47f36XJ0Ms8/m/NhG3bHpvNszy850nU2f25fxfTGq/jq58Sb2tieTsJh9DJ+6JLMz8NXYVqwgTlt/mXBZ9vMDa6sZHTL4SxyG8ncjVHs/O1jHj76DoP6r75ehyGZ3XOi8Z8TxcEjYXxQ9Vc+HmWuMyef1zsda44+83eo02RIJmp4EK9v82bEuij+XtyP4l/MZlsWvzeDyZGGzb2wXbaNPek5+12LiIiZVQfgUs2GMKlVGQwmR8q+MJLexVbz46KcdXs6HljGvD+r0PaDcXSr50E13yCmjutFiVULmH3qzuvnme9nsyalF6+EBPGAuwc1O41n8vOunP16UcbYwBNHTmLn4MtDzTxwreRBrdZBjOjre30bpn85eNqBck3b8kBlF8p7+dL2+cH0rJrzMkqEz2Lqhsp0mD2dIa29qFnFg0bdRjOxv0euD8nG6ESzt97nufplcHIoQ432HXmoHFzt0JWObGDFCnMvstEmjCULT1I5uBPVjeZevhlvxFD//VD+19mXmlU88Hl+PK83387SBftydayG2DiO40rZbMovd6UNfT4JolUdL+oPHsKT5fbx79aLWTfOgu2xE8ThQcNOvtSq5IK7Txt6j+hKYFrO1jfahPHdl7FUemkaYx/2okaNQJ6cPpxA0wJCf07J1DqFMk9N5uMuHjg7OOJUvyOdGzmCQ1t6DyzL/q9XZYSvrfOXc/qhYF6slLM6bIwutP/fOF7uGohXbReqe3Vk5LDWFF+1lTU5/J53ZP5CdtGPNyZ1pIG7FwGvTObF8o43tXHAn46BXrR90JOy5QPp6u3FQ809cDocxxkbSJkVwkrboXz5cRAt63pQrUFH3n6nF8VXLGDRtS8EJkdK9R9hfq+LedC9Z1Oc1kWyLYd15sWx3qnO9PT1fD3vFP4jpzDQ33xe+b/R7cn6axi4uruSnvIvUbbZNBARkSxZdQC2reVBhf96TgyGGtSsZ+JUTFzO1t0Tw1E88b/x+qiGXrgTR8w/eV5qtuL2xZFey5uAEtdf8/T1xC7uX6L/OzaPoF40SQ+hS6NO9Bk1jo/nbuPYDb2oNjZtGTioOgeGBdL8qSG89t4MVuzK3XCQlIhozuLPww/c+zE54EuDBxyzWNCW7r1NxC5azWUDlNi2lJUJzXgoyJzWHI9Es4tTbOjvkjH8oEQxD3pvSeHc8ZNAzo81PT2JdBwpns0VkIbyHjRwMP9ssi1LudKQfjHnYzGvBHZnYMMoQgOa8nj/MYz9bDl/nc3x6hhS4jiY4EAtX4+M14ylGtG4UgqnYk5mal2G+oFet27D5Eizvl1x3byAz0+bw9f8mcl49+ua8bnIicRVUxjU1hvXSubfuW3wYi5xjsQc/ln+0M69XG3SiDbX6jJ44B1wcwEmg4M5BDo6YleyOI524OjoiN2VZC4bIDJyLwfj3+HB4k4Z773h4U84xClu/CNERXfXjJ8dSzoCKeT8a8u9H+ud6nQ8vI8DeFAl4HrkdfLxxyOb7RlsHUkniaQcfnESEREzqw7AV2/4s7fJkETyfdqLklJ7CAv3R7HhnSBa2Mbw45sdafPEnIxxwob0MviHbGP/5umMauPC1c0hPNesDX025e7iGluyCK23kZ7Nvz4bHHEofuvrBpMjrXpeHwYRvXA1x5o/QT+X622S8KLPn+bhAjc+Ts5qbd5GDo/VpqwzZbjA+YSsa7S/dGuBV21vGXuQLRvbQIZu2Uf4t/+jc4MU9n/zAk95DuG73I8YyQEnbLK5Cu/KA/15utJWfph/CH5Zzio68VR3hxxv2f7QdPp2m0501+n8edD8uzb92JfiwKVsQqFNLobW5Ebph+ZwJvnm9/1U0kqmXM+8lLmH7d/Nsd5dnQ6k3vDFy3SbWR5Szl3AgDOV7tNzl4hIfrHqAFxye0zGRUek7mVPhAEXL4+b2jjYOQDJt/QSGet54cY+om6cInZHDEfwwKv29ZcMJkec7MBgvLcrtU32TpS6knLLxS4enh7YHNhL+OXrr+2L3oepUg18b3h300t40KhrP4ZOXUjYF0E4/rGS+Vdu3pZTgzb0GDqOD39bytTqcUSviM1xfQ6NfSnLVlZtz3q5weSEgzNcvHj9z/OX4nI/VuRq+yC6sYHPV29gycKTePfsRnXjf8tcfXnAEMeOP+58AdedjvWqry9exHBgT65LzDnbMtRq05VBoz5m0cb3aXF5JSvDMr3BxRxJM90arE0OHtQsl8KB6Ljrm0uMJOK0Ay5erre0z44NXvQa6smFebP4bPFKLvftT69cTKtlGxFGDJ0Y+Eob6vw3rvzE3r3c2CHp6OhIWnpCRkhMtz3Bietl41XfG4fIvWy4dmymOPbszt2pycvXmzLrtrLqyp3b3s7tPq85OdY7beNOdSZX88SHOE7GXv+cGOPiyNynf03MnhhSG/vR3KrP5CIiuWfVp80T+6cx7LNt/Hs4hrDRk1lKB7oH3Tz40RTojwurWLIghtMnL3DhvyScXOsJnm1ynPWvjWPpnjgO7VnE6+MWcrVt8E09kjZGV2p4FOPC76sIS0gmJeedhDfxD/Sn5G/zCYk8xemTF67/ybNnP9qxkPdfW8TfR+I4uPIdxnx1kgpDgzLGkx75dhwTvtvAnkOnOH04mvnLwkgq70Xza3/CT1lP6MgZLIqM49SpU8StWcbyww6U9/HIcX2XA/rzepsT/NZ/CJ9tjeH0sTj2/jKDiYvizL8HvGnZrBgnli1lTzrYnN/A1DnbyG1noMG2Gd2fceTfiWNYmtCGh4Ov/6nYxqYtQ8YFcnJCXwYv3sbB43Hs/3sVC97qx9trDLk61tSKbXnM7xw71+3LZYU54xg5ndc+WM6WmFOcPB3Hzjmr2Is31Rvc3FPrUdMV+y3r+frgBVKSrvee2qY3pc8LdTn96QjGb4wh/uA2lgwJYZshmOAuOe/BBSjfvxeNd4UwaWk52vdtkqsp20z1vHEhinWbzMNIjP/M4s3PdnD1hjYOTX1xS93A/D+TMRmSORE6g++KXV9e4eleNEiaxbvjNrDzRBx7Qt7hi9O5+8JYvu9wHq8wm7H9Q1i6J464g9FsWhzCay/Pvv4lNwdu93nNybHeaRt3qtPGpi3BA8uy75MZRFwFUmMInbaUrK5MSLOPYd3v56nYrU3Gl0AREckZqw7A6cH96PTbYFo0bEbvtZV56pcvGV7h5jbJ9Ybw+bt1OTyyGdVruOL/unkaKts0D55Zsog3q6zi7Tb++Lcexx/1xjPj26du+s/IYHKk1buT6ZU0g+7VnClX7u6mQXPsP5mpXeP4ur0HNWp48sTy/wJd6Sf4aON7PLpjHF19/PEbuhrjq7NZ9Nr1q/iLlU5i55cj6RzoRfVGXRl3qi3/WzWG1tca2JbD6cxyPgluipeXFy2eW4Xj6IXM7ZfdpTe3sk3zoPuPK5j20EkW9mlDXb+mdJsUhk0FZ/PvIb0MHd77hC5n36FNDW+aPLWc6s+0z/VNRgwmRwKCOlJnZzTnW3Snr/PNy13HLOKXqV4cmxJE4/r+NOszjplHPPCqYcrVsdqmedD1xdaYZi7P9Y0GzFOPmcd3en26j4Qtg3F3cKKMkz/BYeY2plKOpGx6n+c7elGvblM6zjXw0PzpTHK/eVsOA8cztksMoQ+4UracEx4vXZ8Grfpbi5jXD356phmejboy6WhbXt76Pv1yNxKF1MrdeaaNidJluhLcLHfrJnuP4KuPPTnb1xe3Bv60GLqDpiMep+wNbZJ8XuGDN12JfsoD94YdGXSsLb1qX0/ZaVWHMGdZXzyW9OLBBm3o+1dbnm9fCte0nB9IeplOTNk4m76GpbzVzh+/Zl3p+9kGLnl645qLQH+7z2tOjvVO27hTnQaTI40+WMSEukt5to4H3o0Hs75lJ7K6FUuJncv4YV/OZ+wQEZHrDCaT6ab/Hm58ajKZMh5Go5G0tDTztD6XL5OQkEC5cuUKvODccHFxyfJ1k80FfutUnSHuv900rZTIjdKN23jfezC7Pt3Kgg65TJVFSJp9DF/Vb0boE2FEjct62raCZLK5wLK21RnVfCMH3737u/Ddz0yGZKKfb0ovh1AiPstdr72IiFh5D7DI7djYBvLqt8NpdCXO0qXkm9Qzp/j3y3eYua8Njw60TPg12Vxgx/xFrN53iqSUC5z6+T1Cwrx4/EmF3+yYTHGc9hzBZ+8p/IqI3A3dRV7kNhya9OM1SxeRT1LtljHSPZjvyvvy6Gezbxl+UVBMhmTi/57N2DHD+ScxhdLV29B51kKm+d55XWtlgxftR906tZ2IiOSMVQ6BKAwcDi7nvdCtnMnm4hWDoTLNXx1O5xzekCC/FJU6JW+ZDMns+mIc8w9m3+ZSw2A+fUYpVUREih4FYBERERGxKhoDLCIiIiJWRQFYRERERKyKArCIiIiIWBUFYBERERGxKgrAIiIiImJVFIBFRERExKooAIuIiIiIVVEAFhERERGrogAsIiIiIlZFAVhERERErIrdvaxcvXr1vKpDRERERKRAqAdYRERERKyKArCIiIiIWBUFYBERERGxKgrAIiIiImJVFIBFRERExKooAIuIiIiIVVEAFhERERGrogAsIiIiIlZFAVhERERErIoCsIiIiIhYFQVgEREREbEqdpbYaVhYGNu2bbttm8DAQJo2bVpAFYmIiIiItbBIAN62bRshISG3bTN8+HAFYBERERHJcxYJwNccPHgwy9dr1qxZwJWIiIiIiLUolGOAhw8fTmBgoKXLEBEREZH7UKENwE2bNuXixYuEhISwZ88eS5ckUqR4eHiwdu1aS5chIiJSKBXKAHxN6dKlqVq1KsHBwQrBIiIiIpInCmUADgsLIyQkhJCQEI4dO4a7uzu9e/dWCBa5BykpKYwYMYIqVapQpUoVRowYQUpKCgBnzpyhc+fOlC1blnLlytGqVSvS09MBmDJlClWrVqVUqVJ4enry+++/W/IwRERE7plFL4LLKZPJhMlksnQZIkXapEmTCAsLY/v27RgMBrp27crEiRN59913+fDDD3FzcyM+Ph4wfwk1GAzs27ePzz77jL///psqVaoQFxeH0Wi08JGIiIjcm0IZgJs2bZoxBdqSJUs4evQoCxYsoF69ehauTKTo+u677/j000+pVKkSAO+88w4vvPAC7777Lvb29pw4cYJDhw5Ru3ZtWrVqBYCtrS0pKSns2bOHihUr4uHhYcEjEBERyRuFcgjENRcvXuTYsWMKvyJ54Pjx41SvXj3jefXq1Tl+/DgAr732GrVr16Z9+/bUrFmTyZMnA1C7dm2mTZvGuHHjqFSpEr169cpYR0REpKgqlAE4JCSEsLAwSpcuzfDhwxV+RfJAlSpVOHToUMbzw4cPU6VKFQBKlSrFhx9+yMGDB1mxYgUfffRRxljf3r17s2nTJg4dOoTBYGD06NEWqV9ERCSvFNoAfKdbJYvI7aWmppKcnJzxCA4OZuLEicTHx3PmzBkmTJjA008/DcDPP//MP//8g8lkokyZMtja2mJjY8O+fftYt24dKSkpODo64uTkhI1NoTxtiIiI5JhFxwDrjm8i+efRRx+96fmoUaMICAigYcOGAPTs2ZOxY8cCsH//foYNG0Z8fDzOzs4MHTqUtm3bsmPHDsaMGcPevXuxt7enefPmhIaGFvixiIiI5CWDKdP0Cjc+vTb7gslkwmg0kpaWRlJSEpcvXyYhIQF/f/+72mlYWNgde3gDAwMzLoQTEREREckrFgnAIiIiIiKWosF8IiIiImJVFIBFRERExKooAIuIiIiIVSmUd4K7H1WoUEF30RIRyaVDhw5l3KJbRCSvKAAXEA8PD8LDwy1dhohIkRIQEGDpEkTkPqQhECIiIiJiVRSARURERMSqKACLiIiIiFXRGGARsWqpqakcPXqU5ORkS5di1RwdHXFzc8Pe3t7SpYiIFVAAFhGrdvToUUqVKoWHhwcGg8HS5Vglk8nE2bNnOXr0KDVq1LB0OSJiBTQEQkSsWnJyMuXLl1f4tSCDwUD58uXVCy8iBUYBWESsnsKv5ek9EJGCpABcyJ1KTOGVFbu5mpZu6VJERERE7gsKwIXc5rgEPt4Qx0tLd2EymSxdjoiIiEiRpwBcyHX3qczb7WsTuvUIn2z619LliEgeO3/+PF988UWu13v00Uc5f/78bdu8/fbbrF279m5Ly1LJkiXzdHsiIpagAFwEvNO+Lk/6ujJi2V5W7Ttt6XJEJA9lF4DT0tJuu96vv/5K2bJlb9tmwoQJPPLII/dUn4jI/UjToBUBNjYGZgf7si/hCp3mRLF7eHPquZSydFki951XVuwm4tjFPN1m46ql+ejx+tkuHzNmDAcOHMDPzw97e3scHR1xdnYmJiaG2NhYnnjiCY4cOUJycjLDhw9n0KBBAHh4eBAeHs6lS5fo1KkTLVu2ZMuWLVStWpXly5fj5OREv3796Ny5M08++SQeHh707duXn376idTUVL7//nu8vLyIj4+nd+/eHD9+nGbNmrFmzRoiIiKoUKHCbY/LZDLx+uuvs3LlSgwGA2PHjiUoKIgTJ04QFBTExYsXSUtLY/r06TRv3pyBAwcSHh6OwWBgwIABjBw5Mk9/zyIiuaEe4CKiRDE7fu0fAPa2tJ75N2cuX7V0SSKSByZPnkytWrXYvn07H3zwAZGRkYSEhBAbGwvAN998Q0REBOHh4XzyySecPXv2lm3s37+fF198kd27d1O2bFl++OGHLPdVoUIFIiMjGTJkCP/3f/8HwPjx43nooYfYvXs3Tz75JIcPH85R3T/++CPbt28nOjqatWvX8tprz6fyhAAAIABJREFUr3HixAnmz59Phw4dMpb5+fmxfft2jh07xq5du9i5cyf9+/e/y9+WiEjeUA9wEeJW1oltAxsT+FkY3eZG8PvzgRSz03cYkbxyu57agtKkSZObbgbxySefsHTpUgCOHDnC/v37KV++/E3r1KhRAz8/PwAaN25MXFxcltvu3r17Rpsff/wRgE2bNmVsv2PHjjg7O+eozk2bNhEcHIytrS0uLi60bt2av//+mwceeIABAwaQmprKE088gZ+fHzVr1uTgwYO89NJLPPbYY7Rv3z7nvxARkXyg9FTENKnmzMLeDdm0P4GXl2lmCJH7TYkSJTJ+3rBhA2vXrmXr1q1ER0fj7++f5c0iHBwcMn62tbXNdvzwtXa3a3OvHnzwQTZu3EjVqlXp168fc+fOxdnZmejoaNq0acOMGTN47rnn8mXfIiI5pQBcBAX5VeXt9rX5cssRPt0cZ+lyROQelCpVisTExCyXXbhwAWdnZ4oXL05MTAxhYWF5vv8WLVqwePFiAH777TfOnTuXo/VatWrFokWLMBqNxMfHs3HjRpo0acKhQ4dwcXHh+eef57nnniMyMpIzZ86Qnp5Ojx49mDhxIpGRkXl+HCIiuaEhEEXUO+3rsutUIsOX7qFuxRJ09Kxk6ZJE5C6UL1+eFi1a0KBBA5ycnHBxcclY1rFjR2bMmIG3tzeenp40bdo0z/f/zjvvEBwczLx582jWrBmurq6UKnXni2y7devG1q1b8fX1xWAwMHXqVFxdXZkzZw4ffPAB9vb2lCxZkrlz53Ls2DH69+9Perr5hj7vv/9+nh+HiEhuGEyZ/oZ+41OTyZTxMBqNpKWlkZSUxOXLl0lISMDf37/ACy6qAgICCA8Pz9NtXr6aRrPPtrLzzBX2Dm+Ol2aGEMm1vXv34u3tbekyLCYlJQVbW1vs7OzYunUrQ4YMYfv27RapJav3Ij/OnSIiGgJRhJUoZsevA8wzQ7SdGa6ZIUQk1w4fPswDDzyAr68vL7/8Ml999ZWlSxIRyXcKwJkcOXKEtm3bUq9ePerXr09ISMgtbb777jsaNmyIj48PzZs3Jzo62gKVml2bGeLk+WR6zI3galq6xWoRkaKnTp06REVFER0dnTGLw9mzZ/Hz87vlkdUUbCIiRZHGAGdiZ2fHhx9+SKNGjUhMTKRx48a0a9eOevXqZbSpUaMGf/zxB87OzqxcuZJBgwaxbds2i9V8bWaIXnO38/KyXUzv4YPBYLBYPSJStJUvX95iwyBERAqCAnAmlStXpnLlyoD56mxvb2+OHTt2UwBu3rx5xs9Nmzbl6NGjBV5nZkF+Vdl1MpGJvx2gnmspXm5Z484riYiIiFghBeDbiIuLIyoqisDAwGzbzJw5k06dOmW5LDQ0lNDQUADi4+PzpcYbjW/vyZ5TlzQzhIiIiMhtaAxwNi5dukSPHj2YNm0apUuXzrLN+vXrmTlzJlOmTMly+aBBgwgPDyc8PJyKFSvmZ7kA2NgYmBvsh0/V0nSaE0XMqaznFhURERGxZgrAWUhNTaVHjx706dMn49ahme3YsYPnnnuO5cuX33JbUkvSzBAiIiIit6cAnInJZGLgwIF4e3vzyiuvZNnm8OHDdO/enXnz5lG3bt38LgiScnZnpmvcyjoRppkhRO5LJUuWzHZZXFwcDRo0KMBqRESKJgXgTDZv3sy8efNYt25dxtQ/v/76KzNmzGDGjBkATJgwgbNnzzJ06FD8/PwICAjIv4L2r4W368OaiZB0PserBVZzZkFwQzbuT2D48l1kut+JiIiIiNXSRXCZtGzZ8o5h8euvv+brr78umILK1QDfR2DFZFg7Azq8BM2HgGPW45Jv1Mu/KrtPmWeGqO9SimGaGULk9n4aDUd35u023XygS9bXCQCMGTMGd3d3XnzxRQDGjRuHnZ0d69ev59y5c6SmpjJx4kS6du2aq90mJyczZMgQwsPDsbOz46OPPqJt27bs3r2b/v37c/XqVdLT0/nhhx+oUqUKTz31FEePHsVoNPLWW28RFBR0T4ctIlKYqQe4sKtQG56eC29uBe9WsPRdmNAANn4EVy/fcfXx7T3p7uvCS0v3sGrf6QIoWERyIygoiMWLF2c8X7x4MX379mXp0qVERkayfv16Ro0aleu/4nz++ecYDAZ27tzJggUL6Nu3L8nJycyYMYPhw4ezfft2wsPDcXNzY9WqVVSpUoXo6Gh27dpFx44d8/owRUQKFfUAFxWuPtBvAbSPglWT4Pu3Yc1n0HEUNBkA9k5ZrmZjY2BOLz/2nd1KpzlR7B3RHK9KpQq4eJEi4jY9tfnF39+f06dPc/z4ceLj43F2dsbV1ZWRI0eyceNGbGxsOHbsGKdOncLV1TXH2920aRMvvfQSAF5eXlSvXp3Y2FiaNWvGpEmTOHr0KN27d6dOnTr4+PgwatQoRo8eTefOnWnVqlV+Ha6ISKGgHuCipoo/DFgCr6+Dag1g4Wh4tyFsDYW0lCxXKelwfWaIh2aGk6CZIUQKlZ49e7JkyRIWLVpEUFAQ3333HfHx8URERLB9+3ZcXFxITk7Ok3317t2bFStW4OTkxKOPPsq6deuoW7cukZGR+Pj4MHbsWCZMmJAn+xIRKawUgIsq9ybw/AoYtRoq14b5r8AkP/hrFhhTb2le7b+ZIU6cS6abZoYQKVSCgoJYuHAhS5YsoWfPnly4cIFKlSphb2/P+vXrOXToUK632apVK7777jsAYmNjOXz4MJ6enhw8eJCaNWvy8ssv07VrV3bs2MHx48cpXrw4Tz/9NK+99hqRkZF5fYgiIoWKAnBR59ECBv8Kw3+CclVg3kvwnj9EfgfGtJuaamYIkcKpfv36JCYmUrVqVSpXrkyfPn0IDw/Hx8eHuXPn4uXllettDh06lPT0dHx8fAgKCmL27Nk4ODiwePFiGjRogJ+fH7t27eLZZ59l586dNGnSBD8/P8aPH8/YsWPz4ShFRAoPgylTCrrxqclkyngYjUbS0tJISkri8uXLJCQk4O/vX+AFF1UBAQGEh4fn705MJvO0ab+8CwcjoUpdePR/4NMdbGwzmr21MoaJaw7wafd6mhlCrN7evXvx9va2dBlC1u9FgZw7RcTqqAf4fmIwQN12MOIPGLoIijnC1/3h/5rBrqWQbh72ML6DJ90ammeGWK2ZIURERMTKKADfjwwG8H4MRm6CF+aZe4a/fAY+bgV7f8HGAHOD/ahftTQd50QRczrR0hWLSC7s3Lkz40Y91x6BgYGWLktEpMjQNGj3MxsbaNAN6j0OO3+AX96HL4KgdmNKdhrLyv4tqDZtCw/NDGfXyy0oV6KYpSsWsQiTyYTBYLB0GTnm4+PD9u3bLV1GntI1CSJSkNQDbA1sbMH3KRj9N/T/Ei6ehU+74f7t4xzomMSJhCS6z9PMEGKdHB0dOXv2rAKYBZlMJs6ePYujo6OlSxERK6EeYGtiaweN+kDDnuZZIlZOpeb8YIzVm9D50KMMX16SL7o3KFI9YSL3ys3NjaNHjxIfH2/pUqyao6Mjbm5uli5DRKyEArA1sisGTfpDo97w9xxsVn7Ar5fGEf33j/zs9DpdHn3C0hWKFBh7e3tq1NBsKCIi1kRDIKyZnQM0GwRv7YCgyfgaj9Bl5dOkf9oFjmkifBEREbk/KQAL2DtBy2FcfnsXc90HYnMgHCY/CLOD4eROS1cnIiIikqcUgCVDiVJlaDNoMjXKzmBu5achZiNMagbfPgOnYyxdnoiIiEieUACWm1Qr68SC/g/S91xXulWfBZ1fh+i18O4DsKA/HIuwdIkiIiIi90QBWG7RtLoz3/X2Ydn+VIZc6gbjdsJjIyFyNUxuDZ8+AjuWgDHV0qWKiIiI5JpmgZAs9fZ3Y/fJS7y35gD1XUsyrOMEaPMqRM6HDTPgq35Qriq0fQ4eGAAlylu6ZBEREZEcUQ+wZOvdDp50a+jCSz/u4bfYeHAsDc0Hw5hIeHEJuHnCD+NhrCcsGQond1m6ZBEREZE7UgCWbNnYGJgb7Ef9qqXpMCeSmNOJ1xaAV0d4fgW8FQ4P9oEtS2BSU5jxGOz5GdKNli1eREREJBsKwJkcOXKEtm3bUq9ePerXr09ISMgtbUwmEy+//DK1a9emYcOGREbev3PmlnSw49cBAWBvQ8uv/r4egq+p5AXdQmBiDDw1CU7/C9N7waSGsOlTSDpvmcJFREREsqEAnImdnR0ffvghe/bsISwsjM8//5w9e/bc1GblypXs37+f/fv3ExoaypAhQyxUbcGoVtaJvwc+wNlUI97TtvDznlO3NipeDloNhzd3wODvoJw7LPofvOUJy0ZCfGzBFy4iIiKSBQXgTCpXrkyjRo0AKFWqFN7e3hw7duymNsuXL+fZZ5/FYDDQtGlTzp8/z4kTJyxRboEJcC/LkREt8a9Ugi5fh/Pe2v2kp5tubWhrB/W7wour4I3NENgd/pgDExrB190gdg2kpxf8AYiIiIj8RwH4NuLi4oiKiiIwMPCm148dO4a7u3vGczc3t1tCMkBoaCgBAQEEBAQQHx+f7/XmN7eyTmx+sRn9mlTlzV9jCZoXSWJKWvYrVPaFntPh3X3Q7W04vAs+7QZTAmBrKKQkZr+uiIiISD5RAM7GpUuX6NGjB9OmTaN06dJ3tY1BgwYRHh5OeHg4FStWzOMKLcPJ3pZvgnyZ1s2bJTtOEvDpZg6evXz7lUpWhIdeh7d3w3OzoEQZmP8KvO0FP4+BhH8LpngRERERFICzlJqaSo8ePejTpw/du3e/ZXnVqlU5cuRIxvOjR49StWrVgizRogwGA8Nb1eT3wYHEXkih1seb+X1/Dnq47YqBb094eT2M3gC+HWDtDHinIczpBQc3gCmLYRUiIiIieUgBOBOTycTAgQPx9vbmlVdeybLN448/zty5czGZTISFhVGmTBkqV65cwJVa3kN1KnBwREu8nR15ZMZffLzxAKacBli3AOj9DUzYA11eg9gw+Lgz/F8zCJ8NV6/ka+0iIiJivQymTInlxqcmkynjYTQaSUtLIykpicuXL5OQkIC/v3+BF5zfNm3aRKtWrfDx8cHGxvz94L333uPw4cMADB48GJPJxLBhw1i1ahXFixdn1qxZBAQE3Ha7AQEBhIeH53v9lnApJY2B30ezOPIkzzxQhS+fbIiTvW3uNpKaDDuXwPrpEBcNpcrBg/2g2SAo45YvdYtI4Xc/nztFxHIUgAvI/X4SN5lMTFn/D//7JZaG7qX5qV8A1co63c2G4NBm+HM6/P0TYIAmXaHVEKjWFAyGPK9dRAqv+/3cKSKWoSEQkicMBgNjHqrDL88FsOP0Fap/tIlNB8/ezYbAoyU88x2M3wmdhsGudfB/7WDagxC1ANJS8v4ARERExGooAEueetTbhZgRLahW0p5WX2zjy61xOR8XnJlzdeg0CSbsg6dD4GoyfPM8vOMJK9+EM//kae0iIiJiHRSAJc95VipJ9Mst6FyvIoO/382QH3aSnGa8+w0WKwGBA+H1v+Dl5eDVAlZ+BuP9YMZjsGOJeQyxiIiISA7YWboAuT+VdbRnWb8AJvwWy4Tf/mH7iUSW9W2Ma2nHu9+owQB1HjY/njgJkd/CxtnwVT8oVR6a94bAflDRM4+OQkRERO5H6gGWfGNrY2B8R09+6N+IbUcTcZ+2ib8On8ubjZdyhdavwps7YMQKqPcgrJ0OExrD5x1h+yJITcqbfYmIiMh9RQFY8l13n8rsGNGcsnY2BH4axtzwI3deKadsbKDWQ/D0PJgYCz0nwoWTMHMgvFUXfnodTu/Nu/2JiIhIkacALAXCp3Jp9g1vycN1nOk7fwcjl+8m1ZietzspWQkeHAFjImHEL+DzMPz+Fbz7AHzWDqLm6wYbIiIiogAsBadciWKsGtiEUW1rMO2PODqE/sWZy1fzfkc2NlCrNfSZDZP2Q9D7kHgWvhlk7hVe8Sqc3JX3+xUREZEiQQFYCpSdrQ3/16Ue8/r4sv7fc3h9vIno4xfyb4clKkDLl2BMBIxaBf4dYP1smNQUPnkIIubB1cv5t38REREpdBSAxSKebuxG+MvNSDGZ8PtkC99HH8/fHV67wUavmTApFnpNhaREmD0E3qwDy0bCiej8rUFEREQKBQVgsZjGbmX5Z0RLWriV4ak5UbzxawzG9Lu8aUZuFC8HLYaa5xV+dQ0EdIY/v4X3WkBIawifDSmJ+V+HiIiIWIQCsFiUSykH1g1uypCW1Xh/7QG6zPqb80mpBbNzgwGqN4OgUPMMEr0/hKspMGcYjK0LS1+G41EFU4uIiIgUGAVgsbhidjZ80d2H0KAGrIw5g2/IZmJOFXAPrJMzNHsBXt0Kr6+DJk/Anwvh/VbwUUvYNhOSLxZsTSIiIpIvFICl0Hg+sDqbX2zK4aQ0vEO28NPukwVfhMEA7k2g53TzWOE+H4MpHb4dDmPrwJIX4WgEmApgqIaIiIjkCwVgKVSae5TjyCst8HcpweMzI5i0Zj/pBTEuOCtOZaHp8/DKZhj9BzR9EsKWwJTW8FEL2DIDLp+xTG0iIiJy1xSApdBxK+PE5qHN6NekKmNXxtJzXgSJKWmWK8hgALfG8OTnMHE/PPsJ2NjCglfhzdowKwh2LYPUZMvVKCIiIjlmZ+kCRLLiZG/LN0G++LuVYfiyveyK38yv/QKoVaGEZQtzLA0PDDA/Tu2BqAWwdRFE/gIlykJgD2jc2zyMwmCwbK0iIiKSJfUAS6FlMBh4uWUN1g1uQuyFFGp/vIm1sfGWLus6l3rQ8V14Zy+MWAH+nWDzQvjgYXjPD35/HxL+tXSVIiIikokCsBR6bWtX4OCIlniXc6Ldl3/x7tpYLl+14JCIzGxsodZDEPQVTPoHBoRCBXdY9h684wNfdDDPLZx03tKVioiICArAUkTUKF+cv19qTp9GVXj71/2UnLSBzzb/S3Ka0dKl3cyhFPj3hhd+hnf3wJPjIPGseW7hN2rDd31h32owFtBcxyIiInILg8l083xONz41mUwZD6PRSFpaGklJSVy+fJmEhAT8/f0LvOCiKiAggPDwcEuXcV/YGpfA/1bt44/YBJydHfmgQx2ebeyGvW0h/T5nMplvqBGxAMIWmwNx2UrQpCc0DobKvhovLJINnTtFJD8U0sRgOQMGDKBSpUo0aNAgy+UXLlygS5cu+Pr6Ur9+fWbNmlXAFUozj3JsGNyM9UMDqV3WkecW7qT61D+YH3W0YG6lnFsGA1RtBI9/ABP2w9DFULc5rPsK3m8JHzSFjdPg4nFLVyoiImIVFIAz6devH6tWrcp2+eeff069evWIjo5mw4YNjBo1iqtXrxZghXJNm9oV2DasOb8OCqCCgx195kXj/eFGlu08Ybm5g+/Erhh4PwrPfGseL/x0CDiVgu/HwpueENoVti+Cq5ctXamIiMh9SwE4kwcffJBy5cplu9xgMJCYmIjJZOLSpUuUK1cOOzvNJmcpBoOBTl4ubB/RkiX9GpFmMtFtViR+IZtYHXMaU2G+Y1vxchA4EF5aC+OioesYOPUPzBwIb9SCxYPh4AZIL2TjnEVERIo4JbdcGjZsGI8//jhVqlQhMTGRRYsWYWOT9feI0NBQQkNDAYiPL0TTd92HbGwM9GhYmScauLJw+zFeXbWfjqF/06ymM+91qkubWhUsXeLtla8Fj7wJD/0PjoRBxHzYthT+/BYquEHTIGjUGyp6WrpSERGRIk89wLm0evVq/Pz8OH78ONu3b2fYsGFcvHgxy7aDBg0iPDyc8PBwKlasWMCVWidbGwN9GrlxeHRrvg7yYee5JNp+vo2Hvwwj7NA5S5d3ZzY2UL05dP8MJv4Dg+aAewP4ZRpMaAwhrWHrl7oFs4iIyD1QAM6lWbNm0b17dwwGA7Vr16ZGjRrExMRYuizJxN7WhoGB1Tg9pg2fdq/HuhOJNAvZQpdv/mb7sQuWLi9n7J3ApwcMWAKTYqHXFDAaYf4o8y2Y5/TSLZhFRETuggJwLlWrVo3ff/8dgFOnTrFv3z5q1qxp4aokO072tgxrWYPE/7VlyuOe/HzwHP4fbiLo2whiTidaurycK+UCLV6EVzbB2G3QYRgciIAvn4Y3asD8AbDnZ0hNsnSlIiIihZ7mAc4kODiYDRs2cObMGVxcXBg/fjypqeabFgwePJjjx4/Tr18/Tpw4gclkYsyYMTz99NN33K7msiwczielEvLnv4xbfxCuGun3QFXealeHmuVLWLq03Es3wr9/QPSPEP6TeX5hx1LmWzL7dYM6j5h7kUWKMJ07RSQ/KAAXEJ3EC5czl6/y4YYDTP4zDtJMDG7mzpsP18atbBENjMZUiPsTopdC+IrrYbhRR2jYDeq2UxiWIknnThHJDwrABUQn8cLp5MVkJq/7h5DNhwEDI1tVY3Tb2riUcrB0aXfPmAb//gk7foSIn+DiGXAoCf4dwa+7wrAUKTp3ikh+UAAuIDqJF26Hzl3hvbX/ELrtKNja8EYbD15tXRPn4sUsXdq9uRaGd/7XM3xTGO4GddpBseKWrlIkWzp3ikh+UAAuIDqJFw3/nLnM+DWxfBt+HBzsmNi2Ji+18qC0o72lS7t3xjQ4tOn6MImL8f+F4Q7mnmGFYSmEdO4UkfygAFxAdBIvWnafTOTt1fv4MfoUlLDng0dqMbSZB8WL2Vq6tLxhTIO4zeZhEhlhuIS5Z9i3G9RtrzAshYLOnSKSHxSAC4hO4kVTxNHzvLUqlpV74qGUA5+3r8WAwGo42t0nQRiuh+GdSyFiBZw/bQ7Dfv/1DCsMiwXp3Cki+UEBuIDoJF60bYlL4H8r97FxfwLOzo582KEOTzd2w972PptKO90Ihzabh0lELM8Uhq/1DBfBKeOkyNK5U0TygwJwAdFJvOgzmUys/+csr6/cR0TcebyrlmJ+L1/8qpaxdGn5I90IcVv+m01iBZw/9V8Ybm8eJuHZQWFY8p3OnSKSH+wsXYBIUWEwGHioTgX+rl2eFbtP8uQPu/H/eDNjH6nJm4/Uub+GRQDY2ELNVubH4/9nDsM7l0L4cti2FOyLQ6MOCsMiIlLkKACL5JLBYKBrg8rE16zAqz/vYeJvB5i/8xQLghrSpJqzpcvLHzeG4S4fwOGt14dJXAvDvg9Bg8fAsyOUrGjpikVERLKlIRAFRH/Gu3+t3nea4MU7OXc+mdfb1mBcB0+c7O+z3uDspBvhcBjsWAbbf4F48w1F8GwGvo+B96NQoY6lq5QiTOdOEckPCsAFRCfx+9vF5FTG/BrD9E2HqVapBPODGtKiRjlLl1WwTCY4uRP2/ALRv8C/282vV/EE/0ehXmdwCzD3JovkkM6dIpIfFIALiE7i1mHDP2fouXgHZ84mMeJBD97t6ElJBysdaXT+CMSsgh0/w54/zNOtla0Evh2hfmeo1UbTq8kd6dwpIvlBAbiA6CRuPS6lpPHWqn1M2xhHhfJOfP9UQ9rUrmDpsiwr+QLEroHdv8D23+DKBfO44YYPQ8P/xg2XsPLfkWRJ504RyQ9W2jUlkn9KOtjxcdf69PStTPDCHbT9YhuDW1RjymNe98ctle+GYxlo+KT50fOq+ZbMu3+FqF8g4iduHjf8GFSobemKRUTkPqYe4AKiXgzrlJRqZPxvsUxZd5CSZR1Z8pQPHTwrWbqswsNkgpM7zD3DO36Bf6PNr7t5ge+jUO8xcHsAbO6zG45IjuncKSL5QQG4gOgkbt3+OnyOpxftYP+JSwxo6saHnetRtriV9gbfzvnDsHeledzw3j9vGDfcCRr8N27Y3snSVUoB0rlTRPKDAnAB0UlcktOMvL/2HyasPYBdqWIs7elD53ouli6r8Eo6D/vXws6fYccajRu2Ujp3ikh+0BhgkQLiaGfL+I6edPNx5elFO+jydTh9Gldh2hP1qVCimKXLK3ycyl4fNxx0Ff790zzF2vZfzeOGDTbg1Qx8HjMPlShfy9IVi4hIEaEe4AKiXgy50dW0dP5vwwHeXL0fnOxZ8mQDejSsbOmyigaTCU5E/zff8K8Ql2ncsFd7cA8EWw0xuR/o3Cki+UEBuIDoJC5Z2XXyIs8u2kHUoQv09HPl024NcCnlYOmyipZzh8zjhnf+DHs3mccNFy8DDdqAdzuo0w7KVLV0lXKXdO4UkfygS6szGTBgAJUqVaJBgwbZttmwYQN+fn7Ur1+f1q1bF2B1cr9p4Fqav4Y154MuXny/6zSuU/9gftRRMn0vldtxrg7NB8MLP8PkQzB4PgR2g4MRMGcYjPWED5rCyjfhwB+QdtXSFYuIiIWpBziTjRs3UrJkSZ599ll27dp1y/Lz58/TvHlzVq1aRbVq1Th9+jSVKt15Wiv1Ysid7Dt9ib6Lotn273keb1CJ6T18qFLG0dJlFV0mE5zeC7FrYc9vsHczGFPBsRTUbwPej4BnOyhbzdKVym3o3Cki+UEXwWXy4IMPEhcXl+3y+fPn0717d6pVM/+nmZPwK5ITnpVKsvnF5ny+JY7hP8ewYuofzH6iHs8GuGEwGCxdXtFjMIBLPfOj1cuQkggHN8K+NeZZJSJ+Mrdz84b6j5iHS1RvAXYagiIicr9TAM6l2NhYUlNTadOmDYmJiQwfPpxnn302y7ahoaGEhoYCEB8fX5BlShFla2Pg5ZY1eMyrEgO+30G/BTuYv/04oU/6UN25uKXLK9ocSpnvMuf9GHQ1wZlYc+/w7t/g9y9h9afgUALqtzaH4bqPQLkalq5aRETygQJwLqWlpREREcHvv/9OUlISzZo1o2nTptStW/eWtoMGDWLQoEGA+c94IjlVq0IJ1r/QlK+2HWLwihg8pm7k/9m787CoysaN499hE1SUVREGBMUFcENxX3J5XTJTX5fUrFwyszTN3hat3tLyV1qZ2R5lmlpSaWaWWa65a7jvogICbiiLgqDMML8/KN7cKk05wNyf6zrX5cw5c+b2mMPd4zPP+bBHGA81CcLBQaPB/5gBkT4kAAAgAElEQVTJBL61CraWI+FSNsSvgwM/w56fYduSguP8a0Kdf0GtThDSUjfhEBEpJVSAb5DZbMbb25ty5cpRrlw52rRpw86dO69ZgEX+CQcHEw83D6ZzrUoMn7+bEV/tYd6O43zatx7VvMsZHa90cSkHtToXbN1tkHa0YKrE/p9h9Uz4+X1wcYPwNgWjw7U6at1hEZESTAX4BvXo0YNRo0ZhsVi4dOkSmzdvZuzYsUbHklIs2KssPz3UhFm/JjH02/1Uf30N07vVZmSLYBw1GnzrmUwF5bZF9YLVJfJyIH49HPwZdi+DHU8WHOdXvWB0uHYnCGkNLpqiIiJSUqgAX2HAgAGsXr2aM2fOYDabmThxInl5eQCMGDGCsLAwunTpQr169XBwcGDYsGF/umSayK1gMpkY0iSIjrV8GTF/N2O+2UfMjhPMvKcetSqVNzpe6ebsVjAfuOa/4G4KRocPrYD9y2DtXFj+ETi5QlhLiOgENTuCT42CIi0iIsWSlkErIlrKR24Vm83GF9tTuO+bfXDJyvs9wxjRvKpWijBCXi4c21BQhvcuh+T9Bc/7VoU67aBGe6jeFsp6GRqzJNNnp4jcDhoBFilhTCYTAxua6VDDh2Ff7eLR+XtZczSN6L71cC+jv9JFytkVqrcv2Lq9WnBXukPL4eAK2PwtrJoFmKBaJIS3g9D2ULWZlloTETGYflqKlFB+7q58N6Qxb6w5wjOLD7Lh+DmWPNCICD93o6PZL8+q0PTBgs1qgePbIW4l7F8FP04H61RwLgvhLaBWe6jRDirX0XQJEZEipgIsUoI5OJh4um0oTQM9aTt7O3XeWsfce+oysKHZ6Gji6ASBjQu29s8U3Igjfn1BId63Cr56tuA4j0oQ0Q5qtofQdlDB39jcIiJ2QAVYpBS4o7o3J/7Tin6fb+e+uTtZF5/Om93DcXN2NDqa/K6MO9TuUrDdDWSmwJHVcGgl7F0F678sOM4cVjBdokb7grWHy2hEX0TkVlMBFikl/Cq4smJ4U178+RCvLDvC+mMZLHqgESHeWp6rWKoYAA0HFmz5+XB6L8StgoMr/7f2sKMT1GgGYb8VYv/IgudEROQf0SoQRUTfZJaitGT/Ke6auwOA7+6tz90RfgYnkhuSlwtJmwpGh/evgqM7ABuU9YCINgXzh0PbgVe1Uj9/WJ+dInI7aChBpBTqGlaZ+P+0ptfsbXSfsZVxHarxUpdaODs6GB1N/g5nV6jWtmDrAmSfhaO/FMwf3rMKfv2u4DgttyYiclNUgEVKqWCvsqwf2Zynvt/H5BVHWZuYztf3NaRKBVejo8mNKucNdXsVbP/+7VbNcSvh0CrYvFDLrYmI3CAVYJFSzM3ZkXf/XZfWIV70n7cb/zfXsuq+SNqG+hgdTW7W77dq9q4OzR76bbm1bQXTJQ5esdxa7eZQsxVUaw3+DcHJxej0IiLFggqwiB3o1yCA+lUqcNfsbbT7YDOv3lWTp9uG4uBQuueP2gVHJwhsUrB1GPfbcmvrfivEa2HBxILjnMtCraZQoxVUawXmKI0Qi4jdUgEWsRO1K7uzc3RLHvlmN+O/P8Sa+HTm9m+AVzmNCpYqZdyh9p0FGxTMH07cAEfWwqH1sHASYAMXN6jRBEJbFowQBzYumHssImIHVIBF7Ej5Mk7M7t+A1iFePLxgHzWnrWPJA5E0CfI0OprcLuW8Ifzugg3gQhokboQj6+DQWlj0KvBKwfSI0CYFUyaqtwJzE3DREnoiUjqpAIvYGZPJxPBmVWlkrkjnWdto+s5G3v93OCOaV8VUypfUEgpWigi7q2ADyMmAxE1wdA3ErYfFr4FtMjg6Q2hjqNkSqreGwKbgUs7Y7CIit4gKsIidamT2IO6JVgyO2cmj8/ey5mga0X3r4V5GHwt2xc3jf3eoA8jNhMTNEP/blInv3wTb6wVzjas3KhghDmkNVZvqLnUiUmLpJ52IHfMs68LCwVG8seYIzyw+yIbj51jyQCMi/FRs7JZrRajVqWDrQsGX6pI2/zZlYt3/VpkwOUJoQ6jx2xziqs0KXisiUgKoAIvYOQcHE0+3DaVpoCdtZ2+nzlvrmHtPXQY2NBsdTYqDMu4Q+q+CrTNwKft/hfjwevjpPbC+BSYHCGkAtX5bdq1q84LRZRGRYkgFWEQAuKO6Nyf+04p+n2/nvrk7WRefxpvdI3BzdjQ6mhQnLuWgevuCrRNw6QIk/Vqw9FrcOlj2IVjeBkwQUg9qtoa6PQoKsYhIMaECLCKF/Cq4smJ4Uyb+fIhJy46w/lgmix5oRIi3VgOQ63ApC9XvKNj+BeTlQkpswbJrcetg1QxwraACLCLFigqwiFzGydGBl++sTfNgT+6au4Nqb67lu3vrc3eEn9HRpCRwdoXgVgVbB8ByESy5RqcSEbmMg9EBRKR46hpWmfj/tCbStxzdZ2xl/A/7ybPmGx1LShqnMvpynIgUOyrAInJdwV5l2TCqOY+1rsrkFUdp99EmTpzTaJ6IiJRsKsBXGDp0KJUqVaJOnTp/etyvv/6Kk5MT8+fPL6JkIsZwdXLk7X/XIeaBBqxPOof/m2tZdfiM0bFERERumgrwFQYPHszSpUv/9Bir1cozzzxDp06diiiViPH6NQhg/9iWVCvnQvsPNjN5ZRz5+TajY4mIiNwwFeArtGnTBi8vrz895p133qF3795UqlSpiFKJFA+1K7mzc3RL7o/yZ/z3h+g281fSsi8ZHUtEROSGqADfoJSUFBYuXMgjjzzyl8dGR0cTFRVFVFQUqampRZBO5PYrX8aJz/o34KN76vDjgbPUnLaOLcfSjY4lIiLyt6kA36DHH3+cKVOm4ODw15du+PDhxMbGEhsbi6+vbxGkEykaJpOJ4c2qEjumOZig6dsbGRSzg02J6dhsmhYhIiLFm9YBvkGxsbH0798fgDNnzrBkyRKcnJzo2bOnwclEil4jsweHx7Zm4rJDvLU5mdlbUqgbWIGxLavSr0EAZV10FzkRESl+NAJ8g+Lj40lISCAhIYE+ffrw/vvvq/yKXfMo68y0HhGcf7ED0f3qYMm3MTRmN+UmLufJ7/YRl5pldEQREZHLaAT4CgMGDGD16tWcOXMGs9nMxIkTycvLA2DEiBEGpxMpvsqXceKhplUZ1iSIjYnpvLs+kalrE5i6Op5OYT6MalGVO2tXwslR/98tIiLGMtmumLD3x4c2m61ws1qtWCwWcnJyyM7OJi0tjcjIyCIPXFJFRUURGxtrdAyRInXyfC4zNyfxysZjZKXn4unpyjOtqjI4KpDK7mWMjiclgD47ReR20FCMiNw2fu6ujP9XDdKfbce3QxsRVbk84xYfxO+lFdz3+XY2JqTpS3MiIlLkNAVCRG47J0cHetTxo0cdPw6mZvHRxkSmbU7m863HCQtw5z+tgunXwJ/yZfSRJCIit59GgEWkSNXyLc+b3SPIerEDn/Svi4PJxLAvd+M+cQVjF+3l4Gl9aU5ERG4vDbeIiCHKuTjxYJMghjYOZPOxdN7fkMhb647x1i8JtK/lzeiWVbkrrLK+NCciIrecCrCIGMpkMtGsqhfNqnrxxt0XmflrEq+vP0bPT7dR3sOV8S2CGNokEL8KrkZHFRGRUkJDKyJSbFQqX4Zn2oVy6tl2LB4WRUt/d55bcogqL61kwNxtrDt6Vl+aExGRf0wjwCJS7Dg6mOgWXplu4ZU5fCab6I2JvL4piZhtJwjzd2dMq6rcGxmAu740JyIiN0EjwCJSrIX6lOO1u8PJfvFfzBpQD2cnEyO+2kOFiSsY8+0eDpw6b3REEREpYTR8IiIlQlkXRwY1DuSBKDO/JmXwwYZE3l6fxNtrErmjphejWwZzd3hlnPWlORER+QsqwCJSophMJpoEedIkyJPXuoXx2a/JTN6QSO+Z23DyKMOk1sE81CQIr3IuRkcVEZFiSkMlIlJi+ZYvw5PtqnNqfDuWDI+ifRV3xi0+iPfLKxj5zW4OpmpNYRERuZpGgEWkxHN0MHFn7crcWbsye0+e5+218by/KZn31x2jW51KPNEmhLbVvTGZTEZHFRGRYkAjwCJSqkT4ufNR33qceqE9k+6syffHMmj//mYi3lzL7Ngkci1WoyOKiIjBVIBFpFSqVL4Mz3WswYXn2jPr3noADPpiF24vr+L/lsWRmnXR4IQiImIUFWARKdXcnB0ZFBXI3idas+KRptwVVIHnfzxEpZdWMmL+LvZpGTUREbujOcAiYhdMJhPta/jQvoYPB09nMX1dPB9sSeajDUl0CvPhP3dUo2MNH80TFhGxAxoBFhG7U6tSed7vVZez/+3A5LtrsfL4eTp/uIVab6xhxpZj5ORpnrCISGmmAiwidsurnAvPtAsl+7n2zL2vPq5ODgyL2U3Zl1cy8aeDnDyfa3REERG5DVSARcTuuTg5MLChmZ2Pt+KXUc3oEeLJhJ8PU+WlVTz41U52nzhndEQREbmFNAdYROQ3JpOJNtW8aVPNm8Nnsnl3XTzTNybz6aZk2tfy5j9tQuhSqxIODponLCJSkmkE+ApDhw6lUqVK1KlT55r7P//8c+rVq0fdunVp0aIFO3fuLOKEIlIUQn3K8VbPOqS/2IHXe9Rmy+ls7vo4luqv/cJHmxLJvmQxOqKIiNwkFeArDB48mKVLl153f0hICL/88gu7d+/mv//9L8OHDy/CdCJS1DzKOvPkHdVJe7YdXw6KxMfNiRFf7aH8Syv5748HOJ6pecIiIiWNCvAV2rRpg5eX13X3t2jRAk9PTwCaNWtGcnJyUUUTEQM5OzpwT31/toxuyYbRzelb05tJy48Q8PJKHpi3ne3JmUZHFBGRv0lzgP+BGTNmcOedd153f3R0NNHR0QCkpqYWVSwRuY1MJhPNg71oHuxFQtoF3l2XwNRNScz59TitanjxVJsQ7gqrjKPmCYuIFFsaAb5Jq1atYsaMGUyZMuW6xwwfPpzY2FhiY2Px9fUtwnQiUhSCvcryRvdw0l9oz1v/DmP/2Rx6zNiK3+RVvLHqiG63LCJSTKkA34Rdu3YxbNgwFi1ahLe3t9FxRMRgHq7OjGldjZPj27JgSEPCPd14avEBKk1cyf3ztrM+Pg2bzWZ0TBER+Y2mQNygY8eO0atXL+bMmUPNmjWNjiMixYiTowO96lahV90qHDh9no82HuOtLcnM/fU4Nf3L83iLqgxoGICHq7PRUUVE7JrJdsWwxB8f2my2ws1qtWKxWMjJySE7O5u0tDQiIyOLPPDtNmDAAFavXs2ZM2eoXLkyEydOJC8vD4ARI0YwbNgwFixYQNWqVQFwcnIiNjb2L88bFRX1t44TkdIl+5KF+TtPMH1DItsTM6GMIyOi/Hm4WVUaBFQ0Ol6xp89OEbkdVICLiD7ERWRrcgbRG48RvTUFLuXTKNiDx1oE0beeP2VdHI2OVyzps1NEbgfNARYRKSKNzB581Lce6S/+i/d6h5N+0cLgL3ZRbuJynvxuHwdPZxkdUUTELmgOsIhIEfNwc+bRliE80iKY9fFpvL/xGFPXJjB1dTztanjzaMsguof74eKkMQoRkdtBBVhExCAmk4lW1bxpVc2bt3qEMys2idfWH6PvrO3gXobnm5sZ1jSIqp5ljY4qIlKqaHhBRKQYqFS+DE+3DeXU+Hb8+HBjegRXZNKyIwRPWkWPT3/lxwOnsOZrKTURkVtBI8AiIsWIo4OJLrUq0aVWJY5l5PDp5mNM3JTEd9GxeHu58VTLIAZHBVLZvYzRUUVESiyNAIuIFFNBHm5M6FyLS8+3Z8GQhtT3Lcu4xQfxe2kFA+Zu45cjZ3WDDRGRm6ARYBGRYs75DzfYOJiaxcebjjF1czIx204Q4leOJ1pU5b5GZjzcdIMNEZG/QyPAIiIlSC3f8rxxdzgXXuzA7IH18XF15rFv9uE5cTkPfb2T2KQMoyOKiBR7GgEWESmB3Jwdub+RmfsbmdmRkslHm47xYWwKn2xMJjKoIo+1CKJfgwDdYENE5Bo0AiwiUsI1CKjIB73rkvliBz7sG0GuJZ+hMbupPGU13+87ZXQ8EZFiRwVYRKSUqODqzMPNg9n7n9asHtmMwLLO3P1JLH0/28rxzFyj44mIFBsqwCIipYzJZOKO6t7sfLwVr99dm/l7TxMw5Rc+3JigtYRFRFABFhEptZwdHXiyXXWOPNOGTiEePPL1Xpq/t4E9J88ZHU1ExFAqwCIipVw173IsHdaEefc34NfUC9R9Yx3P/XiAnDyr0dFERAyhAiwiYgdMJhP9IwM4+8wdDGsawCvLjlDt9TWsiEs1OpqISJFTARYRsSNe5Vz4uG99Vo9shquDiX99sIVBMTtIzbpodDQRkSKjAiwiYofuqO7Nvv+0ZkLnUGZvPU6lKb/wWWySbq0sInZBBVhExE65OTvyYuda7H+yNS2rlGfwF7to99Em4lKzjI4mInJbqQCLiNi52pXdWTOiOZ/0r8svSeeo+fpaXlkexyVLvtHRRERuCxVgERHBwcHEg02CODHuDvrXq8xzSw4RNm0tGxLSjI4mInLLqQCLiEghP3dX5t3XkB8fbkzmRSst397IIwt2k3Ehz+hoIiK3jArwFYYOHUqlSpWoU6fONffbbDZGjx5NaGgo9erVY9u2bUWcUETk9utSqxKJT7fh6fYhfLgxCc8pv/D1zuP6kpyIlAoqwFcYPHgwS5cuve7+H3/8kbi4OOLi4oiOjuaRRx4pwnQiIkWnnIsTU7qFs31sSyI9Xbnns+3c9emvJKRdMDqaiMg/ogJ8hTZt2uDl5XXd/YsWLeKBBx7AZDLRrFkzMjIyOHHiRBEmFBEpWg0CKvLr6Ja80yucHw+nETJlDW/9chSLVV+SE5GSSQX4BqWkpBAYGFj42Gw2k5KScs1jo6OjiYqKIioqitRU3W1JREouRwcTo1qFkPjMHfSo7c3YRftp+PZ6tiZnGB1NROSGqQDfRsOHDyc2NpbY2Fh8fX2NjiMi8o8FebixcHAUC4c0ZP+5i0RNW8+T3+0j66LF6GgiIn+bCvANCggIICkpqfBxcnIyAQEBBiYSESlaJpOJnnWrkPrMHYxsFcTUX+IJeu0Xfth3yuhoIiJ/iwrwDerevTuzZ8/GZrOxadMmKlasSJUqVYyOJSJS5DxcnXn333XZOLoFfm7OdPsklntmb+XEuVyjo4mI/CknowMUNwMGDGD16tWcOXMGs9nMxIkTycsrWP9yxIgRdO3alSVLlhAaGkrZsmWZOXOmwYlFRIzVrKonOx5vxbS1Rxn3YxxfHzjDh91r81CTIBwcTEbHExG5isl2xaKOf3xos9kKN6vVisViIScnh+zsbNLS0oiMjCzywCVVVFQUsbGxRscQEbmtjpzJ5uFvdrPiwFmahngwo289Ivzcb/p8+uwUkdtBUyBEROSWqe5TjmUPNWXOwPpsPp1NnTfWMn3tUaNjiYhcRlMgRETkljKZTNzXyEyX2pV4+vv9hHqXMzqSiMhlVIBFROS28Cnnwqf96hsdQ0TkKpoCISIiIiJ2RQVYREREROyKCrCIiIiI2BUVYBERERGxKyrAIiIiImJXVIBFRERExK6oAIuIiIiIXVEBFhERERG7ohthFJHExESioqJu6rVnzpzBx8fnFicquXQ9Lqfr8T+6FpcrDdcjMTHR6AgiUgqpABeR1NTUm35tVFQUsbGxtzBNyabrcTldj//RtbicroeIyLVpCoSIiIiI2BUVYBERERGxK44TJkyY8HcOtNls5OfnY7FYyMvLIycnhypVqtzmePK7Ro0aGR2hWNH1uJyux//oWlxO10NE5Gomm81m++MTf3xos9kKN6vVisViIScnh+zsbNLS0oiMjCzywCIiIiIi/4SmQIiIiIiIXVEBFhERERG7ogJczC1dupRatWoRGhrK5MmTjY5jqKSkJNq1a0d4eDgRERFMnz7d6EiGs1qtREZG0q1bN6OjGC4jI4M+ffpQu3ZtwsLC2Lhxo9GRDDNt2jQiIiKoU6cOAwYMIDc31+hIIiLFigpwMWa1Whk5ciQ//vgj+/btY968eezbt8/oWIZxcnJi6tSp7Nu3j02bNvHee+/Z9fUAmD59OmFhYUbHKBbGjBlDly5dOHDgADt37rTb65KSksLbb79NbGwse/bswWq1EhMTY3QsEZFiRQW4GNuyZQuhoaFUq1YNFxcX+vfvz6JFi4yOZZgqVarQsGFDANzd3QkLCyMlJcXgVMZJTk7mhx9+YNiwYUZHMVxmZiZr1qzhwQcfBMDFxQUPDw+DUxnn9y8sWywWLly4gL+/v9GRRESKFRXgYiwlJYXAwMDCx2az2a4L3x8lJCSwfft2mjZtanQUwzz++OO89tprODjor3F8fDy+vr4MGTKEyMhIhg0bRnZ2ttGxDBEQEMCTTz5JUFAQVapUoWLFinTq1MnoWCIixYp+ckqJk5WVRe/evXnrrbeoUKGC0XEM8f3331OpUiWt8fobi8XCtm3beOSRR9i+fTvlypWz2znz6enpLFq0iPj4eI4fP052djZz5841OpaISLGiAlyMBQQEkJSUVPg4OTmZgIAAAxMZLy8vj969ezNw4EB69epldBzDrF+/nu+++47g4GD69+/PypUrue+++4yOZRiz2YzZbC78F4E+ffqwbds2g1MZY/ny5YSEhODr64uzszO9evViw4YNRscSESlWVICLscaNGxMXF0d8fDyXLl0iJiaG7t27Gx3LMDabjQcffJCwsDCeeOIJo+MY6tVXXyU5OZmEhARiYmJo3769XY/y+fn5ERgYyMGDBwFYsWIF4eHhBqcyRlBQEJs2beLChQvYbDZWrFhht18IFBG5HiejA8j1OTk58e6779K5c2esVitDhw4lIiLC6FiGWb9+PXPmzKFu3bo0aNAAgFdeeYWuXbsanEyKg3feeYeBAwdy6dIlqlWrxsyZM42OZIimTZvSp08fGjZsiJOTE5GRkQwfPtzoWCIixYpuhSwiIiIidkVTIERERETErqgAi4iIiIhdUQEWEREREbuiAiwiIiIidkUFWERERETsigqwSAnn6OhIgwYNCrdbeQe0hIQE6tSpc8vOJyIiUhxoHWCREs7NzY0dO3YYHUNERKTE0AiwSCkVHBzM008/Td26dWnSpAmHDx8GCkZ127dvT7169ejQoQPHjh0D4NSpU/z73/+mfv361K9fv/D2uVarlYceeoiIiAg6depETk4OAG+//Tbh4eHUq1eP/v37G/ObFBERuQkqwCIlXE5OzmVTIL788svCfRUrVmT37t2MGjWKxx9/HIDHHnuMQYMGsWvXLgYOHMjo0aMBGD16NHfccQc7d+5k27ZthXcdjIuLY+TIkezduxcPDw8WLFgAwOTJk9m+fTu7du3iww8/LOLftYiIyM3TneBESrjy5cuTlZV11fPBwcGsXLmSatWqkZeXh5+fH2fPnsXHx4cTJ07g7OxMXl4eVapU4cyZM/j6+pKcnEyZMmUKz5GQkEDHjh2Ji4sDYMqUKeTl5fH888/TpUsXypcvT8+ePenZsyfly5cvst+ziIjIP6ERYJFSzGQyXfPXN+KPhdjR0RGLxQLADz/8wMiRI9m2bRuNGzcufF5ERKS4UwEWKcV+nw7x5Zdf0rx5cwBatGhBTEwMAJ9//jmtW7cGoEOHDnzwwQdAwbzfzMzM6543Pz+fpKQk2rVrx5QpU8jMzLzmKLSIiEhxpFUgREq43+cA/65Lly6FS6Glp6dTr149ypQpw7x58wB45513GDJkCK+//jq+vr7MnDkTgOnTpzN8+HBmzJiBo6MjH3zwAVWqVLnme1qtVu677z4yMzOx2WyMHj0aDw+P2/w7FRERuTU0B1iklAoODiY2NhYfHx+jo4iIiBQrmgIhIiIiInZFUyBESqmEhASjI4iIiBRLGgEWEREREbuiAiwiIiIidkUFWERERETsigqwiIiIiNgVFWARERERsSsqwCIiIiJiV1SARURERMSuqACLiIiIiF1RARYRERERu6ICLCIiIiJ2RQVYREREROyKCrCIiIiI2BUVYBERERGxKyrAIsVc27Zt8fT05OLFi0ZHERERKRVUgEWKsYSEBNauXYvJZOK7774rsve1WCxF9l4iIiJFTQVYpBibPXs2zZo1Y/DgwXz22WeFzyclJdGrVy98fX3x9vZm1KhRhfs+/vhjwsLCcHd3Jzw8nG3btgFgMpk4fPhw4XGDBw/m+eefB2D16tWYzWamTJmCn58fQ4YMIT09nW7duuHr64unpyfdunUjOTm58PVpaWkMGTIEf39/PD096dmzJwB16tRh8eLFhcfl5eXh4+PD9u3bb89FEhERuUEqwCLF2OzZsxk4cCADBw7kp59+4tSpU1itVrp160bVqlVJSEggJSWF/v37A/D1118zYcIEZs+ezblz5/juu+/w9vb+W+918uRJ0tLSSExMJDo6mvz8fIYMGUJiYiLHjh3Dzc3tsqJ9//33c+HCBfbu3cvp06cZO3YsAA888ABz584tPG7JkiVUqVKFyMjIW3hlREREbp7JZrPZ/vjEHx/abLbCzWq1YrFYyMnJITs7m7S0NP1AE7mN1q1bR7t27Thx4gQ+Pj7Url2bhx9+mGbNmtG9e3dOnDiBk5PTZa/p3LkzXbt2ZcyYMVedz2QyERcXR2hoKFAwAmw2m5k0aRKrV6+mU6dOnDt3DldX12vm2bFjB+3atSM9PZ0TJ04QEBDA2bNn8fT0vOy448ePU6tWLVJSUqhQoQJ9+vShSZMmPP3007foyoiIiPwzGgEWKaY+++wzOnXqhI+PDwD33nsvn332GUlJSVStWvWq8gsFUyOqV69+U+/n6+t7Wfm9cOECDz/8MFWrVqVChQq0adOGjIwMrFYrSUlJeHl5XVV+Afz9/WnZsiULFiwgIyODH3/8kYEDB95UJhERkdvh6p+gImK4nJwcvvrqK6xWK35+fgBcvHiRjE4DFZ0AACAASURBVIwMKleuzLFjx7BYLFeV4MDAQI4cOXLNc5YtW5YLFy4UPj558iRms7nwsclkuuz4qVOncvDgQTZv3oyfnx87duwgMjISm81GYGAgaWlpZGRk4OHhcdV7DRo0iE8++QSLxULz5s0JCAi46WshIiJyq2kEWKQY+vbbb3F0dGTfvn3s2LGDHTt2sH//flq3bs23335LlSpVGDduHNnZ2eTm5rJ+/XoAhg0bxhtvvMHWrVux2WwcPnyYxMREABo0aMAXX3yB1Wpl6dKl/PLLL3+a4fz587i5ueHh4UFaWhoTJ04s3FelShXuvPNOHn30UdLT08nLy2PNmjWF+3v27Mm2bduYPn06DzzwwG24QiIiIjdPBVikGPrss88YMmQIQUFB+Pn5FW6jRo1i3rx5LF68mMOHDxMUFITZbObLL78EoG/fvjz33HPce++9uLu707NnT9LS0gCYPn06ixcvxsPDg88//7xw1Ybrefzxx8nJycHHx4dmzZrRpUuXy/bPmTMHZ2dnateuTaVKlXjrrbcK97m5udG7d2/i4+Pp1avXLb46IiIi/4y+BCcit8VLL73EoUOHLlsRQkREpDjQHGARueXS0tKYMWMGc+bMMTqKiIjIVTQFQkRuqY8//pjAwEDuvPNO2rRpY3QcERGRq2gKhIiIiIjYFY0Ai4iIiIhd0RzgIuLj40NwcLDRMURESpTExERSU1ONjiEipYwKcBEJDg4mNjbW6BgiIiVKVFSU0RFEpBTSFAgRERERsSsqwCIiIiJiV1SARURERMSuaA6wgfLy8khOTiY3N9foKFIEXF1dMZvNODs7Gx1FRETErqkAGyg5ORl3d3eCg4MxmUxGx5HbyGazcfbsWZKTkwkJCTE6joiIiF3TFAgD5ebm4u3trfJrB0wmE97e3hrtFxERKQZUgA2m8ms/9GctIiJSPKgAi4jIbXHq/EUm/nSQg6lZRkcREbmM5gCLiMgtdeDUeaatiSf61xSw5uNX0ZVavuWNjiUiUkgjwHYsIyOD999//4Zf17VrVzIyMv70mBdeeIHly5ffbDQRKWFsNhurDp+h64wthE1ZQ/TWFEY2N3No3B083Kyq0fFERC6jEWA79nsBfvTRRy973mKx4OR0/f80lixZ8pfnfumll/5xPqP81e9fRP7nkiWfr3cdZ8rqeHYnnwP3MrzStSYPNa+KTzkXo+OJiFyTfsoXE098t5etKedu6TkbBVTgze4R190/btw4jhw5QoMGDXB2dsbV1RVPT08OHDjAoUOH6NmzJ0lJSeTm5jJmzBiGDx8OQHBwMLGxsWRlZXHnnXfSqlUrNmzYQEBAAIsWLcLNzY3BgwfTrVs3+vTpQ3BwMIMGDWLx4sXk5eXx9ddfU7t2bVJTU7n33ns5fvw4zZs3Z9myZWzduhUfH59r5r1enqVLl/Lss89itVrx8fFhxYoVZGVl8dhjjxEbG4vJZOLFF1+kd+/elC9fnqysgvmI8+fP5/vvv2fWrFkMHjwYV1dXtm/fTsuWLenfvz9jxowhNzcXNzc3Zs6cSa1atbBarTzzzDMsXboUBwcHHnroISIiInj77bf59ttvAVi2bBnvv/8+CxcuvJV/nCLFSkZOHp9sOsb4tfFYMi5So0p5Zg2oxz0N/HFzdjQ6nojIn1IBtmOTJ09mz5497Nixg9WrV3PXXXexZ8+ewnVqP/30U7y8vMjJyaFx48b07t0bb2/vy84RFxfHvHnz+Pjjj7nnnntYsGAB991331Xv5ePjw7Zt23j//fd54403+OSTT5g4cSLt27dn/PjxLF26lBkzZvxp3mvlyc/P56GHHmLNmjWEhISQlpYGwMsvv0zFihXZvXs3AOnp6X95PZKTk9mwYQOOjo6cO3eOtWvX4uTkxPLly3n22WdZsGAB0dHRJCQksGPHDpycnEhLS8PT05NHH32U1NRUfH19mTlzJkOHDv1bfwYiJU1C2gXeXhfPtI1JcNFKh9rePNWvHp1q+mqlExEpMVSAr2Hp0qWMGTMGq9XKsGHDGDdu3GX7ExMTGTp0KKmpqXh5eTF37lzMZvM/es8/G6ktKk2aNLnsJg1vv/124ShmUlIScXFxVxXgkJAQGjRoAECjRo1ISEi45rl79epVeMw333wDwLp16wrP36VLFzw9Pf8037XypKam0qZNm8LcXl5eACxfvpyYmJjC1/7VuQH69u2Lo2PByFVmZiaDBg0iLi4Ok8lEXl5e4XlHjBhROEXi9/e7//77mTt3LkOGDGHjxo3Mnj37L99PpCTZciydab/EE7PjBJhMDI7y5/E2IdT3r2h0NBGRG6YCfAWr1crIkSNZtmwZZrOZxo0b0717d8LDwwuPefLJJ3nggQcYNGgQK1euZPz48cyZM8fA1LdGuXLlCn+9evVqli9fzsaNGylbtixt27a95k0cypQpU/hrR0dHcnJyrnnu349zdHTEYrHccLa/m+ev/HGE6srX//H3/9///pd27dqxcOFCEhISaNu27Z+ed8iQIdx99924urrSt29fzSGWUsGab+P7fad4ffVR1h9NBzcnxneozqiWwfhXdDU6nojITdMqEFfYsmULoaGhVKtWDRcXF/r378+iRYsuO2bfvn20b98egHbt2l21v6Rwd3fn/Pnz19yXmZmJp6cnZcuW5cCBA2zatOmWv3/Lli356quvAPj555//dJrC9fI0a9aMNWvWEB8fD1A4BaJjx4689957ha///dyVK1dm//795Ofn/+kc3czMTAICAgCYNWtW4fMdO3bko48+Kizxv7+fv78//v7+TJo0iSFDhtzQdRApbrIvWfhwYwLBU1bT89OtHDyXyzu9wzn/Qgde6Vpb5VdESjwV4CukpKQQGBhY+NhsNpOSknLZMfXr1y/8Z/yFCxdy/vx5zp49e9W5oqOjiYqKIioqitTU1Nsb/CZ4e3vTsmVL6tSpw1NPPXXZvi5dumCxWAgLC2PcuHE0a9bslr//iy++yM8//0ydOnX4+uuv8fPzw93d/ZrHXi+Pr68v0dHR9OrVi/r169OvXz8Ann/+edLT06lTpw7169dn1apVQMG8527dutGiRQuqVKly3WxPP/0048ePJzIy8rIR62HDhhEUFES9evWoX78+X3zxReG+gQMHEhgYSFhY2D++NiJGOHkul/8uPUD5l1fyyNd7qVLehQVDGnLimbaMahlC+TL6lw0RKR1MNpvN9scn/vjQZrMVblarFYvFQk5ODtnZ2aSlpREZGVnkgW+3+fPns3TpUj755BMA5syZw+bNm3n33XcLjzl+/DijRo0iPj6eNm3asGDBAvbs2YOHh8d1zxsVFUVsbOxlz+3fv9+uy9LFixdxdHTEycmJjRs38sgjj7Bjxw6jY920UaNGERkZyYMPPnjdY+z9z1yKp70nz/PmmqN8+utxyM+nV73KPNW2Gs2qehkd7ZqfnSIi/5T+d/4KAQEBJCUlFT5OTk4u/Kfw3/n7+xeOAGdlZbFgwYI/Lb9ybceOHeOee+4hPz8fFxcXPv74Y6Mj3bRGjRpRrlw5pk6danQUkb/FZrOx8vAZXv8lnp/2pYKzI6NbBjK6VQjVfcr99QlEREowFeArNG7cmLi4OOLj4wkICCAmJuayf+YGOHPmDF5eXjg4OPDqq69qyaubVKNGDbZv337Zc2fPnqVDhw5XHbtixYqrVqAoTrZu3Wp0BJG/5ZIlny93HufV1UfZn3IeKpZh8t21GN40CM+yunGFiNgHFeArODk58e6779K5c2esVitDhw4lIiKCF154gaioKLp3787q1asZP348JpOJNm3aXPZlK/lnvL29S/Q0CJHiKv3CJaI3H+P5NQlYMi8S5u/OZ/cW3LjC1Uk3rhAR+6ICfA1du3ala9eulz33x1v79unThz59+hR1LBGRG3b0bDZvr41n+sZkyLPSKcyHpwbUp0MNH924QkTslgqwiEgpknXRQkpmLglpF5ixJYmvd54EBxNDogIY2yaEulUqGB1RRMRwKsAiIiVETp6VlMxckjNySMrMJTk9h2OZuSRl5HA0I5f9aTmQ84cbzZR15vl/VefRlsFUqaC1e0VEfqcCLCJSDORarBzPzCU5M5fkzBySMgqKbXJGLkfTc9mdngPZeVe/sLwLdT1dqelVlo7VvQjwcCWoohvmiq5EmitSzkUf8yIiV9Ino/xt5cuXJysry+gYIiVOnjWflMzcgtHbzP+N3iZm5JKYkcv2jBw4d+nqF5Z1JszTleqebrQO9iDQwxVzRTfMHq4EVnTDv6Irbs76ApuIyI1SAZYSx2Kx4OSk/3Sl+LHZbPyw/zQrD58hKT2XhIwcdmTkYjl3EWxXHOzqRE0vV6p7uDEisALmCm6YPQuKbYCHK+aKrhq9FRG5TfTpWlwsfgaSd9/ac5rrwt1Trrt73LhxBAYGMnLkSAAmTJiAk5MTq1atIj09nby8PCZNmkSPHj3+8q2ysrLo0aPHNV83e/Zs3njjDUwmE/Xq1WPOnDmcOnWKESNGcPToUQA++OAD/P396datG3v27AHgjTfeICsriwkTJtC2bVsaNGjAunXrGDBgADVr1mTSpElcunQJb29vPv/8cypXrkxWVhaPPfYYsbGxmEwmXnzxRTIzM9m1axdvvfUWAB9//DH79u1j2rRp/+jyivzR1uQMnli0nzVH0qCMIyGertTwdGOwvzvmim4EebgS4OFGUEVX/Cu6UsHV2ejIIiJ2SwXYjvXr14/HH3+8sAB/9dVX/PTTT4wePZoKFSpw5swZmjVrRvfu3f9yuSRXV1cWLlx41ev27dvHpEmT2LBhAz4+PqSlpQEwevRo7rjjDhYuXIjVaiUrK4v09PQ/fY9Lly4V3hI1PT2dTZs2YTKZ+OSTT3jttdeYOnUqL7/8MhUrVmT37t2Fxzk7O/N///d/vP766zg7OzNz5kw++uijf3r5RABIzsjhv0sPMmtLCpR3IbpfHYZEBeLk6GB0NBERuQ4V4OLiT0Zqb5fIyEhOnz7N8ePHSU1NxdPTEz8/P8aOHcuaNWtwcHAgJSWFU6dO4efn96fnstlsPPvss1e9buXKlfTt2xcfHx8AvLy8AFi5ciWzZ88GwNHRkYoVK/5lAe7Xr1/hr5OTk+nXrx8nTpzg0qVLhISEALB8+XJiYmIKj/P09ASgffv2fP/994SFhZGXl0fdunVv8GqJXC7rooWpq48wYdVRyIdnO1bnmXbVNbIrIlICqADbub59+zJ//nxOnjxJv379+Pzzz0lNTWXr1q04OzsTHBxMbm7uX57nZl/3R05OTuTn5xc+vvL15cqVK/z1Y489xhNPPFF4Z74JEyb86bmHDRvGK6+8Qu3atRkyZMgN5RL5I2u+jTlbkxiy5BBkXmRgI38m3VmLYK+yRkcTEZG/Sf9GZ+f69etHTEwM8+fPp2/fvmRmZlKpUiWcnZ1ZtWoViYmJf+s813td+/bt+frrrzl79ixA4RSIDh068MEHHwBgtVrJzMykcuXKnD59mrNnz3Lx4kW+//77P32/gIAAAD777LPC5zt27HjZral/H1Vu2rQpSUlJfPHFFwwYMODvXh6Ry6w6fIa609YyZN5umnq5senxFswdGKnyKyJSwqgA27mIiAjOnz9PQEAAVapUYeDAgcTGxlK3bl1mz55N7dq1/9Z5rve6iIgInnvuOe644w7q16/PE088AcD06dNZtWoVdevWpVGjRuzbtw9nZ2deeOEFmjRpQseOHf/0vSdMmEDfvn1p1KhR4fQKgOeff5709HTq1KlD/fr1WbVqVeG+e+65h5YtWxZOixD5uw6ezqLHp7/S/v3NnM618PXgSDaOakHTIP23JCJSEplsNttli/P88aHNZivcrFYrFouFnJwcsrOzSUtLIzIyssgDl1RRUVGFX+D63f79+wkLCzMokf3p1q0bY8eOpUOHDoZl0J95yXIm+xKTlh1i+rpj4OLI651DGdkiWGvvFqFrfXaKiPxTmgMspV5GRgZNmjShfv36hpZfKTlyLVY+XJ/I2J/j4KKVkS0DeaFjTSqVL2N0NBERuQVUgOWG7N69m/vvv/+y58qUKcPmzZsNSvTXPDw8OHTokNExpASw2Wws3HOSkYsPcPLMBe6K8OWNbmHUruxudDQREbmFVIANZrPZ/nKN3eKkbt267Nixw+gYJdIVs42kmPk1KYOxi/ax/mg6Yf7uzBnRhH/V9DU6loiI3AYqwAZydXXl7NmzeHt7l6gSLDfOZrNx9uxZXF1djY4iVziWkcPzPx5gzq/HoYILn/Svy+CoQBwd9HdSRKS0UgE2kNlsJjk5mdTUVKOjSBFwdXXFbDYbHUN+c/6ihTdWHeGllQW3436+U3WebheKexl9LIqIlHb6pL+GpUuXMmbMGKxWK8OGDWPcuHGX7T927BiDBg0iIyMDq9XK5MmT6dq16w2/j7Ozc+EdzESkaFjzbcyKTWLYD4fg/EXub+zPpDtrE+ThZnQ0EREpIirAV7BarYwcOZJly5ZhNptp3Lgx3bt3Jzw8vPCYSZMmcc899/DII4+wb98+unbtSkJCgnGhReRvWRGXymPf7Wd/ynlaVvNk2rAoGgd6GB1LRESKmArwFbZs2UJoaCjVqlUDoH///ixatOiyAmwymTh37hxQcEcyf39/Q7KKyN9z4PR5nly8nx/2puLj48aCIQ35dx0/zb0XEbFTKsBXSElJITAwsPCx2Wy+aomvCRMm0KlTJ9555x2ys7NZvnz5Nc8VHR1NdHQ0gOb5ihggNesiLy+L4531x6CMI2/2rM0jLYJxddKNLERE7JluhXwT5s2bx+DBg0lOTmbJkiXcf//95OfnX3Xc8OHDiY2NJTY2Fl9fLackUlRyLVbe/OUIlV5ZzTvrjzGmVRCpz7ZjbJvqKr8iIqIR4CsFBASQlJRU+Dg5OZmAgIDLjpkxYwZLly4FoHnz5uTm5nLmzBkqVapUpFlF5HI2m41vdp9kxPf7OXMmh+51KjGlW21qV9KNLERE5H80AnyFxo0bExcXR3x8PJcuXSImJobu3btfdkxQUBArVqwAYP/+/eTm5mqEV8Rgu0+co+V7G+kzaxu+ZZxY8UhTFg1trPIrIiJX0QjwFZycnHj33Xfp3LkzVquVoUOHEhERwQsvvEBUVBTdu3dn6tSpPPTQQ0ybNg2TycSsWbP0ZRoRA32+LZn7YnaDmzMzB9Tl/ka6kYWIiFyfyXbF/Vn/+NBmsxVuVqsVi8VCTk4O2dnZpKWlERkZWeSBS6qoqChiY2ONjiFSqlyy5PP09/uYviaRNjW8+Oq+hlR2L2N0LLmF9NkpIreDRoBFpEQ6cS6X3rO3sfFoOk+1C+GVrrVxctSsLhER+WsqwCJS4qyPT6PV7G2Qa+GrQZH0ra+1uEVE5O9TARaREsNms/HBhgRGLtxPkE9ZljzclAg/fclNRERujAqwiJQIFy5ZGbFgF3N+PU6PupWZNaA+Hq7ORscSEZESSAVYRIq9o2ez6TZrK/uPn+eVrjV5pn0oDlrlQUREbpIKsIgUaz8dOE2XOdvBZGLp8MZ0rqUbzoiIyD+jAiwixVJ+vo3/WxnHCz/GUTegAosGNSLEu6zRsUREpBRQARaRYicjJ49B83bw3Z7TDG4SwHu96lLWxdHoWCIiUkqoAItIsbLn5Dk6zdzKibM5fNA3goebVdWdFkVE5JZSARaRYuPLHSn0n7cbp7JObBjVjObBXkZHEhGRUkgFWEQMl2fNZ/wPB5i6Op6WoZ7Mv68hfhVcjY4lIiKllAqwiBjq5Plc+s7dzrq4NB6/I5jXuoXhrFsai4jIbaQCLCKG2ZSYTuvPtmK5kMe8+xvQPzLA6EgiImIHVIBFpMjZbDaiNx9jxIK9+Hm68fOYJtStUsHoWCIiYidUgEWkSOXkWRn5zR5mbk7mrghf5g6IxKOsbmksIiJFRwVYRIpMQtoFun+2ld1J55jYpQbP/6uGbmksIiJFTgVYRIrE8kOpdJyzHfJt/PBQFF3DKhsdSURE7JQKsIjcVvn5Nl7/5Qjjvj9ImL87iwc1orpPOaNjiYiIHdNaQ9ewdOlSatWqRWhoKJMnT75q/9ixY2nQoAENGjSgZs2aeHh4GJBSpPjLyM2j9+ytjFt8kIEN/fn1sRYqvyIiYjiNAF/BarUycuRIli1bhtlspnHjxnTv3p3w8PDCY6ZNm1b463feeYft27cbEVWkWDtw6jx3ztxKwpkLvNMrnJEtg3VLYxERKRY0AnyFLVu2EBoaSrVq1XBxcaF///4sWrTousfPmzePAQMGFGFCkeJvwa4ThL21noQcC2sfbcqoViEqvyIiUmyoAF8hJSWFwMDAwsdms5mUlJRrHpuYmEh8fDzt27e/5v7o6GiioqKIiooiNTX1tuQVKU4s1nzG/bCfPrO20dTfnZQnWtGqmrfRsURERC6jKRD/QExMDH369MHR0fGa+4cPH87w4cMBiIqKKspoIkXudNZF+s/Zzqq4szzWuipv3B2Oi5P+H1tERIofFeArBAQEkJSUVPg4OTmZgIBr3541JiaG9957r6iiiRRbvyZl0H7WVrLOX2L2wPrc38hsdCQREZHr0vDMFRo3bkxcXBzx8fFcunSJmJgYunfvftVxBw4cID09nebNmxuQUqR4sObbmL72KE3e3kgZBxPbx7RQ+RURkWJPI8BXcHJy4t1336Vz585YrVaGDh1KREQEL7zwAlFRUYVlOCYmhv79++uLPWK3jpzJZtBXO1l/OJ0edSvz6T318CrnYnQsERGRv2Sy2Wy2Pz7xx4c2m61ws1qtWCwWcnJyyM7OJi0tjcjIyCIPXFJFRUURGxtrdAyRfyw/38ZHmxJ5dNEBcDIxp1cEAxsG6H8G5bbQZ6eI3A4aARaRvy0h7QJDv9zFqriz3BnuS3TfupgruhkdS0RE5IaoAIvIX7LZbHy6JYlh3+4Dk4lP+9dlcONAjfqKiEiJpAIsIn8qOSOHB7/exc/7z9C+ljef3lOPqp5ljY4lIiJy01SAReSabDYbc7YmM+ibfWC18WHfCB5qWhUHB436iohIyaYCLCJXOXkul4fn7+a7PadpVcOL2ffUJ8Rbo74iIlI6qACLSCGbzcZXO4/Tf/5euGRleq9wRrUI1qiviIiUKirAIgIU3Mp45II9zN95ksYhHnzevz41fMsbHUtEROSWUwEWEb7ZfYLeX++BHAuv96jN2NbVcNSor4iIlFIqwCJ2LC37EqO+3cu8rceJrFqRL/rXp3Zld6NjiYiI3FYqwCJ26vt9p7j7y91w4RKvdK3JU+2q4+ToYHQsERGR204FWMTOZFzIY+x3e5m1JYUIcwW+eLgJ9fwrGB1LRESkyKgAi9iRpQdPc/eXu7Ccu8SEzqGM71ADFyeN+oqIiH1RARaxA+dy83hq8X6iNyZR0788MUMbE2muaHQsERERQ6gAi5Ryqw6foW/MLs6m5/Bsx+r8t2MNXJ0cjY4lIiJiGBVgkVIq66KFcUv2897aYwT5leOHMS1oGuRpdCwRERHDqQCLlELrjp6lb8wuTp69wFPtQpjYpRZuzhr1FRERARVgkVLlwiUrzy89wLRfEqjiU5Z1o5rTMsTL6FgiIiLFigqwSCmxKTGdfvN2cux0NmPaVOX/utamnIv+iouIiFxJ6x9dw9KlS6lVqxahoaFMnjz5msd89dVXhIeHExERwb333lvECUX+JyfPyvgl+2n+9gayLfmserQpb/Wso/IrIiJyHfoJeQWr1crIkSNZtmwZZrOZxo0b0717d8LDwwuPiYuL49VXX2X9+vV4enpy+vRpAxOLPduanMGAeTuJO5HFiJZBvNYtDPcy+mstIiLyZ/ST8gpbtmwhNDSUatWqAdC/f38WLVp0WQH++OOPGTlyJJ6eBd+or1SpkiFZxb5Y823sO3WejYnpbEhMZ8XRdJJTL1Dew5WfRjShU01foyOKiIiUCCrAV0hJSSEwMLDwsdlsZvPmzZcdc+jQIQBatmyJ1WplwoQJdOnS5apzRUdHEx0dDUBqauptTC2lUUZOHpuPpbMpIZ31iRksS8iAXEvBTvcy9KrmwX9aVGVwk8D/b+/ew6Ks8/+PPxEQz4LiAQcQEQ+AJ3TwlFrqpnYiSyusdktzsRbXyrbDfrd1u37rbpplabi1/rbVtlLa3b6bpGVqlqamhnjGAykog1ogBwURmJn7+8cYCtpmCtwD83pc11x6z30PvpjL6NWnz9xv/Jv6mhtWRESkHlEBvgZ2u52MjAy++OILbDYbI0aMYO/evfj7+1e5LiEhgYSEBACsVqsZUaWecDoNDucVs+1YIVuyCvg8q4CMk8Wuk17QO7gVv461MDQsgMGdA+gc0BQvLy9zQ4uIiNRTKsDVWCwWsrOzK49tNhsWi6XKNcHBwQwaNAhfX1+6dOlC9+7dycjIIDY2tq7jSj1VXGYnNbuQr7IK2HysgFWZhXCuwnWyuS+3dwlgyoBODO4cgDXYnxba1ysiIlJj9G/VamJjY8nIyCAzMxOLxUJycjLLli2rcs348eNZvnw5kydPJi8vj8OHD1fuGRapzjAMMvPPsfV4AVuyCtiYWcjenDNguM5379SCaf06MiQsgMGhAXQLbE6jRlrdFRERqS0qwNX4+PiQlJTE2LFjcTgcTJkyhejoaGbNmoXVaiUuLo6xY8eyZs0aoqKi8Pb2Zt68ebRt29bs6OImSiscpNmK+Op4AZszC/gwqwDOlLtONvFhTBd/JoztxpCwAAaG+Gv/roiISB3zMgzDuPSJSw8Nw6h8OBwO7HY7paWllJSUkJ+fT0xMTJ0Hrq+sViupqalmx5BaYCssvbi6m1XIjuNF4HT9cxTavjmjuwQwJMyfIZ0DiGzfEm+t7oqnMQy4xj3r+tkpIrVBK8AiP9HZMjvLdubwRcZpVmYVUFxw3nWicSNGdPbnf0aHM7RzAAND/WnXtiku6wAAIABJREFUws/csCK1zemEku+gyAYFx6Hwwq+nsyHfBrnH4N650P8Bs5OKiFRSARa5SraiUhZtymLOluNQaqdtm6bcGd6GoWH+DOnchl5BLfH11nBFaWDsZa5yW2iDomwoyIb8bMg/DqdtkHsc7OVVX9PMH9qHQptgiBgMgV3NyS4i8gNUgEV+xO4TRczfmMk/Uk+AYXBf/yCeGhFObIj/j79YxN2VFrqKbaHNVW4Lj7lWbk9nQ142FJys9gIvaBMEgaHQuR/0vwP8Q8E/BAJCoHUwNGltyrciInK1VIBFrsDpNFh7OJeXNhxl/aHT4OfNUyPCmD4sjLA2zcyOJ3J1nE4oPgWF2Rcexy+s3l5ScM8VVX2NTxNoF+J69LkZAkJdxTYgBFqHQCsL+DQ25/sREakhKsAilyitcJC8M4fZGzI5erKYFv5NeOXOnkwZGKq7NYj7ctgh/wh8mw4n98PJdLAdgO+ywFFR9drmAa7tCe26QI/h0CYU/IMvruI2C4RG2sojIg2bCrAIkFdSzl+3HOP5zVlwppzeIa1Y/vN+TOgTpH294j4Mw7Vd4VT6hbKbDjnpYDt4cR+uVyMI6gYh0TAg7vLtCX4tzf0eRETcgAqweLRDucUs+DKTN7bawO7ktuh2/ObGcG7s2lajhsVcJXlwaj98e8D1a046HD8A589cvCYwxFV0o0dDx2joEAWB3cG3iXm5RUTqARVg8TiGYbA5M5+XN2SyYt+34N2IaQMtPDG8Cz07aHVM6ljZWfju4MUV3RP7wZYOhd9dvKZlWwjtBcPvh6Ao6BAN7Xvqw2YiItdIBVg8ht3h5H/3nWLOF0fZeawIWjTmhbHdeHRIZzq01P16pZbZyyHv8MUV3RPpYNsP3x27eI1fcwiNgr7jIOjCim6HKGjR/poHSYiIyOVUgKXBO3O+giVfZ/PHDVmczi8lrH1zFt/Xiwf7B9PU19vseNLQOJ1QkHmh6F74UFrOAThx2PVhNQBvH7D0hIiBMPwh6NALOkSCf2d9AE1EpA6oAEuDZSssJWlzFnM3H4fzdoZ1a8Ozd0dza8/2NNI4YqkpTgd8uw+OboJvvoQDm6Gk4OL5jl0gOBr63XZxn27bCN1KTETERCrA0uDsyinilY1HeXeH6wb+k2KCeOrGLgwI1uAKqQFOB5za4yq8GZvg4GY4V+g6FxQB1jjoMsi1T7ddD/BrYW5eERG5jAqwNAhOp8HqQ9/x0oajbDicD018ePrGMBKHhdE5QIMr5Do47JcU3i/h0JaLwyOCusGgu6DrCOhyA7TqZG5WERG5KirAUq+VVjhYlpbDnzYcJfNUCS0CmjB/fE8mDwzFv4kGV8g1cNjh5G44+iV8swkObLl467FOPWDwBFfhDbsBWgWZm1VERK6JCrDUS98Vl/HmlmP8YdMxKC6nT2grkn/Rj7t7a3CF/ESOiguFd+OFLQ1fwfmzrnPBPeGGeyF8GHQZBi07mptVRERqhAqw1CuZp8/x0hdHeHOba3BFXK/2zLwxnBHhbTS4Qq6OowJO7Ly4peHgV1BW7DoXHAk3xEPX4a4V3pYdzM0qIiK1QgVY6o2ScjvdF23BXlzBo4MsPD68Cz3ba3CF/Ah7+YXCuxEOb4LD2y4W3pBo13CJ7wtvi/bmZhURkTqhAnwFq1ev5vHHH8fhcDB16lSee+65KueXLl3K008/jcViAWD69OlMnTrVjKgeZf7Go9gLy9gyYwhDwtqYHUfclb0ccnZA5peuLQ2HtkFZietcaC8Y8eDFwts80NysIiJiChXgahwOB4mJiaxdu5bg4GBiY2OJi4sjKiqqynX33XcfSUlJJqX0PKfOnGfW2qPc27+jyq9UdfZbyEmD7B1wdJur8Facc50L6wMjfnFJ4W1rblYREXELKsDVbN++nYiICMLDwwGIj49nxYoVlxVgqVt/+PQwOJ28eEtPs6OImc4XubYzZKfCsTTITIM8m+ucVyPo3BtGToauw1yFt5n+Y0lERC6nAlxNTk4OISEhlcfBwcFs27btsus++OADNm7cSPfu3Xn11VervOZ7ixcvZvHixQDk5ubWXugGbu/JMyzems1TN3UhvG1zs+NIXakohVN7XSu7x3e4yu6JwxfPd+wK3YbCzwZAcH8I6gON9fdDRER+nArwNbjjjjuYNGkSfn5+/PWvf+Whhx5i/fr1l12XkJBAQkICAFarta5jNhhPrzoITX353egIs6NIbXHYIfcA2C6U3aw0OL7f9TxAQBCEW2FIPFgGgCVGq7siInLNVICrsVgsZGdnVx7bbLbKD7t9r23bi/sIp06dyjPPPFNn+TzNmsO5fJqey2t3RRLQrLHZcaQmOJ2Qf9S1b/f4DtdWhqO7L+7bbe4P4QPg1ich+MLqriasiYhIDVIBriY2NpaMjAwyMzOxWCwkJyezbNmyKtecPHmSoCDXBKiUlBQiIyPNiNrgOZwGT6QcoGNgM6YN6Wx2HLkWhgFnTlz8kNrxNDiSBiWFrvO+zSC8H4yaAiEXym6bcNA9nUVEpBapAFfj4+NDUlISY8eOxeFwMGXKFKKjo5k1axZWq5W4uDgWLlxISkoKPj4+tGnThqVLl5odu0F6Z0c2B06c5d8P96eJj7fZceRqnMuHE2muopudBkdSoeCU65y3j+s2ZIPuhlArWPpDu56u50VEROqQl2EYxqVPXHpoGEblw+FwYLfbKS0tpaSkhPz8fGJiYuo8cH1ltVpJTU01O0a9UVxmp+WcLxjUpilfTR+qKW/uqiQPDq2GQ5/B0TQ4deTiuU49XFsZQi+s7HbsBb5Nzcsq9ZJ+dopIbdDSi7il+RuOQlEZrz08QOXX3Zw+AumrYO8q1xhhw+n6kFq3QTD8oQsfUusHTVqbnVREROSKVIDF7Zw8c54/fHaU+wYEMbhzgNlxxOl0TVZLXwm7PgbbAdfzYX0h7lmIug2C+mrfroiI1BsqwOJ2Zn16yDX0YpyGXpim4jwc3QD7V8KuT1z7eL28IXo4DH8EIm+BAH0wUURE6icVYHEre0+e4W9bbTx9Uxe6tG1mdhzPci4fDn0K+1bC7s+grBiatIS+N0Pv26H7zdBUK/IiIlL/qQCL2zAMg9+sPABNffmf0d3MjuMZ8jPhwMewZxUc2AyGA9p0gmHxEHU7hA8HHz+zU4qIiNQoFWBxG2sO57LmQB4L7o7Cv5mv2XEaJqcTTu6E/atg98dwfJ/r+dBecPtTEH0bBMVAo0bm5hQREalFKsDiFuwOJzM+OkBQu2Y8Olh7S2uUvQyObnTduWHnx5B/ArwaQeQwiJ8LkbdCmy5mpxQREakzKsDiFt7eYePwiWL+M7k/jX20+njdSgvg8FrY+xHsXgfnz4JfC+j7swv7ecdAszZmpxQRETGFCrCYrrjMztRVhxkSHsCdvTqaHaf+KjgGBz6BvSth/5eu/bwBHWHoPRf2844A3yZmpxQRETGdCrCY7pUNR+FsGa8+oqEXP4lhwMndrluV7fkYsva4ng+JgtuehOjboVN/7ecVERGpRgVYTHWi6DwvrD9CfP8gBoXqFltXpTAbdiXDtvfBdtC1n7fHULjvRdd+3rZdzU4oIiLi1lSAxVSzPj0EDnjxVg29+K/On4H9K+DrZNi/wfVcz2HwUBJE3g7NA83NJyIiUo+oAItp9pw4w1vbbDwzsgthbTT04jIOOxz5HHYsg9SVUF4KQd3grt9DzH0QEGZ2QhERkXpJBVhMUTn0opkvvx2loReVDANO7YEdybDtn1D4LbRsAyN+Dv0nQbAVtE9aRETkuqgAiyk+PZzL2oN5vK6hFy5nTsCuf8K2ZNdwCm9fGHArDJjkumWZT2OzE4qIiDQYKsBS5+wOJzNSDhDcrhkJnjz0oqwY0j+C1OWw53PAgO6D4cEF0Psu3adXRESklqgAS517O9VGxsliPpzigUMvnA7I3OAqvV+nQFkJtA+DO5+DmHjdwUFERKQOqABLnTpbZmfqx4e5ITyAuGgPGnrx7X5IWw5b/+kaRdzMH264z7WvN3Sw9vWKiIjUIQ9bfrs6q1evpkePHkRERDBnzpwfvO6DDz7Ay8uL1NTUOkxXv83/4gicLWN+XGTDH3px9lvYlATzb4DZg+DTJAiLgWnvwuxv4K6F0HmIyq+IiEgd0wpwNQ6Hg8TERNauXUtwcDCxsbHExcURFRVV5bqzZ8+yYMECBg0aZFLS+sdWVMoLnx9l0oBODGyoQy/Kz8GBVa4tDrvXgeGErla4/xXoM0H36xUREXEDKsDVbN++nYiICMLDwwGIj49nxYoVlxXg3//+9zz77LPMmzfPjJj10h8+PQwO+PMtPcyOUrOcTji2yVV6t38I589CYAjc/hTETIJ23c1OKCIiIpdQAa4mJyeHkJCQyuPg4GC2bdtW5Zq0tDSys7O57bbb/msBXrx4MYsXLwYgNze3dgLXE7tPFPH3bTaeHRXecIZe5B66sK/3fcjLhiatYOBdrluXhd0AjbTDSERExB2pAP9ETqeTmTNnsnTp0h+9NiEhgYSEBACsVmstJ3NfhmEw8yPX0IvnRkWYHefaOR2QswMOroG9qyFzF3h5Q9+fwV1/hJ63QuMGUu5FREQaMBXgaiwWC9nZ2ZXHNpsNi8VSeXz27Fn27dvHTTfdBMCpU6eIi4sjJSXFo0vuf7PmUC7rD53m9QlR+DetZ0MvinPhm8/gwKew9zM4mw9ejaD7IIifC30mQssOZqcUERGRn0AFuJrY2FgyMjLIzMzEYrGQnJzMsmXLKs+3bt2avLy8yuObbrqJl19+WeX3B9gdTn710YWhF4PqwdALpwNy0uDQGti3Fo7sAAzwbw/9boHIMdB1pIZUiIiI1GMqwNX4+PiQlJTE2LFjcTgcTJkyhejoaGbNmoXVaiUuLs7siPXKktRsjp4s5sMpA9x36EVJHmR85trasGcdnD3tWuXtNhDueh56joGOfbWnV0REpIHwMgzDuPSJSw8Nw6h8OBwO7HY7paWllJSUkJ+fT0xMTJ0Hrq+sVqvH3S/4bJmdVi9+zoh2LfjiV4Pd576/Tgec2OkqvOlrISMVMKBVO+hzs2uVN2KUVnlF3IAn/uwUkdqnFWCpNS9/fgTOlPPyI24w9KLk9IW9vGtg7zo4kwd4QfeBMP530PNmCIrRKq+IiIgHUAGWWmErKuX/rT/KAwM6ERviX/cBnE44eWGVd/9ayPga1ypvoGuVt+eFVd7mbes+m4iIiJhKBVhqxazVhwGYXZdDL87lwzfrXXds2LMOzuQCXtAtFsb/D/QYA520yisiIuLpVIClxu3KKWLJdhvPja7loRdOJ5zcBYfWwv41rlVewwkt21bdy6vxwyIiInIJFWCpUYZhMDPFNfTi2ZG1MPSitBAy1sHBtbB3LRR+h2uV1wpxz7m2NnSKgUbeNf9ni4iISIOgAiw1avWh7/g84zSLanroRcEx2LQINrwNZSXQss3FvbzdRmuVV0RERK6aCrDUGLvDyfSPDhLavjm/HFxDQy9O7obPF8DWD1x7d4feB0OmgGWAVnlFRETkmqgAS435+9euoRcrHhmAr/d1fNDMMFwfZvtiAexZD01awS3TYeivoLXlx18vIiIi8l+oAEuNOHO+gmmrDzOiaxvuiOpwbV/EUQH7PoR1r0HWbggIgntmw8DJ0KR1zQYWERERj6UCLDVi3heuoRevXMvQi7Ji2PEOrHsdco9DcCQ8/Ab0vRd8/GonsIiIiHgsFWC5brbCUmavz+TB2E5Yf8rQi+LvYMubsP7/Q0kBRN4A974C3cfqXr0iIiJSa1SA5br9fvUhAGaPu8qhF6ePwMaFsPE9sJdB7B0w8gkIGViLKUVERERcVIDluuzKKWLp9hx++7OudA74kaEXtlT4/FXYnuLa2jDifhg+AwJr4X7BIiIiIj9ABViumWEYPPFROjT35ZlRXa98kdMJh9fAZ6/BwU3Q3B/ueBqGPgot2tdtYBERERFUgOU6fHzgOzYczucvE6Pxb1Jt6IW9DPb8C9YuANsBaBcKk+bBgJ+DXwtzAouIiIigAizXqMLh5FcrDxDWvjlTB4VePHG+CLYvgXWLoOAkhPWFqX+HXneBdw1OhhMRERG5RirAck3+/nU2x0+VkPL90IszJ2DzIli/BM6fgV4j4edvQsQo+Km3RRMRERGpRbrX1BWsXr2aHj16EBERwZw5cy47/+abb9K7d2/69evHsGHDSE9PNyGlec6cr+DRjw8zrFsb7gjMh389BrOi4ZPXof9Y+O0mmPYRdBut8isiIiJuRyvA1TgcDhITE1m7di3BwcHExsYSFxdHVFRU5TX3338/jz76KAApKSnMnDmT1atXmxW5zs1b/w23VOzmYzbB7HXg2wxGTYXhiRAQZnY8ERERkf9KBbia7du3ExERQXh4OADx8fGsWLGiSgFu1apV5e9LSkp++uSz+srpoHjH/zJ145/5Y0kG2AJh/PMw+JfQvK3Z6URERESuigpwNTk5OYSEhFQeBwcHs23btsuuW7RoEfPnz6e8vJz169fXZcS6Zxiw59+w6k+0OPkNXn4dKZswD7+hD0HjH7n3r4iIiIib0R7ga5SYmMiRI0eYO3cus2fPvuI1ixcvxmq1YrVayc3NreOENaQoB5bcC3+bDN7NeKTVTOaMXoHfTY+p/IqIiEi9pBXgaiwWC9nZ2ZXHNpsNi8Xyg9fHx8fz2GOPXfFcQkICCQkJAFit1poNWtsMA3a8Df/6HVRUQPxcRu3py+clpRSM7G52OhEREZFrphXgamJjY8nIyCAzM5Py8nKSk5OJi4urck1GRkbl71etWkW3bt3qOmbtKsiCxXHw9nTo0g+e38qK1hP4PKOIN2/pdvnQCxEREZF6RCvA1fj4+JCUlMTYsWNxOBxMmTKF6OhoZs2ahdVqJS4ujqSkJNatW4evry8BAQG8/fbbZseuGU4nbF0M//sH8PKGXyyEAQ+zdIeNyf/cSfdOLZgyMPTHv46IiIiIG/MyDMO49IlLDw3DqHw4HA7sdjulpaWUlJSQn59PTExMnQeur6xWK6mpqWbH+GF5GZCcCIe2QL+xMHEB55sH8eSKdN7cfJybeway7IEYAps3NjupiHgQt//ZKSL1klaAPZ3DDpsXwn/+DH5N4ZG/Qd/7sBWdZ/xftrIjq5Dnb+7KC2N74N3IQ273JiIiIg2aCrAnO7UPlv8KjqbBwDth/Hxo2YEvjuQx8u2dYHfy4ZQB3Nmro9lJRURERGqMCrAnspfDFy/DypegZRuY9i70Go9hGLy28QgzVxykS4fmfPKwlR7tW5idVkRERKRGqQB7mpwdsCwRju+DYZPgjrnQrA1ny+wk/HMPyTtPck+/jrx1X19a+umvh4iIiDQ8ajieoqIU1v0JPlkIAUGQ+G/oOQ6AQ7nF3LF0Bxmnipl3Z0+eGhHuOeOdRURExOOoAHuCY1/Be7+CkxkwcjLcOhuatAYgZf8p7nxvN/g0Yv1jgxgZEWhyWBEREZHapQLckJUVw6cvwNq/QvtQeHIlhN8EgMNp8MKaQ8xec4SYzq358KEBhPo3NTOtiIiISJ1QAW6ovvkclk+H747DmMdgzCzwc32gLb+knEnLdrLmQB7Thobw6p3RNPX1NjmwiIiISN1QAW5oSgth1e9gw9vQqTs8vRZCB1ee3pVTxM+W7uB0YRl/i+/NI5rsJiIiIh5GBbghOfgJLH8cCk7BbTNh9G/B9+K2hnd22PjF+3tp0bIx22cMITbE38SwIiIiIuZQAW4ISk7DR8/A5vchtDckJIOlf+XpcruTmR/tZ9GXxxnZrS3JP4+hfQs/EwOLiIiImEcFuD4zDNj3H0h+CkoKYfzv4ManwKdx5SUnis5z9z92sC2zkOdGh/PHcT3w8W5kYmgRERERc6kA11dnT8F/ZsLXKRAxAOJXQofoKpdsOnqa4f9IgzIH/364PxP6BJkUVkRERMR9qADXN4YBu5bD+89A2Xm4ZzbcMB28fS65xOD1zVk8/uEBwgKbseqxwUR1aGliaBERERH3oQJcnxRmwwePw6410GMoxC+CwG5VLikptzPtX3t5b8cJxvfpwJL4vvg38TUpsIiIiIj7UQGuD5xO+Prv8O/fu1aA758Pg6ZCo6p7eY/klXDH0h0cOHmWOXf04Okbu9KokUYai4iIiFxKBdjdnT4C//w1pG+EXiPh3tchIOyyyz4+8C23vbsLGnnx6bSBjOneru6zioiIiNQDKsDuLn0lZO2Gh/8C/X8OXlVXdJ1Ogz+uy+CF1Rn0DmlFykMDCGvTzKSwIiIiIu5P98O6gtWrV9OjRw8iIiKYM2fOZefnz59PVFQUffr0YfTo0Rw7dqz2wgxNhN+lwoBfXFZ+C89VELfka15YncHkQcFsmz5U5VdERETkR6gAV+NwOEhMTOSTTz4hPT2d5cuXk56eXuWamJgYUlNT2bNnDxMnTuSZZ56pvUDePtDq8tuX7TlxhsjXNrHqYB5v3tuLt+7tQ1Nf79rLISIiItJAqABXs337diIiIggPD6dx48bEx8ezYsWKKteMHDmSZs1cK62DBw/GZrPVacbknTn0XbiZPLuDr6YPYdrgznh56cNuIiIiIldDBbianJwcQkJCKo+Dg4PJycn5wevfeustbrnlliueW7x4MVarFavVSm5u7nVnq3A4eXLFfia9s4thnf3JfnIYgzsHXPfXFREREfEk+hDcdXj33XdJTU1lw4YNVzyfkJBAQkICAFar9br+rFNnzjPx3TQ2f1PAUzd14cXbeuKrkcYiIiIiP5kKcDUWi4Xs7OzKY5vNhsViuey6devW8ac//YkNGzbg5+dXq5m+yspnxNtp2M/ZSf5FP+7rd3keEREREbk6WkKsJjY2loyMDDIzMykvLyc5OZm4uLgq1+zcuZNp06aRkpJC+/btazXPP1KzGZq0lXaNvdn75FCVXxEREZHrpBXganx8fEhKSmLs2LE4HA6mTJlCdHQ0s2bNwmq1EhcXx9NPP01xcTH33HMPAKGhoaSkpNRKnu7tmnN37/a8dW9f/JtqpLGIiIjI9fIyDMO49IlLDw3DqHw4HA7sdjulpaWUlJSQn59PTExMnQeur6xWK6mpqWbHEBGpV/SzU0Rqg7ZAiIiIiIhHUQEWEREREY+iAiwiIiIiHkUFWEREREQ8igqwiIiIiHgUFWARERER8SgqwCIiIiLiUVSARURERMSjaBJcHTl27BhWq/WaXpuXl0dgYGANJ6q/9H5UpffjIr0XVTWE9+PYsWNmRxCRBkgFuI7k5uZe82s1CakqvR9V6f24SO9FVXo/RESuTFsgRERERMSjqACLiIiIiEfxfuGFF164mgsNw8DpdGK326moqKC0tJSgoKBajiffGzBggNkR3Irej6r0flyk96IqvR8iIpfzMgzDuPSJSw8Nw6h8OBwO7HY7paWllJSUkJ+fT0xMTJ0HFhERERG5HtoCISIiIiIeRQVYRERERDyKCrCbW716NT169CAiIoI5c+aYHcc02dnZjBw5kqioKKKjo1mwYIHZkdyCw+EgJiaG22+/3ewopissLGTixIn07NmTyMhIvvrqK7MjmebVV18lOjqaXr16MWnSJM6fP292JBERt6IC7MYcDgeJiYl88sknpKens3z5ctLT082OZQofHx9eeeUV0tPT2bp1K4sWLfLY9+JSCxYsIDIy0uwYbuHxxx9n3LhxHDx4kN27d3vs+5KTk8PChQtJTU1l3759OBwOkpOTzY4lIuJWVIDd2Pbt24mIiCA8PJzGjRsTHx/PihUrzI5liqCgIPr37w9Ay5YtiYyMJCcnx+RU5rLZbKxatYqpU6eaHcV0RUVFbNy4kUceeQSAxo0b4+/vb3Iq83z/gWW73c65c+fo1KmT2ZFERNyKCrAby8nJISQkpPI4ODjY40sfQFZWFjt37mTQoEFmRzHVE088wUsvvUSjRvrHODMzk3bt2jF58mRiYmKYOnUqJSUlZscyhcVi4Te/+Q2hoaEEBQXRunVrxowZY3YsERG3on9zSr1SXFzMhAkTeO2112jVqpXZcUyzcuVK2rdvr3u8XmC320lLS+Oxxx5j586dNG/e3GP3zBcUFLBixQoyMzM5ceIEJSUlvPvuu2bHEhFxKyrAbsxisZCdnV15bLPZsFgsJiYyV0VFBRMmTOCBBx7g7rvvNjuOqTZv3kxKSgphYWHEx8ezfv16HnzwQbNjmSY4OJjg4ODK/yswceJE0tLSTE5ljnXr1tGlSxfatWuHr68vd999N1u2bDE7loiIW1EBdmOxsbFkZGSQmZlJeXk5ycnJxMXFmR3LFIZh8MgjjxAZGcnMmTPNjmO6F198EZvNRlZWFsnJyYwaNcqjV/k6duxISEgIhw4dAuCzzz4jKirK5FTmCA0NZevWrZw7dw7DMPjss8889gOBIiI/xMfsAPLDfHx8SEpKYuzYsTgcDqZMmUJ0dLTZsUyxefNm3nnnHXr37k2/fv0A+POf/8ytt95qcjJxF6+//joPPPAA5eXlhIeHs2TJErMjmWLQoEFMnDiR/v374+PjQ0xMDAkJCWbHEhFxKxqFLCIiIiIeRVsgRERERMSjqACLiIiIiEdRARYRERERj6ICLCIiIiIeRQVYRERERDyKCrBIPeft7U2/fv0qHzU5AS0rK4tevXrV2NcTERFxB7oPsEg917RpU3bt2mV2DBERkXpDK8AiDVRYWBjPPPMMvXv3ZuDAgXzzzTeAa1V31KhR9OnTh9GjR3P8+HEAvv32W+666y769u1L3759K8fnOhwOfvnLXxIdHc2YMWMoLS0FYOHChURFRdGnTx/i4+PN+SZFRESugQqwSD1XWlpaZQvE+++/X3mudevW7N27l+nTp/PEE08A8Otf/5qHHnqIPXv28MADDzBjxgwAZsyYwY033sju3btJS0urnDqYkZFBYmIi+/fvx9/fnw/4EiwyAAAB1ElEQVQ++ACAOXPmsHPnTvbs2cObb75Zx9+1iIjItdMkOJF6rkWLFhQXF1/2fFhYGOvXryc8PJyKigo6duzI6dOnCQwM5OTJk/j6+lJRUUFQUBB5eXm0a9cOm82Gn59f5dfIysri5ptvJiMjA4C5c+dSUVHB888/z7hx42jRogXjx49n/PjxtGjRos6+ZxERkeuhFWCRBszLy+uKv/8pLi3E3t7e2O12AFatWkViYiJpaWnExsZWPi8iIuLuVIBFGrDvt0O8//77DBkyBIChQ4eSnJwMwHvvvcfw4cMBGD16NG+88Qbg2vdbVFT0g1/X6XSSnZ3NyJEjmTt3LkVFRVdchRYREXFHuguESD33/R7g740bN67yVmgFBQX06dMHPz8/li9fDsDrr7/O5MmTmTdvHu3atWPJkiUALFiwgISEBN566y28vb154403CAoKuuKf6XA4ePDBBykqKsIwDGbMmIG/v38tf6ciIiI1Q3uARRqosLAwUlNTCQwMNDuKiIiIW9EWCBERERHxKNoCIdJAZWVlmR1BRETELWkFWEREREQ8igqwiIiIiHgUFWARERER8Sg/uQBf6830RURERETcgVaARURERMSjqACLiIiIiEf5P8W6Px7ru9TpAAAAAElFTkSuQmCC)"
      ],
      "metadata": {
        "id": "vota4RNEucN4"
      }
    },
    {
      "cell_type": "code",
      "source": [
        "\n",
        "\n",
        "plot_loss_curves(history_augmentated)"
      ],
      "metadata": {
        "id": "wQzhXlAubuC4"
      },
      "execution_count": null,
      "outputs": []
    },
    {
      "cell_type": "markdown",
      "source": [
        "Creating a ModelCheckpoint callback\n",
        "Our model is compiled and ready to be fit, so why haven't we fit it yet?\n",
        "\n",
        "Well, for this experiment we're going to introduce a new callback, the ModelCheckpoint callback.\n",
        "\n",
        "The ModelCheckpoint callback gives you the ability to save your model, as a whole in the SavedModel format or the weights (patterns) only to a specified directory as it trains.\n",
        "\n",
        "This is helpful if you think your model is going to be training for a long time and you want to make backups of it as it trains. It also means if you think your model could benefit from being trained for longer, you can reload it from a specific checkpoint and continue training from there.\n",
        "\n",
        "For example, say you fit a feature extraction transfer learning model for 5 epochs and you check the training curves and see it was still improving and you want to see if fine-tuning for another 5 epochs could help, you can load the checkpoint, unfreeze some (or all) of the base model layers and then continue training.\n",
        "\n",
        "In fact, that's exactly what we're going to do.\n",
        "\n",
        "But first, let's create a ModelCheckpoint callback. To do so, we have to specifcy a directory we'd like to save to."
      ],
      "metadata": {
        "id": "Q6thQ6QKg1Ma"
      }
    },
    {
      "cell_type": "code",
      "source": [
        "checkpoint_path = \"one_percent_model_checkpoints/checkpoint.ckpt\"\n",
        "\n",
        "checkpoint_callback = tf.keras.callbacks.ModelCheckpoint(\n",
        "    filepath = checkpoint_path,\n",
        "    monitor=\"val_accuracy\",\n",
        "    save_best_only=True,\n",
        "    save_weights_only=True,\n",
        "    save_freq=\"epoch\",\n",
        "    verbose=1,\n",
        "    mode = \"max\"\n",
        ")"
      ],
      "metadata": {
        "id": "RL5-Xt0kfq6w"
      },
      "execution_count": null,
      "outputs": []
    },
    {
      "cell_type": "markdown",
      "source": [
        "✅ Question: What's the difference between saving the entire model (SavedModel format) and saving the weights only?\n",
        "\n",
        "The SavedModel format saves a model's architecture, weights and training configuration all in one folder. It makes it very easy to reload your model exactly how it is elsewhere. However, if you do not want to share all of these details with others, you may want to save and share the weights only (these will just be large tensors of non-human interpretable numbers). If disk space is an issue, saving the weights only is faster and takes up less space than saving the whole model.\n",
        "\n",
        "Time to fit the model.\n",
        "\n",
        "Because we're going to be fine-tuning it later, we'll create a variable initial_epochs and set it to 5 to use later.\n",
        "\n",
        "We'll also add in our checkpoint_callback in our list of callbacks."
      ],
      "metadata": {
        "id": "_c4RvV_Dg9ct"
      }
    },
    {
      "cell_type": "code",
      "source": [
        "history_augmentation= model_final.fit(\n",
        "    train_data_1_percent,\n",
        "    epochs=10,\n",
        "    steps_per_epoch=len(train_data_1_percent),\n",
        "    validation_data = test_data_1_percent,\n",
        "    validation_steps = len(test_data_1_percent),\n",
        "    callbacks=[create_tensorboard_callback(\"transfer_learning_feature_extract\",\n",
        "                                             \"1_percent_train_data_WithAugmentation\"),\n",
        "               checkpoint_callback])"
      ],
      "metadata": {
        "id": "vUFOp03afq9f"
      },
      "execution_count": null,
      "outputs": []
    },
    {
      "cell_type": "code",
      "source": [
        "model_final.load_weights(checkpoint_path)"
      ],
      "metadata": {
        "id": "TL7Drn9jhxmB"
      },
      "execution_count": null,
      "outputs": []
    },
    {
      "cell_type": "code",
      "source": [
        "model_loadaded_checkpoint = model_final.evaluate(test_data_1_percent)"
      ],
      "metadata": {
        "id": "RK7VZcfgfrA7"
      },
      "execution_count": null,
      "outputs": []
    },
    {
      "cell_type": "code",
      "source": [
        "prediction_test = model_final.predict(test_data_1_percent)\n",
        "prediction_test"
      ],
      "metadata": {
        "id": "AKfLmPZQkNBu"
      },
      "execution_count": null,
      "outputs": []
    },
    {
      "cell_type": "markdown",
      "source": [
        "Model: \"model_1\"\n",
        "_________________________________________________________________\n",
        " Layer (type)                Output Shape              Param #   \n",
        "=================================================================\n",
        " Input Layer (InputLayer)    [(None, 224, 224, 3)]     0         \n",
        "                                                                 \n",
        " DATA_AUGMENTATION (Sequenti  (None, 224, 224, 3)      0         \n",
        " al)                                                             \n",
        "                                                                 \n",
        " efficientnetb0 (Functional)  (None, None, None, 1280)  4049571  \n",
        "                                                                 \n",
        " Global_Average2D (GlobalAve  (None, 1280)             0         \n",
        " ragePooling2D)                                                  \n",
        "                                                                 \n",
        " Dense_Layer (Dense)         (None, 10)                12810     \n",
        "                                                                 \n",
        "=================================================================\n",
        "Total params: 4,062,381\n",
        "Trainable params: 12,810\n",
        "Non-trainable params: 4,049,571\n",
        "_________________________________"
      ],
      "metadata": {
        "id": "4ZObI_1Mi1xq"
      }
    },
    {
      "cell_type": "code",
      "source": [
        "model_final.summary()"
      ],
      "metadata": {
        "id": "vBAIXZWXfrDk"
      },
      "execution_count": null,
      "outputs": []
    },
    {
      "cell_type": "code",
      "source": [
        "from extra.helper_functions import calculate_results\n"
      ],
      "metadata": {
        "id": "v6IvlotZi-bp"
      },
      "execution_count": null,
      "outputs": []
    },
    {
      "cell_type": "markdown",
      "source": [
        "High-level example of fine-tuning an EfficientNet model. Bottom layers (layers closer to the input data) stay frozen where as top layers (layers closer to the output data) are updated during training.\n",
        "\n",
        "So far our saved model has been trained using feature extraction transfer learning for 5 epochs on 10% of the training data and data augmentation.\n",
        "\n",
        "This means all of the layers in the base model (EfficientNetB0) were frozen during training.\n",
        "\n",
        "For our next experiment we're going to switch to fine-tuning transfer learning. This means we'll be using the same base model except we'll be unfreezing some of its layers (ones closest to the top) and running the model for a few more epochs.\n",
        "\n",
        "The idea with fine-tuning is to start customizing the pre-trained model more to our own data.\n",
        "\n",
        "🔑 Note: Fine-tuning usually works best after training a feature extraction model for a few epochs and with large amounts of data. For more on this, check out Keras' guide on Transfer learning & fine-tuning.\n",
        "\n",
        "We've verified our loaded model's performance, let's check out its layers."
      ],
      "metadata": {
        "id": "7xf4ocAxmzFl"
      }
    },
    {
      "cell_type": "markdown",
      "source": [
        "\n",
        "**These are layers of model which are all evaluated, with respect to Trainable or Non Trainable**\n",
        "```\n",
        "True\n",
        "True\n",
        "False\n",
        "True\n",
        "True\n",
        "```\n",
        "\n",
        "\n"
      ],
      "metadata": {
        "id": "Gqu56zCFm4Gl"
      }
    },
    {
      "cell_type": "code",
      "source": [
        "for layer in model_final.layers:\n",
        "  print(layer.trainable)\n",
        "\n"
      ],
      "metadata": {
        "id": "4PUirRQQjCiD"
      },
      "execution_count": null,
      "outputs": []
    },
    {
      "cell_type": "markdown",
      "source": [
        "We can even check layer by layer to see if the they're trainable."
      ],
      "metadata": {
        "id": "zzIlbMyznQbJ"
      }
    },
    {
      "cell_type": "code",
      "source": [
        "for layer_number, layer in enumerate(model_final.layers):\n",
        "\n",
        "  print(layer_number, layer.name, layer.trainable)"
      ],
      "metadata": {
        "id": "j9eh5h1unQS1"
      },
      "execution_count": null,
      "outputs": []
    },
    {
      "cell_type": "markdown",
      "source": [
        "Beautiful. This is exactly what we're after.\n",
        "\n",
        "Now to fine-tune the base model to our own data, we're going to unfreeze the top 10 layers and continue training our model for another 5 epochs.\n",
        "\n",
        "This means all of the base model's layers except for the last 10 will remain frozen and untrainable. And the weights in the remaining unfrozen layers will be updated during training.\n",
        "\n",
        "Ideally, we should see the model's performance improve.\n",
        "\n",
        "🤔 Question: How many layers should you unfreeze when training?\n",
        "\n",
        "There's no set rule for this. You could unfreeze every layer in the pretrained model or you could try unfreezing one layer at a time. Best to experiment with different amounts of unfreezing and fine-tuning to see what happens. Generally, the less data you have, the less layers you want to unfreeze and the more gradually you want to fine-tune.\n",
        "\n"
      ],
      "metadata": {
        "id": "_IuZPuHgo4Bl"
      }
    },
    {
      "cell_type": "code",
      "source": [
        "for layer_number, layer in enumerate(base_model.layers):\n",
        "\n",
        "  print(layer_number, layer.name, layer.trainable)"
      ],
      "metadata": {
        "id": "j5V-34LonIKp"
      },
      "execution_count": null,
      "outputs": []
    },
    {
      "cell_type": "code",
      "source": [],
      "metadata": {
        "id": "Hoo3yW60oxL2"
      },
      "execution_count": null,
      "outputs": []
    },
    {
      "cell_type": "markdown",
      "source": [
        "**To begin fine-tuning, we'll unfreeze the entire base model by setting its trainable attribute to True. Then we'll refreeze every layer in the base model except for the last 10 by looping through them and setting their trainable attribute to False. Finally, we'll recompile the model.**"
      ],
      "metadata": {
        "id": "4LqPUr2yoyNg"
      }
    },
    {
      "cell_type": "code",
      "source": [
        "base_model.trainable = True\n",
        "\n",
        "for layer in base_model.layers[:-10]:\n",
        "  layer.trainable=False"
      ],
      "metadata": {
        "id": "NIEUzwhwnINU"
      },
      "execution_count": null,
      "outputs": []
    },
    {
      "cell_type": "code",
      "source": [
        "for layer_name, layer in enumerate(base_model.layers):\n",
        "  print(layer_name, layer_number, layer.trainable)"
      ],
      "metadata": {
        "id": "3S8zHR4Cowwa"
      },
      "execution_count": null,
      "outputs": []
    },
    {
      "cell_type": "code",
      "source": [
        "fine_tune_epochs=10\n"
      ],
      "metadata": {
        "id": "-4BQ_dWPnIP5"
      },
      "execution_count": null,
      "outputs": []
    },
    {
      "cell_type": "code",
      "source": [
        "model_final.compile(\n",
        "    loss=tf.keras.losses.categorical_crossentropy,\n",
        "    optimizer=tf.keras.optimizers.Adam(learning_rate=0.0001),\n",
        "    metrics=[\"accuracy\"]\n",
        ")"
      ],
      "metadata": {
        "id": "-TGMB7oqnvnf"
      },
      "execution_count": null,
      "outputs": []
    },
    {
      "cell_type": "code",
      "source": [
        "for layer_name, layer in enumerate(model_final.layers):\n",
        "  print(layer_name, layer_number, layer.trainable)"
      ],
      "metadata": {
        "id": "5Kf_jF-GrUOB"
      },
      "execution_count": null,
      "outputs": []
    },
    {
      "cell_type": "code",
      "source": [
        "history_model = model_final.fit(train_data_1_percent,\n",
        "                                epochs=5,\n",
        "                                steps_per_epoch=len(train_data_1_percent),\n",
        "                                validation_data=test_data_1_percent,\n",
        "                                validation_steps=len(test_data_1_percent),\n",
        "                                callbacks=[create_tensorboard_callback(\"fine_tuning_transfer_learning\", \"fine_tuning_BaseModelEfficientB0\"),\n",
        "                                           checkpoint_callback])"
      ],
      "metadata": {
        "id": "IdI5p6yvrq7E"
      },
      "execution_count": null,
      "outputs": []
    },
    {
      "cell_type": "code",
      "source": [
        "model_evaluate = model_final.evaluate(test_dataset)"
      ],
      "metadata": {
        "id": "sgPEif2Cr2h-"
      },
      "execution_count": null,
      "outputs": []
    },
    {
      "cell_type": "code",
      "source": [
        "from extra.helper_functions import compare_historys"
      ],
      "metadata": {
        "id": "UDokeE2Yt1RX"
      },
      "execution_count": null,
      "outputs": []
    },
    {
      "cell_type": "markdown",
      "source": [
        "![comparing.png](data:image/png;base64,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)"
      ],
      "metadata": {
        "id": "l5EWPbb1uSRD"
      }
    },
    {
      "cell_type": "code",
      "source": [
        "compare_historys(history_augmentation,history_model)"
      ],
      "metadata": {
        "id": "nQv7zRMTtlOt"
      },
      "execution_count": null,
      "outputs": []
    },
    {
      "cell_type": "markdown",
      "source": [
        "\n",
        "[Tensorboard Fine Tuning-Transfer Learning](https://)https://tensorboard.dev/experiment/nDTKOuRKQxKPPd2XA8jpZA/#scalars"
      ],
      "metadata": {
        "id": "dpmY-fIhvPJe"
      }
    },
    {
      "cell_type": "code",
      "source": [
        "!tensorboard dev upload --logdir ./fine_tuning_transfer_learning/"
      ],
      "metadata": {
        "id": "pat20ICktlQ8"
      },
      "execution_count": null,
      "outputs": []
    }
  ]
}