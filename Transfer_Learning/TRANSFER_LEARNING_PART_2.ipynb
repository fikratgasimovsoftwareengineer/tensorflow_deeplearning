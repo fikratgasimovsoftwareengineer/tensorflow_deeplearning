{
  "nbformat": 4,
  "nbformat_minor": 0,
  "metadata": {
    "colab": {
      "provenance": [],
      "private_outputs": true
    },
    "kernelspec": {
      "name": "python3",
      "display_name": "Python 3"
    },
    "language_info": {
      "name": "python"
    },
    "accelerator": "GPU",
    "gpuClass": "standard"
  },
  "cells": [
    {
      "cell_type": "code",
      "execution_count": null,
      "metadata": {
        "id": "C3uDnoX76hCf"
      },
      "outputs": [],
      "source": [
        "#@title TENSORFLOW -  FINE TUNING PART 2"
      ]
    },
    {
      "cell_type": "code",
      "source": [
        "import tensorflow as tf\n",
        "import os"
      ],
      "metadata": {
        "id": "-_J6tZSHbCQ0"
      },
      "execution_count": null,
      "outputs": []
    },
    {
      "cell_type": "code",
      "source": [
        "!nvidia-smi"
      ],
      "metadata": {
        "id": "P7tCg3EJ0VKD"
      },
      "execution_count": null,
      "outputs": []
    },
    {
      "cell_type": "code",
      "source": [
        "!mkdir -p extra"
      ],
      "metadata": {
        "id": "F_tJC2QW0W6B"
      },
      "execution_count": null,
      "outputs": []
    },
    {
      "cell_type": "code",
      "source": [
        "!cd \"/content/extra\";touch helper_functions.py"
      ],
      "metadata": {
        "id": "_nmTsjQx0W8y"
      },
      "execution_count": null,
      "outputs": []
    },
    {
      "cell_type": "code",
      "source": [
        "from extra.helper_functions import unzip_filename, check_directory, image_to_tensor,tensorboard_create"
      ],
      "metadata": {
        "id": "M07MPqAR0W_k"
      },
      "execution_count": null,
      "outputs": []
    },
    {
      "cell_type": "code",
      "source": [
        "# Get 10% of the data of the 10 classes\n",
        "!wget https://storage.googleapis.com/ztm_tf_course/food_vision/10_food_classes_10_percent.zip "
      ],
      "metadata": {
        "id": "uJkWV5pYXQtk"
      },
      "execution_count": null,
      "outputs": []
    },
    {
      "cell_type": "code",
      "source": [
        "unzip_filename(\"/content/10_food_classes_10_percent.zip\")"
      ],
      "metadata": {
        "id": "eEvuAtnY0XCr"
      },
      "execution_count": null,
      "outputs": []
    },
    {
      "cell_type": "code",
      "source": [
        "check_directory(\"10_food_classes_10_percent\")"
      ],
      "metadata": {
        "id": "E42c1FKf0XHf"
      },
      "execution_count": null,
      "outputs": []
    },
    {
      "cell_type": "code",
      "source": [
        "train_dir =  \"/content/10_food_classes_10_percent/train\"\n",
        "test_dir = \"/content/10_food_classes_10_percent/test/\""
      ],
      "metadata": {
        "id": "WeJF1US_Zax4"
      },
      "execution_count": null,
      "outputs": []
    },
    {
      "cell_type": "code",
      "source": [
        "!ls -l \"/content/10_food_classes_10_percent/train\" | wc -l"
      ],
      "metadata": {
        "id": "KH6atE4lZa04"
      },
      "execution_count": null,
      "outputs": []
    },
    {
      "cell_type": "markdown",
      "source": [],
      "metadata": {
        "id": "5KJjpnGwam7T"
      }
    },
    {
      "cell_type": "code",
      "source": [
        "!ls -l \"/content/10_food_classes_10_percent/test/\" | wc -l"
      ],
      "metadata": {
        "id": "Uu7mDjfTZa3U"
      },
      "execution_count": null,
      "outputs": []
    },
    {
      "cell_type": "code",
      "source": [],
      "metadata": {
        "id": "h6nPMXAnbQMF"
      },
      "execution_count": null,
      "outputs": []
    },
    {
      "cell_type": "code",
      "source": [],
      "metadata": {
        "id": "lPrpoOLOZa6c"
      },
      "execution_count": null,
      "outputs": []
    },
    {
      "cell_type": "code",
      "source": [],
      "metadata": {
        "id": "pRrqlLvcZa8R"
      },
      "execution_count": null,
      "outputs": []
    }
  ]
}