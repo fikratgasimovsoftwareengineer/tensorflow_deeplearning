{
  "nbformat": 4,
  "nbformat_minor": 0,
  "metadata": {
    "colab": {
      "provenance": []
    },
    "kernelspec": {
      "name": "python3",
      "display_name": "Python 3"
    },
    "language_info": {
      "name": "python"
    },
    "accelerator": "GPU",
    "gpuClass": "standard"
  },
  "cells": [
    {
      "cell_type": "code",
      "execution_count": 1,
      "metadata": {
        "id": "bqjLaKopGaNm"
      },
      "outputs": [],
      "source": [
        "#@title **TRANSFER LEARNING**"
      ]
    },
    {
      "cell_type": "code",
      "source": [
        "import tensorflow as tf\n",
        "import pandas as pd\n",
        "from tensorflow import keras\n",
        "import os\n",
        "from tensorflow.keras.preprocessing.image import ImageDataGenerator\n",
        "from tensorflow.keras import layers\n",
        "import tensorflow_hub as hub\n",
        "import datetime\n",
        "import matplotlib.pyplot as plt\n"
      ],
      "metadata": {
        "id": "Kr3-V3d6OPvL"
      },
      "execution_count": 1,
      "outputs": []
    },
    {
      "cell_type": "code",
      "source": [
        "!nvidia-smi"
      ],
      "metadata": {
        "colab": {
          "base_uri": "https://localhost:8080/"
        },
        "id": "YqzxNRIdO5xR",
        "outputId": "41048728-64cc-4c58-a49d-dd71f8b94f27"
      },
      "execution_count": 2,
      "outputs": [
        {
          "output_type": "stream",
          "name": "stdout",
          "text": [
            "Mon Dec 12 14:02:53 2022       \n",
            "+-----------------------------------------------------------------------------+\n",
            "| NVIDIA-SMI 460.32.03    Driver Version: 460.32.03    CUDA Version: 11.2     |\n",
            "|-------------------------------+----------------------+----------------------+\n",
            "| GPU  Name        Persistence-M| Bus-Id        Disp.A | Volatile Uncorr. ECC |\n",
            "| Fan  Temp  Perf  Pwr:Usage/Cap|         Memory-Usage | GPU-Util  Compute M. |\n",
            "|                               |                      |               MIG M. |\n",
            "|===============================+======================+======================|\n",
            "|   0  Tesla T4            Off  | 00000000:00:04.0 Off |                    0 |\n",
            "| N/A   58C    P0    28W /  70W |      0MiB / 15109MiB |      0%      Default |\n",
            "|                               |                      |                  N/A |\n",
            "+-------------------------------+----------------------+----------------------+\n",
            "                                                                               \n",
            "+-----------------------------------------------------------------------------+\n",
            "| Processes:                                                                  |\n",
            "|  GPU   GI   CI        PID   Type   Process name                  GPU Memory |\n",
            "|        ID   ID                                                   Usage      |\n",
            "|=============================================================================|\n",
            "|  No running processes found                                                 |\n",
            "+-----------------------------------------------------------------------------+\n"
          ]
        }
      ]
    },
    {
      "cell_type": "code",
      "source": [
        "import zipfile\n",
        "# Download data\n",
        "!wget https://storage.googleapis.com/ztm_tf_course/food_vision/10_food_classes_10_percent.zip"
      ],
      "metadata": {
        "colab": {
          "base_uri": "https://localhost:8080/"
        },
        "id": "lY7sVh9NacU1",
        "outputId": "c689fed7-1c1a-4bef-86f6-4536fd8382a6"
      },
      "execution_count": 3,
      "outputs": [
        {
          "output_type": "stream",
          "name": "stdout",
          "text": [
            "--2022-12-12 14:03:21--  https://storage.googleapis.com/ztm_tf_course/food_vision/10_food_classes_10_percent.zip\n",
            "Resolving storage.googleapis.com (storage.googleapis.com)... 74.125.24.128, 172.217.194.128, 142.251.10.128, ...\n",
            "Connecting to storage.googleapis.com (storage.googleapis.com)|74.125.24.128|:443... connected.\n",
            "HTTP request sent, awaiting response... 200 OK\n",
            "Length: 168546183 (161M) [application/zip]\n",
            "Saving to: ‘10_food_classes_10_percent.zip’\n",
            "\n",
            "10_food_classes_10_ 100%[===================>] 160.74M  22.8MB/s    in 8.0s    \n",
            "\n",
            "2022-12-12 14:03:29 (20.2 MB/s) - ‘10_food_classes_10_percent.zip’ saved [168546183/168546183]\n",
            "\n"
          ]
        }
      ]
    },
    {
      "cell_type": "code",
      "source": [
        "#@title unzip dataset\n",
        "\n",
        "zip_data = zipfile.ZipFile(\"10_food_classes_10_percent.zip\")\n",
        "zip_data.extractall()\n",
        "zip_data.close()"
      ],
      "metadata": {
        "id": "t0XS3MUFacXi"
      },
      "execution_count": 4,
      "outputs": []
    },
    {
      "cell_type": "code",
      "source": [
        "# check data directory, path\n",
        "for dirpath, dirnames, filenames in os.walk(\"10_food_classes_10_percent\"):\n",
        "  print(f\"there are filenames in {len(filenames)} in directory {len(dirnames)} in the path of {dirpath}\")\n"
      ],
      "metadata": {
        "colab": {
          "base_uri": "https://localhost:8080/"
        },
        "id": "zfLUu86KjVXV",
        "outputId": "4547dcad-c2ba-4750-87a7-d6489e41d1a0"
      },
      "execution_count": 5,
      "outputs": [
        {
          "output_type": "stream",
          "name": "stdout",
          "text": [
            "there are filenames in 0 in directory 2 in the path of 10_food_classes_10_percent\n",
            "there are filenames in 0 in directory 10 in the path of 10_food_classes_10_percent/test\n",
            "there are filenames in 250 in directory 0 in the path of 10_food_classes_10_percent/test/grilled_salmon\n",
            "there are filenames in 250 in directory 0 in the path of 10_food_classes_10_percent/test/hamburger\n",
            "there are filenames in 250 in directory 0 in the path of 10_food_classes_10_percent/test/chicken_wings\n",
            "there are filenames in 250 in directory 0 in the path of 10_food_classes_10_percent/test/sushi\n",
            "there are filenames in 250 in directory 0 in the path of 10_food_classes_10_percent/test/ramen\n",
            "there are filenames in 250 in directory 0 in the path of 10_food_classes_10_percent/test/ice_cream\n",
            "there are filenames in 250 in directory 0 in the path of 10_food_classes_10_percent/test/fried_rice\n",
            "there are filenames in 250 in directory 0 in the path of 10_food_classes_10_percent/test/pizza\n",
            "there are filenames in 250 in directory 0 in the path of 10_food_classes_10_percent/test/chicken_curry\n",
            "there are filenames in 250 in directory 0 in the path of 10_food_classes_10_percent/test/steak\n",
            "there are filenames in 0 in directory 10 in the path of 10_food_classes_10_percent/train\n",
            "there are filenames in 75 in directory 0 in the path of 10_food_classes_10_percent/train/grilled_salmon\n",
            "there are filenames in 75 in directory 0 in the path of 10_food_classes_10_percent/train/hamburger\n",
            "there are filenames in 75 in directory 0 in the path of 10_food_classes_10_percent/train/chicken_wings\n",
            "there are filenames in 75 in directory 0 in the path of 10_food_classes_10_percent/train/sushi\n",
            "there are filenames in 75 in directory 0 in the path of 10_food_classes_10_percent/train/ramen\n",
            "there are filenames in 75 in directory 0 in the path of 10_food_classes_10_percent/train/ice_cream\n",
            "there are filenames in 75 in directory 0 in the path of 10_food_classes_10_percent/train/fried_rice\n",
            "there are filenames in 75 in directory 0 in the path of 10_food_classes_10_percent/train/pizza\n",
            "there are filenames in 75 in directory 0 in the path of 10_food_classes_10_percent/train/chicken_curry\n",
            "there are filenames in 75 in directory 0 in the path of 10_food_classes_10_percent/train/steak\n"
          ]
        }
      ]
    },
    {
      "cell_type": "code",
      "source": [
        "#@title TENSORBOARD API log_dir = \"logs/fit/\" + datetime.datetime.now().strftime(\"%Y%m%d-%H%M%S\") tensorboard_callback = tf.keras.callbacks.TensorBoard(log_dir=log_dir, histogram_freq=1)\n",
        "\n",
        "\n",
        "def callbacks_tensorboard(dir_name,experiment_name):\n",
        "  log_dir = dir_name + \"/\" + experiment_name + \"/\" + datetime.datetime.now().strftime(\"%Y%m%d-%H%M%S\")\n",
        "  tensorboard_logdir = tf.keras.callbacks.TensorBoard(\n",
        "      log_dir=log_dir\n",
        "  )\n",
        "\n",
        "  print(f\"Saving to log_dir: {log_dir}\")\n",
        "  return tensorboard_logdir"
      ],
      "metadata": {
        "id": "vk-cW9MovN_f"
      },
      "execution_count": 6,
      "outputs": []
    },
    {
      "cell_type": "code",
      "source": [
        "#@title PREPARE DATASET\n",
        "\n",
        "IMAGE_SHAPE=(224,224)\n",
        "BATCH_SIZE=32\n",
        "\n",
        "train_dir = \"/content/10_food_classes_10_percent/train/\"\n",
        "test_dir = \"/content/10_food_classes_10_percent/test/\""
      ],
      "metadata": {
        "id": "AOdImOn_kNjn"
      },
      "execution_count": 7,
      "outputs": []
    },
    {
      "cell_type": "code",
      "source": [
        "#@title ImageDataGenerator\n",
        "\n",
        "train_datagen = ImageDataGenerator(rescale=1/255.)\n",
        "test_datagen = ImageDataGenerator(rescale=1/255.)\n",
        "\n",
        "print(\"Training Samples: \")\n",
        "train_datagen_10 = train_datagen.flow_from_directory(\n",
        "    train_dir,\n",
        "    target_size=IMAGE_SHAPE,\n",
        "    batch_size=BATCH_SIZE,\n",
        "    class_mode='categorical'\n",
        ")\n",
        "print(\"\\n\")\n",
        "print(\"Testing Samples: \")\n",
        "test_datagen_10 = test_datagen.flow_from_directory(\n",
        "    test_dir,\n",
        "    target_size=IMAGE_SHAPE,\n",
        "    batch_size=BATCH_SIZE,\n",
        "    class_mode='categorical'\n",
        ")"
      ],
      "metadata": {
        "colab": {
          "base_uri": "https://localhost:8080/"
        },
        "id": "hTY01EgGkdeE",
        "outputId": "dd1f0289-3ef6-4347-c9c6-d7362d7a6d4d"
      },
      "execution_count": 8,
      "outputs": [
        {
          "output_type": "stream",
          "name": "stdout",
          "text": [
            "Training Samples: \n",
            "Found 750 images belonging to 10 classes.\n",
            "\n",
            "\n",
            "Testing Samples: \n",
            "Found 2500 images belonging to 10 classes.\n"
          ]
        }
      ]
    },
    {
      "cell_type": "code",
      "source": [
        "#@title _EFFICIENT_B0_ AND _RESNET_V2_50 FOR IMAGE CLASSIFICATION FROM **TENSORFLOW HUB**\n",
        "\n",
        "url_efficient_b0 = \"https://tfhub.dev/tensorflow/efficientnet/b0/feature-vector/1\"\n",
        "url_resnetv2_50 = \"https://tfhub.dev/google/imagenet/resnet_v2_50/feature_vector/5\""
      ],
      "metadata": {
        "id": "i1I37nnnSYKV"
      },
      "execution_count": 9,
      "outputs": []
    },
    {
      "cell_type": "code",
      "source": [
        "#create modeL FOR RESNETV2-50\n",
        "\n",
        "def model_create(model_url, num_classes):\n",
        "\n",
        "  feature_extraction_layer = hub.KerasLayer(url_resnetv2_50,\n",
        "                         trainable=False,\n",
        "                         name='feature_extraction_layer',\n",
        "                         input_shape=IMAGE_SHAPE + (3,)) #\n",
        "\n",
        "  ## add last dense layer\n",
        "\n",
        "  model = tf.keras.Sequential([\n",
        "      feature_extraction_layer,\n",
        "      tf.keras.layers.Dense(num_classes, activation='softmax', name=\"output_dense\")\n",
        "  ])\n",
        "\n",
        "  return model"
      ],
      "metadata": {
        "id": "37yCPKASaUMV"
      },
      "execution_count": 10,
      "outputs": []
    },
    {
      "cell_type": "code",
      "source": [
        "resnet_model = model_create(url_resnetv2_50, num_classes=train_datagen_10.num_classes)"
      ],
      "metadata": {
        "id": "JhrRBw8paURj"
      },
      "execution_count": 11,
      "outputs": []
    },
    {
      "cell_type": "code",
      "source": [
        "resnet_model.compile(\n",
        "    loss=tf.keras.losses.categorical_crossentropy,\n",
        "    optimizer = tf.keras.optimizers.Adam(),\n",
        "    metrics=['accuracy']\n",
        ")"
      ],
      "metadata": {
        "id": "7--tUbD9aUUy"
      },
      "execution_count": 14,
      "outputs": []
    },
    {
      "cell_type": "code",
      "source": [
        "#@title with callbacks\n",
        "resnet_history = resnet_model.fit(train_datagen_10, epochs=10, steps_per_epoch=len(train_datagen_10), validation_data=test_datagen_10, \n",
        "                                  validation_split=len(test_datagen_10),\n",
        "                                  callbacks = [callbacks_tensorboard(dir_name=\"tensorflow_resnet\",\n",
        "                                                                     experiment_name=\"ResnetV2--50\")])"
      ],
      "metadata": {
        "id": "RliaMxrDaUX1",
        "colab": {
          "base_uri": "https://localhost:8080/"
        },
        "outputId": "9222f7b3-484c-447b-bbfa-8274ece39f52"
      },
      "execution_count": 26,
      "outputs": [
        {
          "output_type": "stream",
          "name": "stdout",
          "text": [
            "Saving to log_dir: tensorflow_resnet/ResnetV2--50/20221212-095529\n",
            "Epoch 1/10\n",
            "24/24 [==============================] - 29s 748ms/step - loss: 1.8560 - accuracy: 0.3693 - val_loss: 1.1533 - val_accuracy: 0.6440\n",
            "Epoch 2/10\n",
            "24/24 [==============================] - 16s 670ms/step - loss: 0.8690 - accuracy: 0.7520 - val_loss: 0.8116 - val_accuracy: 0.7472\n",
            "Epoch 3/10\n",
            "24/24 [==============================] - 16s 673ms/step - loss: 0.5869 - accuracy: 0.8440 - val_loss: 0.7237 - val_accuracy: 0.7692\n",
            "Epoch 4/10\n",
            "24/24 [==============================] - 16s 706ms/step - loss: 0.4562 - accuracy: 0.8880 - val_loss: 0.6864 - val_accuracy: 0.7808\n",
            "Epoch 5/10\n",
            "24/24 [==============================] - 24s 1s/step - loss: 0.3784 - accuracy: 0.9173 - val_loss: 0.6587 - val_accuracy: 0.7856\n",
            "Epoch 6/10\n",
            "24/24 [==============================] - 16s 675ms/step - loss: 0.3069 - accuracy: 0.9373 - val_loss: 0.6534 - val_accuracy: 0.7888\n",
            "Epoch 7/10\n",
            "24/24 [==============================] - 16s 668ms/step - loss: 0.2525 - accuracy: 0.9587 - val_loss: 0.6398 - val_accuracy: 0.7936\n",
            "Epoch 8/10\n",
            "24/24 [==============================] - 16s 672ms/step - loss: 0.2153 - accuracy: 0.9720 - val_loss: 0.6298 - val_accuracy: 0.7952\n",
            "Epoch 9/10\n",
            "24/24 [==============================] - 16s 667ms/step - loss: 0.1842 - accuracy: 0.9813 - val_loss: 0.6203 - val_accuracy: 0.7996\n",
            "Epoch 10/10\n",
            "24/24 [==============================] - 16s 664ms/step - loss: 0.1613 - accuracy: 0.9880 - val_loss: 0.6212 - val_accuracy: 0.7948\n"
          ]
        }
      ]
    },
    {
      "cell_type": "code",
      "source": [
        "#@title Without Callbacks\n",
        "resnet_history = resnet_model.fit(train_datagen_10, epochs=10, steps_per_epoch=len(train_datagen_10), validation_data=test_datagen_10, \n",
        "                                  validation_split=len(test_datagen_10))"
      ],
      "metadata": {
        "colab": {
          "base_uri": "https://localhost:8080/"
        },
        "id": "ekLhzpa_pqNC",
        "outputId": "54391a44-1b44-4321-aad1-6f4129b25f66"
      },
      "execution_count": 15,
      "outputs": [
        {
          "output_type": "stream",
          "name": "stdout",
          "text": [
            "Epoch 1/10\n",
            "24/24 [==============================] - 28s 745ms/step - loss: 1.9004 - accuracy: 0.3613 - val_loss: 1.1962 - val_accuracy: 0.6316\n",
            "Epoch 2/10\n",
            "24/24 [==============================] - 16s 667ms/step - loss: 0.8956 - accuracy: 0.7347 - val_loss: 0.8681 - val_accuracy: 0.7252\n",
            "Epoch 3/10\n",
            "24/24 [==============================] - 15s 662ms/step - loss: 0.6181 - accuracy: 0.8173 - val_loss: 0.7944 - val_accuracy: 0.7296\n",
            "Epoch 4/10\n",
            "24/24 [==============================] - 16s 693ms/step - loss: 0.4778 - accuracy: 0.8653 - val_loss: 0.7138 - val_accuracy: 0.7616\n",
            "Epoch 5/10\n",
            "24/24 [==============================] - 16s 686ms/step - loss: 0.3799 - accuracy: 0.9080 - val_loss: 0.6928 - val_accuracy: 0.7692\n",
            "Epoch 6/10\n",
            "24/24 [==============================] - 15s 660ms/step - loss: 0.3159 - accuracy: 0.9413 - val_loss: 0.6684 - val_accuracy: 0.7740\n",
            "Epoch 7/10\n",
            "24/24 [==============================] - 15s 662ms/step - loss: 0.2643 - accuracy: 0.9493 - val_loss: 0.6521 - val_accuracy: 0.7736\n",
            "Epoch 8/10\n",
            "24/24 [==============================] - 15s 664ms/step - loss: 0.2237 - accuracy: 0.9653 - val_loss: 0.6475 - val_accuracy: 0.7784\n",
            "Epoch 9/10\n",
            "24/24 [==============================] - 15s 656ms/step - loss: 0.1906 - accuracy: 0.9773 - val_loss: 0.6441 - val_accuracy: 0.7780\n",
            "Epoch 10/10\n",
            "24/24 [==============================] - 24s 1s/step - loss: 0.1658 - accuracy: 0.9787 - val_loss: 0.6369 - val_accuracy: 0.7816\n"
          ]
        }
      ]
    },
    {
      "cell_type": "code",
      "source": [],
      "metadata": {
        "colab": {
          "base_uri": "https://localhost:8080/",
          "height": 299
        },
        "id": "2nafWR9ltcQT",
        "outputId": "f7d34116-c70d-4518-b8eb-42867a8b9f8c"
      },
      "execution_count": 24,
      "outputs": [
        {
          "output_type": "error",
          "ename": "ValueError",
          "evalue": "ignored",
          "traceback": [
            "\u001b[0;31m---------------------------------------------------------------------------\u001b[0m",
            "\u001b[0;31mValueError\u001b[0m                                Traceback (most recent call last)",
            "\u001b[0;32m<ipython-input-24-734309ec4d16>\u001b[0m in \u001b[0;36m<module>\u001b[0;34m\u001b[0m\n\u001b[0;32m----> 1\u001b[0;31m \u001b[0mdf_res\u001b[0m \u001b[0;34m=\u001b[0m \u001b[0mpd\u001b[0m\u001b[0;34m.\u001b[0m\u001b[0mDataFrame\u001b[0m\u001b[0;34m(\u001b[0m\u001b[0mresnet_history\u001b[0m\u001b[0;34m)\u001b[0m\u001b[0;34m\u001b[0m\u001b[0;34m\u001b[0m\u001b[0m\n\u001b[0m",
            "\u001b[0;32m/usr/local/lib/python3.8/dist-packages/pandas/core/frame.py\u001b[0m in \u001b[0;36m__init__\u001b[0;34m(self, data, index, columns, dtype, copy)\u001b[0m\n\u001b[1;32m    728\u001b[0m         \u001b[0;32melse\u001b[0m\u001b[0;34m:\u001b[0m\u001b[0;34m\u001b[0m\u001b[0;34m\u001b[0m\u001b[0m\n\u001b[1;32m    729\u001b[0m             \u001b[0;32mif\u001b[0m \u001b[0mindex\u001b[0m \u001b[0;32mis\u001b[0m \u001b[0;32mNone\u001b[0m \u001b[0;32mor\u001b[0m \u001b[0mcolumns\u001b[0m \u001b[0;32mis\u001b[0m \u001b[0;32mNone\u001b[0m\u001b[0;34m:\u001b[0m\u001b[0;34m\u001b[0m\u001b[0;34m\u001b[0m\u001b[0m\n\u001b[0;32m--> 730\u001b[0;31m                 \u001b[0;32mraise\u001b[0m \u001b[0mValueError\u001b[0m\u001b[0;34m(\u001b[0m\u001b[0;34m\"DataFrame constructor not properly called!\"\u001b[0m\u001b[0;34m)\u001b[0m\u001b[0;34m\u001b[0m\u001b[0;34m\u001b[0m\u001b[0m\n\u001b[0m\u001b[1;32m    731\u001b[0m \u001b[0;34m\u001b[0m\u001b[0m\n\u001b[1;32m    732\u001b[0m             \u001b[0;31m# Argument 1 to \"ensure_index\" has incompatible type \"Collection[Any]\";\u001b[0m\u001b[0;34m\u001b[0m\u001b[0;34m\u001b[0m\u001b[0;34m\u001b[0m\u001b[0m\n",
            "\u001b[0;31mValueError\u001b[0m: DataFrame constructor not properly called!"
          ]
        }
      ]
    },
    {
      "cell_type": "code",
      "source": [
        "!tensorboard dev upload --logdir ./tensorflow_resnet/\n"
      ],
      "metadata": {
        "colab": {
          "base_uri": "https://localhost:8080/"
        },
        "id": "LW3ceeifzdSF",
        "outputId": "b75af9fc-e818-4003-e661-f63baaca85e4"
      },
      "execution_count": 43,
      "outputs": [
        {
          "output_type": "stream",
          "name": "stdout",
          "text": [
            "\n",
            "***** TensorBoard Uploader *****\n",
            "\n",
            "This will upload your TensorBoard logs to https://tensorboard.dev/ from\n",
            "the following directory:\n",
            "\n",
            "./tensorflow_resnet/\n",
            "\n",
            "This TensorBoard will be visible to everyone. Do not upload sensitive\n",
            "data.\n",
            "\n",
            "Your use of this service is subject to Google's Terms of Service\n",
            "<https://policies.google.com/terms> and Privacy Policy\n",
            "<https://policies.google.com/privacy>, and TensorBoard.dev's Terms of Service\n",
            "<https://tensorboard.dev/policy/terms/>.\n",
            "\n",
            "This notice will not be shown again while you are logged into the uploader.\n",
            "To log out, run `tensorboard dev auth revoke`.\n",
            "\n",
            "Continue? (yes/NO) yes\n",
            "\n",
            "Please visit this URL to authorize this application: https://accounts.google.com/o/oauth2/auth?response_type=code&client_id=373649185512-8v619h5kft38l4456nm2dj4ubeqsrvh6.apps.googleusercontent.com&redirect_uri=urn%3Aietf%3Awg%3Aoauth%3A2.0%3Aoob&scope=openid+https%3A%2F%2Fwww.googleapis.com%2Fauth%2Fuserinfo.email&state=TS1ZR5Ulv5aFUHK1kLAamUHllMFt1x&prompt=consent&access_type=offline\n",
            "Enter the authorization code: 4/1AfgeXvtELYKKWAIKhMVKcee8lcaPatR-2k14rPMX9wj6My8oXWIy1tnj8FI\n",
            "\n",
            "Upload started and will continue reading any new data as it's added to the logdir.\n",
            "\n",
            "To stop uploading, press Ctrl-C.\n",
            "\n",
            "New experiment created. View your TensorBoard at: https://tensorboard.dev/experiment/frofw8D9QcyebGkRgZAX8w/\n",
            "\n",
            "\u001b[1m[2022-12-12T10:11:16]\u001b[0m Started scanning logdir.\n",
            "\u001b[1m[2022-12-12T10:11:17]\u001b[0m Total uploaded: 60 scalars, 0 tensors, 1 binary objects (1.6 MB)\n",
            "\n",
            "\n",
            "Interrupted. View your TensorBoard at https://tensorboard.dev/experiment/frofw8D9QcyebGkRgZAX8w/\n",
            "Traceback (most recent call last):\n",
            "  File \"/usr/local/bin/tensorboard\", line 8, in <module>\n",
            "    sys.exit(run_main())\n",
            "  File \"/usr/local/lib/python3.8/dist-packages/tensorboard/main.py\", line 46, in run_main\n",
            "    app.run(tensorboard.main, flags_parser=tensorboard.configure)\n",
            "  File \"/usr/local/lib/python3.8/dist-packages/absl/app.py\", line 308, in run\n",
            "    _run_main(main, args)\n",
            "  File \"/usr/local/lib/python3.8/dist-packages/absl/app.py\", line 254, in _run_main\n",
            "    sys.exit(main(argv))\n",
            "  File \"/usr/local/lib/python3.8/dist-packages/tensorboard/program.py\", line 276, in main\n",
            "    return runner(self.flags) or 0\n",
            "  File \"/usr/local/lib/python3.8/dist-packages/tensorboard/uploader/uploader_subcommand.py\", line 692, in run\n",
            "    return _run(flags, self._experiment_url_callback)\n",
            "  File \"/usr/local/lib/python3.8/dist-packages/tensorboard/uploader/uploader_subcommand.py\", line 125, in _run\n",
            "    intent.execute(server_info, channel)\n",
            "KeyboardInterrupt\n",
            "^C\n"
          ]
        }
      ]
    },
    {
      "cell_type": "code",
      "source": [
        "!tensorboard dev list"
      ],
      "metadata": {
        "colab": {
          "base_uri": "https://localhost:8080/"
        },
        "id": "z5gT0HjI1WWt",
        "outputId": "259251c3-0add-44d6-d03a-97ff7ccda4a7"
      },
      "execution_count": 44,
      "outputs": [
        {
          "output_type": "stream",
          "name": "stdout",
          "text": [
            "https://tensorboard.dev/experiment/frofw8D9QcyebGkRgZAX8w/\n",
            "\tName                 [No Name]\n",
            "\tDescription          [No Description]\n",
            "\tId                   frofw8D9QcyebGkRgZAX8w\n",
            "\tCreated              2022-12-12 10:11:16 (4 minutes ago)\n",
            "\tUpdated              2022-12-12 10:11:17 (4 minutes ago)\n",
            "\tRuns                 2\n",
            "\tTags                 5\n",
            "\tScalars              60\n",
            "\tTensor bytes         0\n",
            "\tBinary object bytes  1719970\n",
            "Total: 1 experiment(s)\n"
          ]
        }
      ]
    },
    {
      "cell_type": "code",
      "source": [
        "#@title RESULT OF RESNETV2-50  https://tensorboard.dev/experiment/frofw8D9QcyebGkRgZAX8w/#scalars&_smoothingWeight=0.609"
      ],
      "metadata": {
        "id": "noApHf2J0qkH"
      },
      "execution_count": null,
      "outputs": []
    },
    {
      "cell_type": "code",
      "source": [],
      "metadata": {
        "id": "dAmLgaBo1Dem"
      },
      "execution_count": null,
      "outputs": []
    },
    {
      "cell_type": "code",
      "source": [
        "#@title LETS START WITH EFFIFICIENTB0\n",
        "\n",
        "#creat model for efficinet b0\n",
        "\n",
        "def create_model(model_url, num_classes):\n",
        "\n",
        "  feature_extraction_efficentb0 = hub.KerasLayer(model_url, trainable=False,\n",
        "                                                 name=\"efficient_feature_extraction\",\n",
        "                                                 input_shape=IMAGE_SHAPE+(3,))\n",
        "  model = tf.keras.Sequential([\n",
        "      \n",
        "      feature_extraction_efficentb0,\n",
        "      tf.keras.layers.Dense(num_classes, activation='softmax', name=\"efficinet_layer_dense\")\n",
        "  ])\n",
        "  return model\n"
      ],
      "metadata": {
        "id": "ccxH_KtN1DlD"
      },
      "execution_count": 17,
      "outputs": []
    },
    {
      "cell_type": "code",
      "source": [
        "model_efficient = create_model(url_efficient_b0, num_classes=train_datagen_10.num_classes)"
      ],
      "metadata": {
        "id": "iZzANcvZ2xTE"
      },
      "execution_count": 54,
      "outputs": []
    },
    {
      "cell_type": "code",
      "source": [
        "model_efficient.compile(  \n",
        "                      \n",
        "    loss=tf.keras.losses.categorical_crossentropy,\n",
        "\n",
        "    optimizer=tf.keras.optimizers.Adam(),\n",
        "\n",
        "    metrics = ['accuracy']\n",
        ")\n"
      ],
      "metadata": {
        "id": "F3dIeNKM3HSz"
      },
      "execution_count": 55,
      "outputs": []
    },
    {
      "cell_type": "code",
      "source": [
        "model_efficient.fit(train_datagen_10, epochs=10, steps_per_epoch=len(train_datagen_10), validation_data=test_datagen_10, validation_steps=len(test_datagen_10),\n",
        "                    callbacks=[callbacks_tensorboard(dir_name=\"tensorflow_ufficinet\",\n",
        "                                                     experiment_name=\"EFFICINET IMAGE\")])"
      ],
      "metadata": {
        "colab": {
          "base_uri": "https://localhost:8080/"
        },
        "id": "qu5JOuBH3ms7",
        "outputId": "2403c336-1169-4157-c15a-794724af4624"
      },
      "execution_count": 56,
      "outputs": [
        {
          "output_type": "stream",
          "name": "stdout",
          "text": [
            "Saving to log_dir: tensorflow_ufficinet/EFFICINET IMAGE/20221212-102838\n",
            "Epoch 1/10\n",
            "24/24 [==============================] - 26s 716ms/step - loss: 1.8113 - accuracy: 0.4333 - val_loss: 1.2796 - val_accuracy: 0.7416\n",
            "Epoch 2/10\n",
            "24/24 [==============================] - 15s 643ms/step - loss: 1.0389 - accuracy: 0.7733 - val_loss: 0.8529 - val_accuracy: 0.8220\n",
            "Epoch 3/10\n",
            "24/24 [==============================] - 15s 647ms/step - loss: 0.7443 - accuracy: 0.8333 - val_loss: 0.6885 - val_accuracy: 0.8464\n",
            "Epoch 4/10\n",
            "24/24 [==============================] - 15s 645ms/step - loss: 0.5946 - accuracy: 0.8693 - val_loss: 0.6049 - val_accuracy: 0.8560\n",
            "Epoch 5/10\n",
            "24/24 [==============================] - 15s 641ms/step - loss: 0.5043 - accuracy: 0.8893 - val_loss: 0.5521 - val_accuracy: 0.8600\n",
            "Epoch 6/10\n",
            "24/24 [==============================] - 15s 646ms/step - loss: 0.4388 - accuracy: 0.9027 - val_loss: 0.5187 - val_accuracy: 0.8656\n",
            "Epoch 7/10\n",
            "24/24 [==============================] - 24s 1s/step - loss: 0.3863 - accuracy: 0.9173 - val_loss: 0.4910 - val_accuracy: 0.8664\n",
            "Epoch 8/10\n",
            "24/24 [==============================] - 15s 646ms/step - loss: 0.3447 - accuracy: 0.9347 - val_loss: 0.4710 - val_accuracy: 0.8732\n",
            "Epoch 9/10\n",
            "24/24 [==============================] - 15s 648ms/step - loss: 0.3095 - accuracy: 0.9347 - val_loss: 0.4571 - val_accuracy: 0.8716\n",
            "Epoch 10/10\n",
            "24/24 [==============================] - 15s 640ms/step - loss: 0.2802 - accuracy: 0.9533 - val_loss: 0.4444 - val_accuracy: 0.8732\n"
          ]
        },
        {
          "output_type": "execute_result",
          "data": {
            "text/plain": [
              "<keras.callbacks.History at 0x7f2803abfa60>"
            ]
          },
          "metadata": {},
          "execution_count": 56
        }
      ]
    },
    {
      "cell_type": "code",
      "source": [
        "!tensorboard dev upload --logdir ./tensorflow_ufficinet/"
      ],
      "metadata": {
        "colab": {
          "base_uri": "https://localhost:8080/"
        },
        "id": "jsTAhUAw3YnH",
        "outputId": "0661ae84-9279-4f9f-b309-465e1b5baf0b"
      },
      "execution_count": 58,
      "outputs": [
        {
          "output_type": "stream",
          "name": "stdout",
          "text": [
            "Upload started and will continue reading any new data as it's added to the logdir.\n",
            "\n",
            "To stop uploading, press Ctrl-C.\n",
            "\n",
            "New experiment created. View your TensorBoard at: https://tensorboard.dev/experiment/Xc1ZL1xwSnmQG9a6zfySaQ/\n",
            "\n",
            "\u001b[1m[2022-12-12T10:34:00]\u001b[0m Started scanning logdir.\n",
            "\u001b[1m[2022-12-12T10:34:01]\u001b[0m Total uploaded: 60 scalars, 0 tensors, 1 binary objects (3.9 MB)\n",
            "\n",
            "\n",
            "Interrupted. View your TensorBoard at https://tensorboard.dev/experiment/Xc1ZL1xwSnmQG9a6zfySaQ/\n",
            "Traceback (most recent call last):\n",
            "  File \"/usr/local/bin/tensorboard\", line 8, in <module>\n",
            "    sys.exit(run_main())\n",
            "  File \"/usr/local/lib/python3.8/dist-packages/tensorboard/main.py\", line 46, in run_main\n",
            "    app.run(tensorboard.main, flags_parser=tensorboard.configure)\n",
            "  File \"/usr/local/lib/python3.8/dist-packages/absl/app.py\", line 308, in run\n",
            "    _run_main(main, args)\n",
            "  File \"/usr/local/lib/python3.8/dist-packages/absl/app.py\", line 254, in _run_main\n",
            "    sys.exit(main(argv))\n",
            "  File \"/usr/local/lib/python3.8/dist-packages/tensorboard/program.py\", line 276, in main\n",
            "    return runner(self.flags) or 0\n",
            "  File \"/usr/local/lib/python3.8/dist-packages/tensorboard/uploader/uploader_subcommand.py\", line 692, in run\n",
            "    return _run(flags, self._experiment_url_callback)\n",
            "  File \"/usr/local/lib/python3.8/dist-packages/tensorboard/uploader/uploader_subcommand.py\", line 125, in _run\n",
            "    intent.execute(server_info, channel)\n",
            "  File \"/usr/local/lib/python3.8/dist-packages/grpc/_channel.py\", line 1564, in __exit__\n",
            "    self._close()\n",
            "  File \"/usr/local/lib/python3.8/dist-packages/grpc/_channel.py\", line 1550, in _close\n",
            "    self._channel.close(cygrpc.StatusCode.cancelled, 'Channel closed!')\n",
            "  File \"src/python/grpcio/grpc/_cython/_cygrpc/channel.pyx.pxi\", line 513, in grpc._cython.cygrpc.Channel.close\n",
            "  File \"src/python/grpcio/grpc/_cython/_cygrpc/channel.pyx.pxi\", line 399, in grpc._cython.cygrpc._close\n",
            "  File \"src/python/grpcio/grpc/_cython/_cygrpc/channel.pyx.pxi\", line 429, in grpc._cython.cygrpc._close\n",
            "  File \"/usr/lib/python3.8/threading.py\", line 364, in notify_all\n",
            "    def notify_all(self):\n",
            "KeyboardInterrupt\n",
            "^C\n"
          ]
        }
      ]
    },
    {
      "cell_type": "code",
      "source": [
        "#@title **EFFICINET RESULTS**: https://tensorboard.dev/experiment/Xc1ZL1xwSnmQG9a6zfySaQ/   **EFFICINET OVERCOMES RESNETV2-50 ON LOSS CURVE AND ACCURACY FOR VALIDATION STEPS**"
      ],
      "metadata": {
        "id": "pQrOaOiR5z0P"
      },
      "execution_count": null,
      "outputs": []
    },
    {
      "cell_type": "code",
      "source": [],
      "metadata": {
        "id": "plvYbWGvpKvW"
      },
      "execution_count": null,
      "outputs": []
    },
    {
      "cell_type": "code",
      "source": [
        "#@title MATPLOTLIB METRICS\n",
        "\n",
        "def plot_curves(history):\n",
        "\n",
        "  loss = history.history[\"loss\"]\n",
        "  val_loss = history.history[\"val_loss\"]\n",
        "\n",
        "  accuracy = history.history[\"accuracy\"]\n",
        "  val_accuracy = history.history[\"val_accuracy\"]\n",
        "\n",
        "  epochs = range(10)\n",
        "  #cureve\n",
        "  #loss\n",
        "\n",
        "  plt.plot(loss, epochs, label=\"Training Loss\")\n",
        "  plt.plot(val_loss, epochs, label = \"Validation Loss\")\n",
        "  plt.title(\"Loss Model\")\n",
        " # plt.axis(False)\n",
        "  plt.legend()\n",
        "  plt.figure()\n",
        "\n",
        "\n",
        "  plt.plot( accuracy, epochs, label=\"Training Accuracy\")\n",
        "  plt.plot( val_accuracy , epochs, label = \"Validation Accuracy\")\n",
        "  plt.title(\"Model Accuracy\")\n",
        "  plt.legend()\n"
      ],
      "metadata": {
        "id": "48SkXm1Lj1Ci"
      },
      "execution_count": 29,
      "outputs": []
    },
    {
      "cell_type": "code",
      "source": [
        "plot_curves(resnet_history)"
      ],
      "metadata": {
        "colab": {
          "base_uri": "https://localhost:8080/",
          "height": 545
        },
        "id": "ukHu24zvs-wD",
        "outputId": "efd1f892-5e37-4606-aac1-d090b3c00325"
      },
      "execution_count": 30,
      "outputs": [
        {
          "output_type": "display_data",
          "data": {
            "text/plain": [
              "<Figure size 432x288 with 1 Axes>"
            ],
            "image/png": "[encoded data removed]"
          },
          "metadata": {
            "needs_background": "light"
          }
        },
        {
          "output_type": "display_data",
          "data": {
            "text/plain": [
              "<Figure size 432x288 with 1 Axes>"
            ],
            "image/png": "[encoded data removed]"
          },
          "metadata": {
            "needs_background": "light"
          }
        }
      ]
    }
  ]
}